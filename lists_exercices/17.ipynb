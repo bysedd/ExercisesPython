{
 "cells": [
  {
   "cell_type": "markdown",
   "metadata": {},
   "source": [
    "### Em uma competição de salto em distância cada atleta tem direito a cinco saltos. O resultado do atleta será determinado pela média dos cinco valores restantes. Você deve fazer um programa que receba o nome e as cinco distâncias alcançadas pelo atleta em seus saltos e depois informe o nome, os saltos e a média dos saltos. O programa deve ser encerrado quando não for informado o nome do atleta. A saída do programa deve ser conforme o exemplo abaixo:\n",
    "    Atleta: Rodrigo Curvêllo\n",
    "    \n",
    "    Primeiro Salto: 6.5 m\n",
    "    Segundo Salto: 6.1 m\n",
    "    Terceiro Salto: 6.2 m\n",
    "    Quarto Salto: 5.4 m\n",
    "    Quinto Salto: 5.3 m\n",
    "\n",
    "    Resultado final:\n",
    "    Atleta: Rodrigo Curvêllo\n",
    "    Saltos: 6.5 - 6.1 - 6.2 - 5.4 - 5.3\n",
    "    Média dos saltos: 5.9 m"
   ]
  },
  {
   "cell_type": "code",
   "execution_count": 44,
   "metadata": {},
   "outputs": [],
   "source": [
    "def formatar_lista(lista: list):\n",
    "    return str(lista).replace(',', ' -').replace('[', '').replace(']', '')"
   ]
  },
  {
   "cell_type": "code",
   "execution_count": null,
   "metadata": {},
   "outputs": [],
   "source": [
    "extenso = ['Primeiro', 'Segundo', 'Terceiro', 'Quarto', 'Quinto']"
   ]
  },
  {
   "cell_type": "code",
   "execution_count": 45,
   "metadata": {},
   "outputs": [
    {
     "name": "stdout",
     "output_type": "stream",
     "text": [
      "-=-=-=-=-=-=-=-=-=-=-=-=-=-=-=-=-=-=-=-=-=-=-=-=-=-=-=-=-=-=\n",
      "Atleta: Rodrigo Curvêllo\n",
      "\n",
      "Primeiro Salto: 6.5 m\n",
      "Segundo Salto: 6.1 m\n",
      "Terceiro Salto: 6.2 m\n",
      "Quarto Salto: 5.4 m\n",
      "Quinto Salto: 5.3 m\n",
      "\n",
      "Resultado final:\n",
      "Atleta: Rodrigo Curvêllo\n",
      "Saltos: 6.5 - 6.1 - 6.2 - 5.4 - 5.3\n",
      "Média dos saltos: 5.9\n",
      "-=-=-=-=-=-=-=-=-=-=-=-=-=-=-=-=-=-=-=-=-=-=-=-=-=-=-=-=-=-=\n",
      "Atleta: FP Do Trem\n",
      "\n",
      "Primeiro Salto: 6.7 m\n",
      "Segundo Salto: 7.8 m\n",
      "Terceiro Salto: 8.9 m\n",
      "Quarto Salto: 9.8 m\n",
      "Quinto Salto: 5.5 m\n",
      "\n",
      "Resultado final:\n",
      "Atleta: FP Do Trem\n",
      "Saltos: 6.66 - 7.77 - 8.88 - 9.777 - 5.55\n",
      "Média dos saltos: 7.7\n",
      "-=-=-=-=-=-=-=-=-=-=-=-=-=-=-=-=-=-=-=-=-=-=-=-=-=-=-=-=-=-=\n",
      "Atleta: Lil Vinincin\n",
      "\n",
      "Primeiro Salto: 5.5 m\n",
      "Segundo Salto: 5.6 m\n",
      "Terceiro Salto: 6.9 m\n",
      "Quarto Salto: 7.0 m\n",
      "Quinto Salto: 7.0 m\n",
      "\n",
      "Resultado final:\n",
      "Atleta: Lil Vinincin\n",
      "Saltos: 5.5 - 5.6 - 6.9 - 6.99 - 6.969\n",
      "Média dos saltos: 6.4\n",
      "-=-=-=-=-=-=-=-=-=-=-=-=-=-=-=-=-=-=-=-=-=-=-=-=-=-=-=-=-=-=\n"
     ]
    }
   ],
   "source": [
    "while True:\n",
    "    print('-=' * 30)\n",
    "    nome = input('Nome:').split().capitalize()\n",
    "    if not nome:\n",
    "        break\n",
    "\n",
    "    saltos = [float(input(f'#{j + 1}º salto:')) for j in range(5)]\n",
    "    media = round(sum(saltos) / 5, 1)\n",
    "    \n",
    "    print(f'Atleta: {nome}', end='\\n\\n')\n",
    "\n",
    "    for i, salto in enumerate(saltos):\n",
    "        print(f'{extenso[i]} Salto: {salto:.1f} m')\n",
    "\n",
    "    print(f'\\nResultado final:')\n",
    "    print(f'Atleta: {nome}')\n",
    "    print(f'Saltos: {formatar_lista(saltos)}')\n",
    "    print(f'Média dos saltos: {media}')\n"
   ]
  }
 ],
 "metadata": {
  "kernelspec": {
   "display_name": "Python 3.10.6 64-bit",
   "language": "python",
   "name": "python3"
  },
  "language_info": {
   "codemirror_mode": {
    "name": "ipython",
    "version": 3
   },
   "file_extension": ".py",
   "mimetype": "text/x-python",
   "name": "python",
   "nbconvert_exporter": "python",
   "pygments_lexer": "ipython3",
   "version": "3.10.6"
  },
  "vscode": {
   "interpreter": {
    "hash": "cd2599c6b68dedd60ea320e66b986a2dd5fb60e916295c3598e8006f9d0aa287"
   }
  }
 },
 "nbformat": 4,
 "nbformat_minor": 0
}
