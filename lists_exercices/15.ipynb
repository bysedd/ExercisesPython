{
 "cells": [
  {
   "cell_type": "markdown",
   "source": [
    "# Faça um programa que leia um número indeterminado de valores, correspondentes a notas, encerrando a entrada de dados quando for informado um valor igual a -1 (que não deve ser armazenado). Após esta entrada de dados, faça:\n",
    "    a. Mostre a quantidade de valores lidos;\n",
    "    b. Exiba todos os valores na ordem em que foram informados, um ao lado do outro;\n",
    "    c. Exiba todos os valores na ordem inversa à que foram informados, um abaixo do outro;\n",
    "    d. Calcule e mostre a soma dos valores;\n",
    "    e. Calcule e mostre a média dos valores;\n",
    "    f. Calcule e mostre a quantidade de valores acima da média calculada;\n",
    "    g. Calcule e mostre a quantidade de valores abaixo de sete;\n",
    "    h. Encerre o programa com uma mensagem;"
   ],
   "metadata": {
    "collapsed": false
   }
  },
  {
   "cell_type": "code",
   "execution_count": 54,
   "outputs": [],
   "source": [
    "notas = []\n",
    "cont = 1"
   ],
   "metadata": {
    "collapsed": false
   }
  },
  {
   "cell_type": "raw",
   "source": [
    "Se precisar adicionar mais valores é so executar daqui em diante"
   ],
   "metadata": {
    "collapsed": false
   }
  },
  {
   "cell_type": "code",
   "execution_count": 55,
   "outputs": [
    {
     "data": {
      "text/plain": "-1.0"
     },
     "execution_count": 55,
     "metadata": {},
     "output_type": "execute_result"
    }
   ],
   "source": [
    "while -1 not in notas:\n",
    "    notas.append(float(input(f'{cont}ª nota:')))\n",
    "    cont += 1\n",
    "notas.pop()"
   ],
   "metadata": {
    "collapsed": false
   }
  },
  {
   "cell_type": "code",
   "execution_count": 56,
   "outputs": [],
   "source": [
    "soma = sum(notas)\n",
    "media = soma / len(notas)\n",
    "valores_acima_media = [nota for nota in notas if nota > media]\n",
    "valores_abaixo_sete = [nota for nota in notas if nota < 7]"
   ],
   "metadata": {
    "collapsed": false
   }
  },
  {
   "cell_type": "code",
   "execution_count": 74,
   "outputs": [
    {
     "name": "stdout",
     "output_type": "stream",
     "text": [
      "a. Quantidade de valores lidos: 5\n",
      "b. 1.0 4.0 6.0 8.0 9.0 \n",
      "c. 9.0\n",
      "   8.0\n",
      "   6.0\n",
      "   4.0\n",
      "   1.0\n",
      "d. Soma dos valores: 28.0\n",
      "e. Média dos valores: 5.6\n",
      "f. Quantidade de valores acima da média [6.0, 8.0, 9.0]: 3\n",
      "g. Quantidade de valores abaixo de 7: 3\n",
      "-=-=-=-=-=-=-=-=-=-=-=-=-=-=-=-=-=-=-=-=-=-=-=-=-=-=-=-=-=-=-=-=-=-=-=-=-=-=-=-=-=-=-=-=-=-=-=-=-=-=\n",
      "                                       Encerrando o programa!                                       \n",
      "-=-=-=-=-=-=-=-=-=-=-=-=-=-=-=-=-=-=-=-=-=-=-=-=-=-=-=-=-=-=-=-=-=-=-=-=-=-=-=-=-=-=-=-=-=-=-=-=-=-=\n"
     ]
    }
   ],
   "source": [
    "print(f'a. Quantidade de valores lidos: {len(notas)}')\n",
    "\n",
    "print('b. ', end='')\n",
    "for nota in notas:\n",
    "    print(round(nota, 1), end=' ')\n",
    "\n",
    "print('\\nc. ', end= '')\n",
    "for nota in notas[::-1]:\n",
    "    if nota == notas[0]:\n",
    "        print(round(nota, 1))\n",
    "    else:\n",
    "        print(round(nota, 1), end='\\n   ')\n",
    "\n",
    "print(f'd. Soma dos valores: {soma}')\n",
    "print(f'e. Média dos valores: {media}')\n",
    "print(f'f. Quantidade de valores acima da média {valores_acima_media}: {len(valores_acima_media)}')\n",
    "print(f'g. Quantidade de valores abaixo de 7: {len(valores_abaixo_sete)}')\n",
    "print(f'{\"-=\" * 50}\\n{\"Encerrando o programa!\":^100}\\n{\"-=\" * 50}')"
   ],
   "metadata": {
    "collapsed": false
   }
  }
 ],
 "metadata": {
  "kernelspec": {
   "display_name": "Python 3",
   "language": "python",
   "name": "python3"
  },
  "language_info": {
   "codemirror_mode": {
    "name": "ipython",
    "version": 2
   },
   "file_extension": ".py",
   "mimetype": "text/x-python",
   "name": "python",
   "nbconvert_exporter": "python",
   "pygments_lexer": "ipython2",
   "version": "2.7.6"
  }
 },
 "nbformat": 4,
 "nbformat_minor": 0
}
