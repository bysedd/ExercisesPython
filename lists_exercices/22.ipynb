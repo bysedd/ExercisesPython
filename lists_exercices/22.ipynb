{
 "cells": [
  {
   "cell_type": "markdown",
   "source": [
    "#### Sua organização acaba de contratar um estagiário para trabalhar no Suporte de Informática, com a intenção de fazer um levantamento nas sucatas encontradas nesta área. A primeira tarefa dele é testar todos os cerca de 200 mouses que se encontram lá, testando e anotando o estado de cada um deles, para verificar o que se pode aproveitar deles.\n",
    "    Foi requisitado que você desenvolva um programa para registrar este levantamento. O programa deverá receber um\n",
    "    número indeterminado de entradas, cada uma contendo: um número de identificação do mouse o tipo de defeito:\n",
    "    ° necessita da esfera;\n",
    "    ° necessita de limpeza;\n",
    "    ° necessita troca do cabo ou conector;\n",
    "    ° quebrado ou inutilizado.\n",
    "Uma identificação igual a zero encerra o programa. Ao final o programa deverá emitir o seguinte relatório:\n",
    "\n",
    "\tQuantidade de mouses: 100\n",
    "\n",
    "\tSituação                        Quantidade              Percentual\n",
    "\t1- necessita da esfera                  40                     40%\n",
    "\t2- necessita de limpeza                 30                     30%\n",
    "\t3- necessita troca do cabo ou conector  15                     15%\n",
    "\t4- quebrado ou inutilizado              15                     15%"
   ],
   "metadata": {
    "collapsed": false
   }
  },
  {
   "cell_type": "code",
   "execution_count": 123,
   "outputs": [],
   "source": [
    "from random import randint"
   ],
   "metadata": {
    "collapsed": false
   }
  },
  {
   "cell_type": "code",
   "execution_count": 124,
   "outputs": [],
   "source": [
    "mouses = []\n",
    "id = 1"
   ],
   "metadata": {
    "collapsed": false
   }
  },
  {
   "cell_type": "code",
   "execution_count": 125,
   "outputs": [],
   "source": [
    "while True:\n",
    "\tif id < randint(100, 200):\n",
    "\t\tsituation = randint(1, 4)\n",
    "\telse:\n",
    "\t\tsituation = int(input(f\"Situação:\\n\"\n",
    "\t\tf\"\\t1 - necessita da esfera\\n\"\n",
    "\t\tf\"\\t2 - necessita de limpeza\\n\"\n",
    "\t\tf\"\\t3 - necessita troca do cabo ou conector\\n\"\n",
    "\t\tf\"\\t4 - quebrado ou inutilizado\\n\"\n",
    "\t\tf\"Opção: \"))\n",
    "\n",
    "\tif 1 <= situation <= 4:\n",
    "\t\tmouses.append({\n",
    "\t\t    'mouse': id,\n",
    "\t\t    'situation': situation\n",
    "\t\t})\n",
    "\t\tid += 1\n",
    "\telif situation == 0:\n",
    "\t\tbreak"
   ],
   "metadata": {
    "collapsed": false
   }
  },
  {
   "cell_type": "code",
   "execution_count": 126,
   "outputs": [],
   "source": [
    "total = mouses[-1][\"mouse\"]"
   ],
   "metadata": {
    "collapsed": false
   }
  },
  {
   "cell_type": "code",
   "execution_count": 127,
   "outputs": [],
   "source": [
    "count_1 = len([mouse for mouse in mouses if mouse[\"situation\"] == 1])\n",
    "count_2 = len([mouse for mouse in mouses if mouse[\"situation\"] == 2])\n",
    "count_3 = len([mouse for mouse in mouses if mouse[\"situation\"] == 3])\n",
    "count_4 = len([mouse for mouse in mouses if mouse[\"situation\"] == 4])"
   ],
   "metadata": {
    "collapsed": false
   }
  },
  {
   "cell_type": "code",
   "execution_count": 139,
   "outputs": [],
   "source": [
    "percentual_1 = round(count_1 / total * 100)\n",
    "percentual_2 = round(count_2 / total * 100)\n",
    "percentual_3 = round(count_3 / total * 100)\n",
    "percentual_4 = round(count_4 / total * 100)"
   ],
   "metadata": {
    "collapsed": false
   }
  },
  {
   "cell_type": "code",
   "execution_count": 142,
   "outputs": [
    {
     "name": "stdout",
     "output_type": "stream",
     "text": [
      "Quantidade de mouses: 116\n",
      "\n",
      "Situação                         Quantidade              Percentual\n",
      "1 - necessita da esfera                  29                     25%\n",
      "2 - necessita de limpeza                 30                     26%\n",
      "3 - necessita troca do cabo ou conector  32                     28%\n",
      "4 - quebrado ou inutilizado              25                     22%\n"
     ]
    }
   ],
   "source": [
    "print(f\"Quantidade de mouses: {total}\\n\")\n",
    "print(\"Situação                         Quantidade              Percentual\")\n",
    "print(f\"{'1 - necessita da esfera':<40} {count_1} {percentual_1:>22}%\")\n",
    "print(f\"{'2 - necessita de limpeza':<40} {count_2} {percentual_2:>22}%\")\n",
    "print(f\"{'3 - necessita troca do cabo ou conector':<40} {count_3} {percentual_3:>22}%\")\n",
    "print(f\"{'4 - quebrado ou inutilizado':<40} {count_4} {percentual_4:>22}%\")"
   ],
   "metadata": {
    "collapsed": false
   }
  }
 ],
 "metadata": {
  "kernelspec": {
   "display_name": "Python 3",
   "language": "python",
   "name": "python3"
  },
  "language_info": {
   "codemirror_mode": {
    "name": "ipython",
    "version": 2
   },
   "file_extension": ".py",
   "mimetype": "text/x-python",
   "name": "python",
   "nbconvert_exporter": "python",
   "pygments_lexer": "ipython2",
   "version": "2.7.6"
  }
 },
 "nbformat": 4,
 "nbformat_minor": 0
}
