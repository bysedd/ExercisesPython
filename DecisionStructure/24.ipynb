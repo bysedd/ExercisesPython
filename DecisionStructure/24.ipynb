{
 "cells": [
  {
   "cell_type": "markdown",
   "source": [
    "# Faça um Programa que leia 2 números e em seguida pergunte ao usuário qual operação ele deseja realizar. O resultado da operação deve ser acompanhado de uma frase que diga se o número é:\n",
    "    a. par ou ímpar;\n",
    "    b. positivo ou negativo;\n",
    "    c. inteiro ou decimal."
   ],
   "metadata": {
    "collapsed": false,
    "pycharm": {
     "name": "#%% md\n"
    }
   }
  },
  {
   "cell_type": "code",
   "execution_count": 64,
   "outputs": [],
   "source": [
    "n1 = input('1º número')\n",
    "n2 = input('2º número')"
   ],
   "metadata": {
    "collapsed": false,
    "pycharm": {
     "name": "#%%\n"
    }
   }
  },
  {
   "cell_type": "code",
   "execution_count": 65,
   "outputs": [],
   "source": [
    "op = input('Escolha uma operação:\\n'\n",
    "               'a. Par ou ímpar;\\n'\n",
    "               'b. Positivo ou negativo;\\n'\n",
    "               'c. Inteiro ou decimal')[0].lower()"
   ],
   "metadata": {
    "collapsed": false,
    "pycharm": {
     "name": "#%%\n"
    }
   }
  },
  {
   "cell_type": "code",
   "execution_count": 66,
   "outputs": [],
   "source": [
    "if op == 'a' or op == 'b':\n",
    "    n1 = int(n1)\n",
    "    n2 = int(n2)"
   ],
   "metadata": {
    "collapsed": false,
    "pycharm": {
     "name": "#%%\n"
    }
   }
  },
  {
   "cell_type": "code",
   "execution_count": 67,
   "outputs": [],
   "source": [
    "if op == 'a':\n",
    "    if n1 % 2:\n",
    "        print(f'{n1} é ímpar')\n",
    "    else:\n",
    "        print(f'{n1} é par')\n",
    "\n",
    "    if n2 % 2:\n",
    "        print(f'{n2} é ímpar')\n",
    "    else:\n",
    "        print(f'{n2} é par')"
   ],
   "metadata": {
    "collapsed": false,
    "pycharm": {
     "name": "#%%\n"
    }
   }
  },
  {
   "cell_type": "code",
   "execution_count": 68,
   "outputs": [],
   "source": [
    "if op == 'b':\n",
    "    if n1 >= 0:\n",
    "        print(f'{n1} é positivo')\n",
    "    else:\n",
    "        print(f'{n1} é negativo')\n",
    "\n",
    "    if n2 >= 0:\n",
    "        print(f'{n2} é positivo')\n",
    "    else:\n",
    "        print(f'{n2} é negativo')"
   ],
   "metadata": {
    "collapsed": false,
    "pycharm": {
     "name": "#%%\n"
    }
   }
  },
  {
   "cell_type": "code",
   "execution_count": 69,
   "outputs": [
    {
     "name": "stdout",
     "output_type": "stream",
     "text": [
      "4.6 é um número real\n",
      "2,5 é um número real\n"
     ]
    }
   ],
   "source": [
    "if op == 'c':\n",
    "    if '.' in n1:\n",
    "        test1 = n1.split('.')\n",
    "    else:\n",
    "        test1 = n1.split(',')\n",
    "\n",
    "    if '.' in n2:\n",
    "        test2 = n2.split('.')\n",
    "    else:\n",
    "        test2 = n2.split(',')\n",
    "\n",
    "    if len(test1) > 1:\n",
    "        print(f'{n1} é um número real')\n",
    "    else:\n",
    "        print(f'{n1} é um número inteiro')\n",
    "\n",
    "    if len(test2) > 1:\n",
    "        print(f'{n2} é um número real')\n",
    "    else:\n",
    "        print(f'{n2} é um número inteiro')"
   ],
   "metadata": {
    "collapsed": false,
    "pycharm": {
     "name": "#%%\n"
    }
   }
  }
 ],
 "metadata": {
  "kernelspec": {
   "display_name": "Python 3",
   "language": "python",
   "name": "python3"
  },
  "language_info": {
   "codemirror_mode": {
    "name": "ipython",
    "version": 2
   },
   "file_extension": ".py",
   "mimetype": "text/x-python",
   "name": "python",
   "nbconvert_exporter": "python",
   "pygments_lexer": "ipython2",
   "version": "2.7.6"
  }
 },
 "nbformat": 4,
 "nbformat_minor": 0
}