{
 "cells": [
  {
   "cell_type": "markdown",
   "source": [
    "# As Organizações Tabajara resolveram dar um aumento de salário aos seus colaboradores e lhe contratam para desenvolver o programa que calculará os reajustes.\n",
    "    Faça um programa que recebe o salário de um colaborador e o reajuste segundo o seguinte critério, baseado no salário atual:\n",
    "        salários até RS 280,00 (incluindo) : aumento de 20%\n",
    "        salários entre RS 280,00 e RS 700,00 : aumento de 15%\n",
    "        salários entre RS 700,00 e RS 1500,00 : aumento de 10%\n",
    "        salários de RS 1500,00 em diante : aumento de 5% Após o aumento ser realizado, informe na tela:\n",
    "        o salário antes do reajuste;\n",
    "        o percentual de aumento aplicado;\n",
    "        o valor do aumento;\n",
    "        o novo salário, após o aumento."
   ],
   "metadata": {
    "collapsed": false,
    "pycharm": {
     "name": "#%% md\n"
    }
   }
  },
  {
   "cell_type": "code",
   "execution_count": 8,
   "outputs": [],
   "source": [
    "salary = float(input('Salário do colaborador'))\n",
    "aumento: float = 0"
   ],
   "metadata": {
    "collapsed": false,
    "pycharm": {
     "name": "#%%\n"
    }
   }
  },
  {
   "cell_type": "code",
   "execution_count": 9,
   "outputs": [],
   "source": [
    "if 0 < salary <= 280:\n",
    "    aumento = 0.2\n",
    "elif salary < 700:\n",
    "    aumento = 0.15\n",
    "elif salary < 1500:\n",
    "    aumento = 0.1\n",
    "else:\n",
    "    aumento = 0.5"
   ],
   "metadata": {
    "collapsed": false,
    "pycharm": {
     "name": "#%%\n"
    }
   }
  },
  {
   "cell_type": "code",
   "execution_count": 10,
   "outputs": [],
   "source": [
    "updated_salary = salary + salary * aumento"
   ],
   "metadata": {
    "collapsed": false,
    "pycharm": {
     "name": "#%%\n"
    }
   }
  },
  {
   "cell_type": "code",
   "execution_count": 11,
   "outputs": [
    {
     "name": "stdout",
     "output_type": "stream",
     "text": [
      "Salário antes do reajuste : R$1229.90\n",
      "Percentual de aumento aplicado : 0.10%\n",
      "Valor do aumento : R$122.99\n",
      "Novo salário, após o aumento : R$1352.89\n"
     ]
    }
   ],
   "source": [
    "print(f'Salário antes do reajuste : R${salary:.2f}')\n",
    "print(f'Percentual de aumento aplicado : {aumento:.2f}%')\n",
    "print(f'Valor do aumento : R${(salary * aumento):.2f}')\n",
    "print(f'Novo salário, após o aumento : R${updated_salary:.2f}')"
   ],
   "metadata": {
    "collapsed": false,
    "pycharm": {
     "name": "#%%\n"
    }
   }
  }
 ],
 "metadata": {
  "kernelspec": {
   "display_name": "Python 3",
   "language": "python",
   "name": "python3"
  },
  "language_info": {
   "codemirror_mode": {
    "name": "ipython",
    "version": 2
   },
   "file_extension": ".py",
   "mimetype": "text/x-python",
   "name": "python",
   "nbconvert_exporter": "python",
   "pygments_lexer": "ipython2",
   "version": "2.7.6"
  }
 },
 "nbformat": 4,
 "nbformat_minor": 0
}