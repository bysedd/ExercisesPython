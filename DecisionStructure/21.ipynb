{
 "cells": [
  {
   "cell_type": "markdown",
   "source": [
    "# Faça um Programa para um caixa eletrônico. O programa deverá perguntar ao usuário a valor do saque e depois informar quantas notas de cada valor serão fornecidas. As notas disponíveis serão as de 1, 5, 10, 50 e 100 reais. O valor mínimo é de 10 reais e o máximo de 600 reais. O programa não deve se preocupar com a quantidade de notas existentes na máquina.\n",
    "    Exemplo 1: Para sacar a quantia de 256 reais, o programa fornece duas notas de 100, uma nota de 50, uma nota de 5 e uma nota de 1;\n",
    "    Exemplo 2: Para sacar a quantia de 399 reais, o programa fornece três notas de 100, uma nota de 50, quatro notas de 10, uma nota de 5 e quatro notas de 1."
   ],
   "metadata": {
    "collapsed": false,
    "pycharm": {
     "name": "#%% md\n"
    }
   }
  },
  {
   "cell_type": "code",
   "execution_count": 151,
   "outputs": [],
   "source": [
    "valor = int(input('Digite um valor para o saque'))\n",
    "i = valor"
   ],
   "metadata": {
    "collapsed": false,
    "pycharm": {
     "name": "#%%\n"
    }
   }
  },
  {
   "cell_type": "code",
   "execution_count": 152,
   "outputs": [],
   "source": [
    "notas = {\n",
    "    '100': 0,\n",
    "    '50': 0,\n",
    "    '10': 0,\n",
    "    '5': 0,\n",
    "    '1': 0\n",
    "}"
   ],
   "metadata": {
    "collapsed": false,
    "pycharm": {
     "name": "#%%\n"
    }
   }
  },
  {
   "cell_type": "code",
   "execution_count": 153,
   "outputs": [],
   "source": [
    "while i > 0:\n",
    "    if i >= 100:\n",
    "        notas['100'] += 1\n",
    "        i -= 100\n",
    "    elif i >= 50:\n",
    "        notas['50'] += 1\n",
    "        i -= 50\n",
    "    elif i >= 10:\n",
    "        notas['10'] += 1\n",
    "        i -= 10\n",
    "    elif i >= 5:\n",
    "        notas['5'] += 1\n",
    "        i -= 5\n",
    "    else:\n",
    "        notas['1'] += 1\n",
    "        i -= 1"
   ],
   "metadata": {
    "collapsed": false,
    "pycharm": {
     "name": "#%%\n"
    }
   }
  },
  {
   "cell_type": "code",
   "execution_count": 154,
   "outputs": [
    {
     "name": "stdout",
     "output_type": "stream",
     "text": [
      "Para sacar a quantia de R$543.00, o programa fornece:\n",
      "\tCinco notas de R$100\n",
      "\tQuatro notas de R$10\n",
      "\tTrês notas de R$1\n",
      "\t"
     ]
    }
   ],
   "source": [
    "if 10 <= valor <= 600:\n",
    "    print(f'Para sacar a quantia de R${valor:.2f}, o programa fornece:', end='\\n\\t')\n",
    "\n",
    "    for k, v in notas.items():\n",
    "        if v == 1:\n",
    "            print(f'Uma nota de R${k}', end='\\n\\t')\n",
    "        if v == 2:\n",
    "            print(f'Duas notas de R${k}', end='\\n\\t')\n",
    "        if v == 3:\n",
    "            print(f'Três notas de R${k}', end='\\n\\t')\n",
    "        if v == 4:\n",
    "            print(f'Quatro notas de R${k}', end='\\n\\t')\n",
    "        if v == 5:\n",
    "            print(f'Cinco notas de R${k}', end='\\n\\t')\n",
    "        if v == 6:\n",
    "            print(f'Seis notas de R${k}', end='\\n\\t')\n",
    "\n",
    "else:\n",
    "    print('Quantia inválida')"
   ],
   "metadata": {
    "collapsed": false,
    "pycharm": {
     "name": "#%%\n"
    }
   }
  }
 ],
 "metadata": {
  "kernelspec": {
   "display_name": "Python 3",
   "language": "python",
   "name": "python3"
  },
  "language_info": {
   "codemirror_mode": {
    "name": "ipython",
    "version": 2
   },
   "file_extension": ".py",
   "mimetype": "text/x-python",
   "name": "python",
   "nbconvert_exporter": "python",
   "pygments_lexer": "ipython2",
   "version": "2.7.6"
  }
 },
 "nbformat": 4,
 "nbformat_minor": 0
}