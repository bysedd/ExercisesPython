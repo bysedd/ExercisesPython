{
 "cells": [
  {
   "cell_type": "markdown",
   "source": [
    "# Um posto está vendendo combustíveis com a seguinte tabela de descontos:\n",
    "    a. Álcool:\n",
    "        b. Até 20 litros, desconto de 3% por litro\n",
    "        c. Acima de 20 litros, desconto de 5% por litro\n",
    "    d. Gasolina:\n",
    "        f. Até 20 litros, desconto de 4% por litro\n",
    "        g. Acima de 20 litros, desconto de 6% por litro\n",
    "Escreva um algoritmo que leia o número de litros vendidos, a categoria de combustível (codificado da seguinte forma: A-álcool, G-gasolina), calcule e imprima o valor a ser pago pelo cliente sabendo-se que o preço do litro da gasolina é RS 2,50 o preço do litro do álcool é RS 1,90."
   ],
   "metadata": {
    "collapsed": false,
    "pycharm": {
     "name": "#%% md\n"
    }
   }
  },
  {
   "cell_type": "code",
   "execution_count": 22,
   "outputs": [],
   "source": [
    "litros = int(input('Litros vendidos'))\n",
    "categoria = input('Categoria de combustível:\\n'\n",
    "                  'A - álcool\\n'\n",
    "                  'G - gasolina')[0].upper()\n",
    "desconto: float = 0\n",
    "price: float = 0"
   ],
   "metadata": {
    "collapsed": false,
    "pycharm": {
     "name": "#%%\n"
    }
   }
  },
  {
   "cell_type": "code",
   "execution_count": 23,
   "outputs": [],
   "source": [
    "if litros > 0:\n",
    "    if categoria == 'A':\n",
    "        if litros < 20:\n",
    "           desconto = 0.03\n",
    "        else:\n",
    "            desconto = 0.05\n",
    "        for l in range(1, litros + 1):\n",
    "            price += 1.9 - 1.9 * desconto\n",
    "\n",
    "    elif categoria == 'G':\n",
    "        if litros < 20:\n",
    "            desconto = 0.04\n",
    "        else:\n",
    "            desconto = 0.06\n",
    "        for l in range(1, litros + 1):\n",
    "            price += 2.5 - 2.5 * desconto"
   ],
   "metadata": {
    "collapsed": false,
    "pycharm": {
     "name": "#%%\n"
    }
   }
  },
  {
   "cell_type": "code",
   "execution_count": 24,
   "outputs": [
    {
     "name": "stdout",
     "output_type": "stream",
     "text": [
      "Total: R$117.5\n"
     ]
    }
   ],
   "source": [
    "print(f'Total: R${round(price, 2)}')"
   ],
   "metadata": {
    "collapsed": false,
    "pycharm": {
     "name": "#%%\n"
    }
   }
  }
 ],
 "metadata": {
  "kernelspec": {
   "display_name": "Python 3",
   "language": "python",
   "name": "python3"
  },
  "language_info": {
   "codemirror_mode": {
    "name": "ipython",
    "version": 2
   },
   "file_extension": ".py",
   "mimetype": "text/x-python",
   "name": "python",
   "nbconvert_exporter": "python",
   "pygments_lexer": "ipython2",
   "version": "2.7.6"
  }
 },
 "nbformat": 4,
 "nbformat_minor": 0
}