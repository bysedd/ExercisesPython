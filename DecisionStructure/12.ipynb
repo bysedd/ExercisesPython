{
 "cells": [
  {
   "cell_type": "markdown",
   "source": [
    "# Faça um programa para o cálculo de uma folha de pagamento, sabendo que os descontos são do Imposto de Renda, que depende do salário bruto (conforme tabela abaixo) e 3% para o Sindicato e que o FGTS corresponde a 11% do Salário Bruto, mas não é descontado (é a empresa que deposita). O Salário Líquido corresponde ao Salário Bruto menos os descontos. O programa deverá pedir ao usuário o valor da sua hora e a quantidade de horas trabalhadas no mês.\n",
    "    Desconto do IR:\n",
    "    Salário Bruto até 900 (inclusive) - isento\n",
    "    Salário Bruto até 1500 (inclusive) - desconto de 5%\n",
    "    Salário Bruto até 2500 (inclusive) - desconto de 10%\n",
    "    Salário Bruto acima de 2500 - desconto de 20% Imprima na tela as informações, dispostas conforme o exemplo abaixo.\n",
    "    No exemplo o valor da hora é 5 e a quantidade de hora é 220.\n",
    "            Salário Bruto: (5 * 220)        : RS 1100,00\n",
    "            (-) IR (5%)                     : RS   55,00\n",
    "            (-) INSS ( 10%)                 : RS  110,00\n",
    "            FGTS (11%)                      : RS  121,00\n",
    "            Total de descontos              : RS  165,00\n",
    "            Salário Liquido                 : RS  935,00"
   ],
   "metadata": {
    "collapsed": false,
    "pycharm": {
     "name": "#%% md\n"
    }
   }
  },
  {
   "cell_type": "code",
   "execution_count": 138,
   "outputs": [],
   "source": [
    "def br(valor: float):\n",
    "    \"\"\"\n",
    "    Transforma o ponto em vírgula.\n",
    "    :param valor: Número real.\n",
    "    :return: Retorna o mesmo valor, porém com a vírgula no lugar do ponto.\n",
    "    \"\"\"\n",
    "    return f'{valor:.2f}'.replace('.', ',')"
   ],
   "metadata": {
    "collapsed": false,
    "pycharm": {
     "name": "#%%\n"
    }
   }
  },
  {
   "cell_type": "code",
   "execution_count": 139,
   "outputs": [],
   "source": [
    "valor_da_hora = int(input('Valor da hora R$'))\n",
    "horas_trabalhadas = int(input('Horas trabalhadas'))"
   ],
   "metadata": {
    "collapsed": false,
    "pycharm": {
     "name": "#%%\n"
    }
   }
  },
  {
   "cell_type": "code",
   "execution_count": 140,
   "outputs": [],
   "source": [
    "salario_bruto = valor_da_hora * horas_trabalhadas"
   ],
   "metadata": {
    "collapsed": false,
    "pycharm": {
     "name": "#%%\n"
    }
   }
  },
  {
   "cell_type": "code",
   "execution_count": 141,
   "outputs": [],
   "source": [
    "if 0 < salario_bruto <= 900:\n",
    "    IR = 0\n",
    "elif salario_bruto <= 1500:\n",
    "    IR = 0.05\n",
    "elif salario_bruto <= 2500:\n",
    "    IR = 0.1\n",
    "else:\n",
    "    IR = 0.2"
   ],
   "metadata": {
    "collapsed": false,
    "pycharm": {
     "name": "#%%\n"
    }
   }
  },
  {
   "cell_type": "code",
   "execution_count": 142,
   "outputs": [],
   "source": [
    "INSS = 0.1\n",
    "FGTS = 0.11"
   ],
   "metadata": {
    "collapsed": false,
    "pycharm": {
     "name": "#%%\n"
    }
   }
  },
  {
   "cell_type": "code",
   "execution_count": 143,
   "outputs": [],
   "source": [
    "descontos = salario_bruto * (IR + INSS)\n",
    "salario_liquido = salario_bruto - salario_bruto * (IR + INSS)"
   ],
   "metadata": {
    "collapsed": false,
    "pycharm": {
     "name": "#%%\n"
    }
   }
  },
  {
   "cell_type": "code",
   "execution_count": 180,
   "outputs": [
    {
     "name": "stdout",
     "output_type": "stream",
     "text": [
      "Salário Bruto: (80 * 55)        : R$   4400,00\n",
      "(-) IR: (5%)                    : R$    880,00\n",
      "(-) INSS: (10%)                 : R$    440,00\n",
      "FGTS: (11%)                     : R$    484,00\n",
      "Total de descontos:             : R$   1320,00\n",
      "Salário Líquido:                : R$   3080,00\n"
     ]
    }
   ],
   "source": [
    "print(f'Salário Bruto: ({valor_da_hora} * {horas_trabalhadas}){\": R$\":>12}{br(salario_bruto):>10}')\n",
    "print(f'(-) IR: (5%){\": R$\":>24}{br(salario_bruto * IR):>10}')\n",
    "print(f'(-) INSS: (10%){\": R$\":>21}{br(salario_bruto * INSS):>10}')\n",
    "print(f'FGTS: (11%){\": R$\":>25}{br(salario_bruto * FGTS):>10}')\n",
    "print(f'Total de descontos:{\": R$\":>17}{br(descontos):>10}')\n",
    "print(f'Salário Líquido:{\": R$\":>20}{br(salario_liquido):>10}')"
   ],
   "metadata": {
    "collapsed": false,
    "pycharm": {
     "name": "#%%\n"
    }
   }
  }
 ],
 "metadata": {
  "kernelspec": {
   "display_name": "Python 3",
   "language": "python",
   "name": "python3"
  },
  "language_info": {
   "codemirror_mode": {
    "name": "ipython",
    "version": 2
   },
   "file_extension": ".py",
   "mimetype": "text/x-python",
   "name": "python",
   "nbconvert_exporter": "python",
   "pygments_lexer": "ipython2",
   "version": "2.7.6"
  }
 },
 "nbformat": 4,
 "nbformat_minor": 0
}