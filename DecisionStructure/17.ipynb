{
 "cells": [
  {
   "cell_type": "markdown",
   "source": [
    "# Faça um Programa que peça um número correspondente a um determinado ano e em seguida informe se este ano é ou não bissexto"
   ],
   "metadata": {
    "collapsed": false,
    "pycharm": {
     "name": "#%% md\n"
    }
   }
  },
  {
   "cell_type": "code",
   "execution_count": 14,
   "outputs": [],
   "source": [
    "ano = int(input('Digite um número correspondente a um determinado ano'))"
   ],
   "metadata": {
    "collapsed": false,
    "pycharm": {
     "name": "#%%\n"
    }
   }
  },
  {
   "cell_type": "code",
   "execution_count": null,
   "outputs": [],
   "source": [
    "# Não é tão fácil entender de primeira\n",
    "if not ano % 4 and ano % 100 or not ano % 400:\n",
    "    print(f'{ano} é um ano bissexto!')\n",
    "else:\n",
    "    print(f'{ano} não é um ano bissexto!')"
   ],
   "metadata": {
    "collapsed": false,
    "pycharm": {
     "name": "#%%\n"
    }
   }
  },
  {
   "cell_type": "code",
   "execution_count": 15,
   "outputs": [
    {
     "name": "stdout",
     "output_type": "stream",
     "text": [
      "2016 é um ano bissexto!\n"
     ]
    }
   ],
   "source": [
    "# if ano % 4 == 0 and ano % 100 != 0 or ano % 400 == 0"
   ],
   "metadata": {
    "collapsed": false,
    "pycharm": {
     "name": "#%%\n"
    }
   }
  }
 ],
 "metadata": {
  "kernelspec": {
   "display_name": "Python 3",
   "language": "python",
   "name": "python3"
  },
  "language_info": {
   "codemirror_mode": {
    "name": "ipython",
    "version": 2
   },
   "file_extension": ".py",
   "mimetype": "text/x-python",
   "name": "python",
   "nbconvert_exporter": "python",
   "pygments_lexer": "ipython2",
   "version": "2.7.6"
  }
 },
 "nbformat": 4,
 "nbformat_minor": 0
}