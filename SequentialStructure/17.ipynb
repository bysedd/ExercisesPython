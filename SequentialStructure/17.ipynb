{
 "cells": [
  {
   "cell_type": "markdown",
   "source": [
    "# Faça um Programa para uma loja de tintas. O programa deverá pedir o tamanho em metros quadrados da área a ser pintada. Considere que a cobertura da tinta é de 1 litro para cada 6 metros quadrados e que a tinta é vendida em latas de 18 litros, que custam RS 80,00 ou em galões de 3,6 litros, que custam RS 25,00.\n",
    "    Informe ao usuário as quantidades de tinta a serem compradas e os respectivos preços em 3 situações:\n",
    "    ° Comprar apenas latas de 18 litros;\n",
    "    ° Comprar apenas galões de 3,6 litros;\n",
    "    ° Misturar latas e galões, de forma que o desperdício de tinta seja menor. Acrescente 10% de folga e sempre arredonde os valores para cima, isto é, considere latas cheias."
   ],
   "metadata": {
    "collapsed": false,
    "pycharm": {
     "name": "#%% md\n"
    }
   }
  },
  {
   "cell_type": "code",
   "execution_count": null,
   "outputs": [],
   "source": [
    "tamanho = int(input('Tamanho em metros quadrados da área a ser pintada'))\n",
    "litros: int = 0\n",
    "latas: int = 1\n",
    "galoes: int = 1"
   ],
   "metadata": {
    "collapsed": false,
    "pycharm": {
     "name": "#%%\n"
    }
   }
  },
  {
   "cell_type": "code",
   "execution_count": null,
   "outputs": [],
   "source": [
    "for l in range(0, tamanho + 6, 6):\n",
    "    litros = l"
   ],
   "metadata": {
    "collapsed": false,
    "pycharm": {
     "name": "#%%\n"
    }
   }
  },
  {
   "cell_type": "code",
   "execution_count": null,
   "outputs": [],
   "source": [
    "if litros % 18:\n",
    "    latas += litros // 18\n",
    "if litros % 3.6:\n",
    "    galoes += litros // 3.6"
   ],
   "metadata": {
    "collapsed": false,
    "pycharm": {
     "name": "#%%\n"
    }
   }
  },
  {
   "cell_type": "code",
   "execution_count": null,
   "outputs": [],
   "source": [
    "print(f'Serão necessários {litros} litros de tinta.')\n",
    "print(f'Serão necessárias {latas} lata(s) de tinta para pintar a área.')\n",
    "print(f'Serão necessários {round(galoes)} galões de tinta para pintar a área.')"
   ],
   "metadata": {
    "collapsed": false,
    "pycharm": {
     "name": "#%%\n"
    }
   }
  },
  {
   "cell_type": "code",
   "execution_count": null,
   "outputs": [],
   "source": [
    "print(f'Comprar {latas} lata(s) de 18 litros')\n",
    "print(f'Total: R${(latas * 80):.2f}')\n",
    "print(f'Desperdício de {round(abs(latas * 18 - litros))} litros.')"
   ],
   "metadata": {
    "collapsed": false,
    "pycharm": {
     "name": "#%%\n"
    }
   }
  },
  {
   "cell_type": "code",
   "execution_count": null,
   "outputs": [],
   "source": [
    "print(f'Comprar {round(galoes)} galões de 3,6 litros')\n",
    "print(f'Total: R${(galoes * 25):.2f}')\n",
    "print(f'Desperdício de {round(abs(galoes * 3.6 - litros))} litros.')"
   ],
   "metadata": {
    "collapsed": false,
    "pycharm": {
     "name": "#%%\n"
    }
   }
  }
 ],
 "metadata": {
  "kernelspec": {
   "display_name": "Python 3",
   "language": "python",
   "name": "python3"
  },
  "language_info": {
   "codemirror_mode": {
    "name": "ipython",
    "version": 2
   },
   "file_extension": ".py",
   "mimetype": "text/x-python",
   "name": "python",
   "nbconvert_exporter": "python",
   "pygments_lexer": "ipython2",
   "version": "2.7.6"
  }
 },
 "nbformat": 4,
 "nbformat_minor": 0
}