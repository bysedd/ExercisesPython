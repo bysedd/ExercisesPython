{
 "cells": [
  {
   "cell_type": "markdown",
   "source": [
    "# Faça um Programa que pergunte quanto você ganha por hora e o número de horas trabalhadas no mês. Calcule e mostre o total do seu salário no referido mês, sabendo-se que são descontados 11% para o Imposto de Renda, 8% para o INSS e 5% para o sindicato, faça um programa que nos dê:\n",
    "    a. Salário bruto.\n",
    "    b. Quanto pagou ao INSS.\n",
    "    c. Quanto pagou ao sindicato.\n",
    "    d. O salário líquido.\n",
    "    e. Calcule os descontos e o salário líquido, conforme a tabela abaixo:\n",
    "        + Salário Bruto : RS\n",
    "        - IR (11%) : RS\n",
    "        - INSS (8%) : RS\n",
    "        - Sindicato (5%) : RS\n",
    "        = Salário Liquido : RS\n",
    "        Obs.: Salário Bruto - Descontos = Salário Líquido."
   ],
   "metadata": {
    "collapsed": false,
    "pycharm": {
     "name": "#%% md\n"
    }
   }
  },
  {
   "cell_type": "code",
   "execution_count": 18,
   "outputs": [],
   "source": [
    "ganhoPorHora = float(input('Quanto você ganha por hora?'))\n",
    "horasTrabalhadas = int(input('Horas trabalhadas no mês'))"
   ],
   "metadata": {
    "collapsed": false,
    "pycharm": {
     "name": "#%%\n"
    }
   }
  },
  {
   "cell_type": "code",
   "execution_count": 19,
   "outputs": [],
   "source": [
    "salarioBruto = ganhoPorHora * horasTrabalhadas"
   ],
   "metadata": {
    "collapsed": false,
    "pycharm": {
     "name": "#%%\n"
    }
   }
  },
  {
   "cell_type": "code",
   "execution_count": 20,
   "outputs": [],
   "source": [
    "imposto = salarioBruto * 0.11\n",
    "inss = salarioBruto * 0.08\n",
    "sindicato = salarioBruto * 0.05"
   ],
   "metadata": {
    "collapsed": false,
    "pycharm": {
     "name": "#%%\n"
    }
   }
  },
  {
   "cell_type": "code",
   "execution_count": 21,
   "outputs": [],
   "source": [
    "descontos = imposto + inss + sindicato"
   ],
   "metadata": {
    "collapsed": false,
    "pycharm": {
     "name": "#%%\n"
    }
   }
  },
  {
   "cell_type": "code",
   "execution_count": 22,
   "outputs": [],
   "source": [
    "salarioLiquido = salarioBruto - descontos"
   ],
   "metadata": {
    "collapsed": false,
    "pycharm": {
     "name": "#%%\n"
    }
   }
  },
  {
   "cell_type": "code",
   "execution_count": 24,
   "outputs": [
    {
     "name": "stdout",
     "output_type": "stream",
     "text": [
      "+ Salário Bruto : R$5488.00\n",
      "- IR (11%) : R$603.68\n",
      "- INSS (8%) : R$439.04\n",
      "- Sindicato (5%) : R$274.40\n",
      "= Salário Líquido : R$4170.88\n"
     ]
    }
   ],
   "source": [
    "print(f'+ Salário Bruto : R${salarioBruto:.2f}\\n'\n",
    "      f'- IR (11%) : R${imposto:.2f}\\n'\n",
    "      f'- INSS (8%) : R${inss:.2f}\\n'\n",
    "      f'- Sindicato (5%) : R${sindicato:.2f}\\n'\n",
    "      f'= Salário Líquido : R${salarioLiquido:.2f}')"
   ],
   "metadata": {
    "collapsed": false,
    "pycharm": {
     "name": "#%%\n"
    }
   }
  }
 ],
 "metadata": {
  "kernelspec": {
   "display_name": "Python 3",
   "language": "python",
   "name": "python3"
  },
  "language_info": {
   "codemirror_mode": {
    "name": "ipython",
    "version": 2
   },
   "file_extension": ".py",
   "mimetype": "text/x-python",
   "name": "python",
   "nbconvert_exporter": "python",
   "pygments_lexer": "ipython2",
   "version": "2.7.6"
  }
 },
 "nbformat": 4,
 "nbformat_minor": 0
}