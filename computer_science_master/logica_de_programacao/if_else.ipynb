{
 "cells": [
  {
   "cell_type": "raw",
   "source": [
    "Fácil 1- Faça um programa que peça dois números e verifique (usando if e else) e imprima o maior deles"
   ],
   "metadata": {
    "collapsed": false
   }
  },
  {
   "cell_type": "code",
   "execution_count": null,
   "outputs": [],
   "source": [
    "try:\n",
    "    num1 = float(input(\"Digite o primeiro número: \"))\n",
    "    num2 = float(input(\"Digite o segundo número: \"))\n",
    "    print(\"O maior número é:\", num1 if num1 > num2 else num2)\n",
    "except ValueError:\n",
    "    print(\"Digite apenas números!\")"
   ],
   "metadata": {
    "collapsed": false
   }
  },
  {
   "cell_type": "raw",
   "source": [
    "Fácil 2- Faça um programa que peça um valor e mostre na tela se o valor é positivo ou negativo"
   ],
   "metadata": {
    "collapsed": false
   }
  },
  {
   "cell_type": "code",
   "execution_count": null,
   "outputs": [],
   "source": [
    "try:\n",
    "    num = float(input(\"Digite um número: \"))\n",
    "    print(\"O número é positivo\" if num > 0 else \"O número é negativo\")\n",
    "except ValueError:\n",
    "    print(\"Digite apenas números!\")"
   ],
   "metadata": {
    "collapsed": false
   }
  },
  {
   "cell_type": "raw",
   "source": [
    "Fácil 3- Faça um programa que verifique (usando if e else) se uma letra digitada é “F” ou “M”. Conforme a letra escrever: F – Feminino, M- Masculino, Sexo inválido."
   ],
   "metadata": {
    "collapsed": false
   }
  },
  {
   "cell_type": "code",
   "execution_count": null,
   "outputs": [],
   "source": [
    "sexo = input(\"Digite seu sexo (F ou M): \").upper()\n",
    "match sexo:\n",
    "    case \"F\":\n",
    "        print(\"Feminino\")\n",
    "    case \"M\":\n",
    "        print(\"Masculino\")\n",
    "    case _:\n",
    "        print(\"Sexo inválido\")"
   ],
   "metadata": {
    "collapsed": false
   }
  },
  {
   "cell_type": "raw",
   "source": [
    "Fácil 4- Faça um programa que verifique (usando if e else) se uma letra digitada é vogal ou consoante."
   ],
   "metadata": {
    "collapsed": false
   }
  },
  {
   "cell_type": "code",
   "execution_count": null,
   "outputs": [],
   "source": [
    "from string import ascii_letters\n",
    "\n",
    "VOGAIS: str = \"AEIOU\"\n",
    "letra = input(\"Digite uma letra: \").upper()\n",
    "if len(letra) > 1:\n",
    "    print(\"Digite apenas uma letra!\")\n",
    "elif letra in ascii_letters:\n",
    "    if letra in VOGAIS:\n",
    "        print(\"Vogal\")\n",
    "    else:\n",
    "        print(\"Consoante\")\n",
    "else:\n",
    "    print(\"Digite apenas letras!\")"
   ],
   "metadata": {
    "collapsed": false
   }
  },
  {
   "cell_type": "raw",
   "source": [
    "Fácil 5- Faça um programa para a leitura de duas notas parciais de um aluno.\n",
    "\n",
    "° A mensagem “Aprovado”, se a média alcançada for maior ou igual a sete;\n",
    "° A mensagem “Aprovado com Distinção”, se a média for igual a dez;\n",
    "° A mensagem “Reprovado” se a média for menor de do que sete;"
   ],
   "metadata": {
    "collapsed": false
   }
  },
  {
   "cell_type": "code",
   "execution_count": null,
   "outputs": [],
   "source": [
    "try:\n",
    "    nota1: float = float(input(\"Digite a primeira nota: \"))\n",
    "    nota2: float = float(input(\"Digite a segunda nota: \"))\n",
    "    if 0 <= nota1 <= 10 and 0 <= nota2 <= 10:\n",
    "        media: float = (nota1 + nota2) / 2\n",
    "        if media == 10:\n",
    "            print(\"Aprovado com Distinção\")\n",
    "        elif media >= 7:\n",
    "            print(\"Aprovado\")\n",
    "        else:\n",
    "            print(\"Reprovado\")\n",
    "    else:\n",
    "        print(\"Digite apenas notas entre 0 e 10!\")\n",
    "except ValueError:\n",
    "    print(\"Digite apenas números!\")"
   ],
   "metadata": {
    "collapsed": false
   }
  },
  {
   "cell_type": "raw",
   "source": [
    "Intermediário 6- Faça um programa que leia três números, verifique (usando if e else), e mostre o maior deles."
   ],
   "metadata": {
    "collapsed": false
   }
  },
  {
   "cell_type": "code",
   "execution_count": null,
   "outputs": [],
   "source": [
    "try:\n",
    "    num1: float = float(input(\"Digite o primeiro número: \"))\n",
    "    num2: float = float(input(\"Digite o segundo número: \"))\n",
    "    num3: float = float(input(\"Digite o terceiro número: \"))\n",
    "    maior: float = max(num1, num2, num3)\n",
    "    print(\"O maior número é:\", maior)\n",
    "except ValueError:\n",
    "    print(\"Digite apenas números!\")"
   ],
   "metadata": {
    "collapsed": false
   }
  },
  {
   "cell_type": "raw",
   "source": [
    "Intermediário 7- Faça um programa que leia três números, verifique (usando if e else), e mostre o maior e o menor deles."
   ],
   "metadata": {
    "collapsed": false
   }
  },
  {
   "cell_type": "code",
   "execution_count": null,
   "outputs": [],
   "source": [
    "try:\n",
    "    numeros: list[int] = []\n",
    "    for i in range(1, 4):\n",
    "        numeros.append(int(input(f\"Digite o {i}º número: \")))\n",
    "    print(\"O maior número é:\", max(numeros))\n",
    "    print(\"O menor número é:\", min(numeros))\n",
    "except ValueError:\n",
    "    print(\"Digite apenas números!\")"
   ],
   "metadata": {
    "collapsed": false
   }
  },
  {
   "cell_type": "raw",
   "source": [
    "Fácil 8 - Faça um programa que pergunte o preço de três produtos e informe qual produto você deve comprar, sabendo que a decisão é sempre o mais barato."
   ],
   "metadata": {
    "collapsed": false
   }
  },
  {
   "cell_type": "code",
   "execution_count": null,
   "outputs": [],
   "source": [
    "try:\n",
    "    produtos: list[float] = []\n",
    "    for i in range(1, 4):\n",
    "        produtos.append(float(input(f\"Digite o preço do {i}º produto: \")))\n",
    "    print(\"O produto mais barato é o\", produtos.index(min(produtos)) + 1)\n",
    "except ValueError:\n",
    "    print(\"Digite apenas números!\")"
   ],
   "metadata": {
    "collapsed": false
   }
  },
  {
   "cell_type": "raw",
   "source": [
    "Intermediário 9 - Faça um programa que leia três números e mostre-os em ordem decrescente."
   ],
   "metadata": {
    "collapsed": false
   }
  },
  {
   "cell_type": "code",
   "execution_count": null,
   "outputs": [],
   "source": [
    "try:\n",
    "    numeros: list[float] = []\n",
    "    for i in range(1, 4):\n",
    "        numeros.append(float(input(f\"Digite o {i}º número: \")))\n",
    "    print(\"Os números em ordem decrescente são:\", sorted(numeros, reverse=True))\n",
    "except ValueError:\n",
    "    print(\"Digite apenas números!\")"
   ],
   "metadata": {
    "collapsed": false
   }
  },
  {
   "cell_type": "raw",
   "source": [
    "Fácil 10 - Faça um programa que pergunte em que turno você estuda. Peça para digitar M-matutino ou V-vespertino ou N-noturno. Imprima a mensagem “Bom dia!” ou  “Boa Noite” ou “Valor inválido”, conforme o caso."
   ],
   "metadata": {
    "collapsed": false
   }
  },
  {
   "cell_type": "code",
   "execution_count": null,
   "outputs": [],
   "source": [
    "try:\n",
    "    turno: str = input(\"Digite o turno que você estuda (M-matutino, V-vespertino ou N-noturno): \").upper()\n",
    "    match turno:\n",
    "        case \"M\":\n",
    "            print(\"Bom dia!\")\n",
    "        case \"V\":\n",
    "            print(\"Boa tarde!\")\n",
    "        case \"N\":\n",
    "            print(\"Boa noite!\")\n",
    "        case _:\n",
    "            print(\"Valor inválido!\")\n",
    "except ValueError:\n",
    "    print(\"Digite apenas letras!\")"
   ],
   "metadata": {
    "collapsed": false
   }
  },
  {
   "cell_type": "raw",
   "source": [
    "Difícil 11 - As organizações CSM resolveram dar um aumento de salário aos seus colaboradores e lhe contrataram para desenvolver o programa que calculará os reajustes.\n",
    "\n",
    "a. Faça um programa que recebe o salário de um colaborador e o reajuste segundo o seguinte critério, baseado no salário atual;\n",
    "b. Salários até R$ 280,00 (incluindo): aumento de 20%;\n",
    "c. Salários entre R$ 280,00 e R$700,00: aumento de 15%;\n",
    "d. Salários entre R$ 700,00 e R$ 1500,00: aumento de 10%;\n",
    "e. Salários de R$ 1500,00 em diante: aumento de 5%;\n",
    "\n",
    "Após o aumento ser realizado; informe na tela;\n",
    "\n",
    "a. O salário antes do reajuste;\n",
    "b. O percentual de aumento aplicado;\n",
    "c. O valor do aumento;\n",
    "d. O novo salário, após o aumento."
   ],
   "metadata": {
    "collapsed": false
   }
  },
  {
   "cell_type": "code",
   "execution_count": null,
   "outputs": [],
   "source": [
    "try:\n",
    "    salario: float = float(input(\"Digite o salário do colaborador: \"))\n",
    "    if salario <= 280:\n",
    "        percentual: float = 0.2\n",
    "    elif salario <= 700:\n",
    "        percentual: float = 0.15\n",
    "    elif salario <= 1500:\n",
    "        percentual: float = 0.1\n",
    "    else:\n",
    "        percentual: float = 0.05\n",
    "\n",
    "    aumento: float = salario * percentual\n",
    "    novo_salario: float = salario + aumento\n",
    "\n",
    "    print(\"Salário antes do reajuste: $\", salario)\n",
    "    print(\"Percentual de aumento aplicado:\", percentual * 100, \"%\")\n",
    "    print(\"Valor do aumento: $\", format(aumento, \".2f\"))\n",
    "    print(\"Novo salário: $\", format(novo_salario, \".2f\"))\n",
    "except ValueError:\n",
    "    print(\"Digite apenas números!\")"
   ],
   "metadata": {
    "collapsed": false
   }
  },
  {
   "cell_type": "raw",
   "source": [
    "Difícil 12 - Faça um programa para o cálculo de uma folha de pagamento, sabendo que os descontos são do imposto de Renda, que depende do salário bruto (conforme tabela abaixo) e 3% para o Sindicato e que o FGTS corresponde a 11% do salário bruto, mas não é descontado (é a empresa que deposita.)\n",
    "\n",
    "O salário líquido corresponde ao salário bruto menos os descontos O programa deverá pedir ao usuário o valor da sua hora e a quantidade de horas trabalhadas no mês.\n",
    "\n",
    "a. Desconto do IR;\n",
    "b. Salário Bruto ate R$900,00 (inclusive) – Isento;\n",
    "c. Salário Bruto de R$ 1500, 00 (inclusive) – desconto de 5%;\n",
    "d. Salario bruto até R$ 2500,00 (Inclusive) – desconto de 10%;\n",
    "e. Salário bruto acima de 2500 – Desconto de 20%.\n",
    "Imprima na tela as informações, dispostas conforme o exemplo abaixo, no exemplo valor da hora é 5 e a quantidade de horas é 220.\n",
    "\n",
    "Salário bruto (5 * 220)           : R$    1100,00\n",
    "\n",
    "( – ) IR ( 5% )                   : R$      55,00\n",
    "\n",
    "( – ) INSS ( 10% )                : R$     110,00\n",
    "\n",
    "( - ) FGTS ( 11% )                : R$     121,00\n",
    "\n",
    "Total de descontos                : R$     165,00\n",
    "\n",
    "Salário Líquido                   : R$     935,00"
   ],
   "metadata": {
    "collapsed": false
   }
  },
  {
   "cell_type": "code",
   "execution_count": 33,
   "outputs": [
    {
     "name": "stdout",
     "output_type": "stream",
     "text": [
      "Salário bruto (150.0 * 180.0) : R$ 27000.00\n",
      "( - ) IR (5%) : R$ 5400.00\n",
      "( - ) INSS (10%) : R$ 2700.00\n",
      "( - ) FGTS (11%) : R$ 2970.00\n",
      "Total de descontos : R$ 11070.00\n",
      "Salário Líquido : R$ 15930.00\n"
     ]
    }
   ],
   "source": [
    "try:\n",
    "    valor_hora: float = float(input(\"Digite o valor da hora trabalhada: \"))\n",
    "    horas_trabalhadas: float = float(input(\"Digite a quantidade de horas trabalhadas no mês: \"))\n",
    "    salario_bruto: float = valor_hora * horas_trabalhadas\n",
    "    inss: float = salario_bruto * 0.1\n",
    "    fgts: float = salario_bruto * 0.11\n",
    "    if salario_bruto <= 900:\n",
    "        ir: float = 0\n",
    "    elif salario_bruto <= 1500:\n",
    "        ir: float = salario_bruto * 0.05\n",
    "    elif salario_bruto <= 2500:\n",
    "        ir: float = salario_bruto * 0.1\n",
    "    else:\n",
    "        ir: float = salario_bruto * 0.2\n",
    "    total_descontos: float = inss + ir + fgts\n",
    "    salario_liquido: float = salario_bruto - total_descontos\n",
    "except ValueError:\n",
    "    print(\"Digite apenas números!\")\n",
    "else:\n",
    "    print(f\"Salário bruto ({valor_hora} * {horas_trabalhadas}) : R$ {salario_bruto:.2f}\")\n",
    "    print(f\"( - ) IR (5%) : R$ {ir:.2f}\")\n",
    "    print(f\"( - ) INSS (10%) : R$ {inss:.2f}\")\n",
    "    print(f\"( - ) FGTS (11%) : R$ {fgts:.2f}\")\n",
    "    print(f\"Total de descontos : R$ {total_descontos:.2f}\")\n",
    "    print(f\"Salário Líquido : R$ {salario_liquido:.2f}\")"
   ],
   "metadata": {
    "collapsed": false
   }
  },
  {
   "cell_type": "raw",
   "source": [
    "Fácil 13 – Faça um Programa que leia um número e exiba o dia correspondente da semana. (1- Domingo , 2- Segunda, etc.) se digitar outro valor deve aparecer “valor inválido)"
   ],
   "metadata": {
    "collapsed": false
   }
  },
  {
   "cell_type": "code",
   "execution_count": null,
   "outputs": [],
   "source": [
    "try:\n",
    "    dia: int = int(input(\"Digite um número de 1 a 7: \"))\n",
    "    match dia:\n",
    "        case 1:\n",
    "            print(\"Domingo\")\n",
    "        case 2:\n",
    "            print(\"Segunda\")\n",
    "        case 3:\n",
    "            print(\"Terça\")\n",
    "        case 4:\n",
    "            print(\"Quarta\")\n",
    "        case 5:\n",
    "            print(\"Quinta\")\n",
    "        case 6:\n",
    "            print(\"Sexta\")\n",
    "        case 7:\n",
    "            print(\"Sábado\")\n",
    "        case _:\n",
    "            print(\"Valor inválido!\")\n",
    "except ValueError:\n",
    "    print(\"Digite apenas números!\")"
   ],
   "metadata": {
    "collapsed": false
   }
  },
  {
   "cell_type": "raw",
   "source": [
    "Intermediário 14 – Faça um programa que lê as duas notas parciais obtidas por um aluno numa disciplina ao longo de um semestre, e calcule a sua média. A atribuição de conceitos obedece à tabela abaixo:\n",
    "\n",
    "Média de aproveitamento        Conceito\n",
    "   Entre 9.0 e 10.0               A\n",
    "   Entre 7.5 e 9.0                B\n",
    "   Entre 6.0 e 7.5                C\n",
    "   Entre 4.0 e 6.0                D\n",
    "   Entre 4.0 e 0                  E"
   ],
   "metadata": {
    "collapsed": false
   }
  },
  {
   "cell_type": "code",
   "execution_count": 31,
   "outputs": [
    {
     "name": "stdout",
     "output_type": "stream",
     "text": [
      "Digite apenas notas entre 0 e 10!\n"
     ]
    }
   ],
   "source": [
    "try:\n",
    "    nota1: float = float(input(\"Digite a primeira nota: \"))\n",
    "    nota2: float = float(input(\"Digite a segunda nota: \"))\n",
    "    conceito: str = \"\"\n",
    "    if 0 <= nota1 <= 10 and 0 <= nota2 <= 10:\n",
    "        media: float = (nota1 + nota2) / 2\n",
    "        if 9 <= media <= 10:\n",
    "            conceito: str = \"A\"\n",
    "        elif 7.5 <= media < 9:\n",
    "            conceito: str = \"B\"\n",
    "        elif 6 <= media < 7.5:\n",
    "            conceito: str = \"C\"\n",
    "        elif 4 <= media < 6:\n",
    "            conceito: str = \"D\"\n",
    "        elif 0 <= media < 4:\n",
    "            conceito: str = \"E\"\n",
    "    else:\n",
    "        raise ValueError(\"Digite apenas notas entre 0 e 10!\")\n",
    "    media: float = (nota1 + nota2) / 2\n",
    "except ValueError as e:\n",
    "    print(e)\n",
    "else:\n",
    "    print(f\"Média: {media:.2f}\")\n",
    "    if conceito:\n",
    "        print(f\"Conceito: {conceito}\")"
   ],
   "metadata": {
    "collapsed": false
   }
  }
 ],
 "metadata": {
  "kernelspec": {
   "display_name": "Python 3",
   "language": "python",
   "name": "python3"
  },
  "language_info": {
   "codemirror_mode": {
    "name": "ipython",
    "version": 2
   },
   "file_extension": ".py",
   "mimetype": "text/x-python",
   "name": "python",
   "nbconvert_exporter": "python",
   "pygments_lexer": "ipython2",
   "version": "2.7.6"
  }
 },
 "nbformat": 4,
 "nbformat_minor": 0
}
