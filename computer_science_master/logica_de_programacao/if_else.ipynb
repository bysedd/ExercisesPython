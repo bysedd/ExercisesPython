{
 "cells": [
  {
   "cell_type": "markdown",
   "source": [
    "# Imports"
   ],
   "metadata": {
    "collapsed": false
   }
  },
  {
   "cell_type": "code",
   "execution_count": null,
   "outputs": [],
   "source": [
    "from math import sqrt\n",
    "from typing import TypeVar"
   ],
   "metadata": {
    "collapsed": false
   }
  },
  {
   "cell_type": "raw",
   "source": [
    "Fácil 1 - Faça um programa que peça dois números e verifique (usando if e else) e imprima o maior deles"
   ],
   "metadata": {
    "collapsed": false
   }
  },
  {
   "cell_type": "code",
   "execution_count": null,
   "outputs": [],
   "source": [
    "try:\n",
    "    num1 = float(input(\"Digite o primeiro número: \"))\n",
    "    num2 = float(input(\"Digite o segundo número: \"))\n",
    "    print(\"O maior número é:\", num1 if num1 > num2 else num2)\n",
    "except ValueError:\n",
    "    print(\"Digite apenas números!\")"
   ],
   "metadata": {
    "collapsed": false
   }
  },
  {
   "cell_type": "raw",
   "source": [
    "Fácil 2 - Faça um programa que peça um valor e mostre na tela se o valor é positivo ou negativo"
   ],
   "metadata": {
    "collapsed": false
   }
  },
  {
   "cell_type": "code",
   "execution_count": null,
   "outputs": [],
   "source": [
    "try:\n",
    "    num = float(input(\"Digite um número: \"))\n",
    "    print(\"O número é positivo\" if num > 0 else \"O número é negativo\")\n",
    "except ValueError:\n",
    "    print(\"Digite apenas números!\")"
   ],
   "metadata": {
    "collapsed": false
   }
  },
  {
   "cell_type": "raw",
   "source": [
    "Fácil 3 - Faça um programa que verifique (usando if e else) se uma letra digitada é “F” ou “M”. Conforme a letra escrever: F – Feminino, M- Masculino, Sexo inválido."
   ],
   "metadata": {
    "collapsed": false
   }
  },
  {
   "cell_type": "code",
   "execution_count": null,
   "outputs": [],
   "source": [
    "sexo = input(\"Digite seu sexo (F ou M): \").upper()\n",
    "match sexo:\n",
    "    case \"F\":\n",
    "        print(\"Feminino\")\n",
    "    case \"M\":\n",
    "        print(\"Masculino\")\n",
    "    case _:\n",
    "        print(\"Sexo inválido\")"
   ],
   "metadata": {
    "collapsed": false
   }
  },
  {
   "cell_type": "raw",
   "source": [
    "Fácil 4 - Faça um programa que verifique (usando if e else) se uma letra digitada é vogal ou consoante."
   ],
   "metadata": {
    "collapsed": false
   }
  },
  {
   "cell_type": "code",
   "execution_count": null,
   "outputs": [],
   "source": [
    "from string import ascii_letters\n",
    "\n",
    "VOGAIS: str = \"AEIOU\"\n",
    "letra = input(\"Digite uma letra: \").upper()\n",
    "if len(letra) > 1:\n",
    "    print(\"Digite apenas uma letra!\")\n",
    "elif letra in ascii_letters:\n",
    "    if letra in VOGAIS:\n",
    "        print(\"Vogal\")\n",
    "    else:\n",
    "        print(\"Consoante\")\n",
    "else:\n",
    "    print(\"Digite apenas letras!\")"
   ],
   "metadata": {
    "collapsed": false
   }
  },
  {
   "cell_type": "raw",
   "source": [
    "Fácil 5 - Faça um programa para a leitura de duas notas parciais de um aluno.\n",
    "\n",
    "° A mensagem “Aprovado”, se a média alcançada for maior ou igual a sete;\n",
    "° A mensagem “Aprovado com Distinção”, se a média for igual a dez;\n",
    "° A mensagem “Reprovado” se a média for menor de do que sete;"
   ],
   "metadata": {
    "collapsed": false
   }
  },
  {
   "cell_type": "code",
   "execution_count": null,
   "outputs": [],
   "source": [
    "try:\n",
    "    nota1: float = float(input(\"Digite a primeira nota: \"))\n",
    "    nota2: float = float(input(\"Digite a segunda nota: \"))\n",
    "    if 0 <= nota1 <= 10 and 0 <= nota2 <= 10:\n",
    "        media: float = (nota1 + nota2) / 2\n",
    "        if media == 10:\n",
    "            print(\"Aprovado com Distinção\")\n",
    "        elif media >= 7:\n",
    "            print(\"Aprovado\")\n",
    "        else:\n",
    "            print(\"Reprovado\")\n",
    "    else:\n",
    "        print(\"Digite apenas notas entre 0 e 10!\")\n",
    "except ValueError:\n",
    "    print(\"Digite apenas números!\")"
   ],
   "metadata": {
    "collapsed": false
   }
  },
  {
   "cell_type": "raw",
   "source": [
    "Intermediário 6 - Faça um programa que leia três números, verifique (usando if e else), e mostre o maior deles."
   ],
   "metadata": {
    "collapsed": false
   }
  },
  {
   "cell_type": "code",
   "execution_count": null,
   "outputs": [],
   "source": [
    "try:\n",
    "    num1: float = float(input(\"Digite o primeiro número: \"))\n",
    "    num2: float = float(input(\"Digite o segundo número: \"))\n",
    "    num3: float = float(input(\"Digite o terceiro número: \"))\n",
    "    maior: float = max(num1, num2, num3)\n",
    "    print(\"O maior número é:\", maior)\n",
    "except ValueError:\n",
    "    print(\"Digite apenas números!\")"
   ],
   "metadata": {
    "collapsed": false
   }
  },
  {
   "cell_type": "raw",
   "source": [
    "Intermediário 7 - Faça um programa que leia três números, verifique (usando if e else), e mostre o maior e o menor deles."
   ],
   "metadata": {
    "collapsed": false
   }
  },
  {
   "cell_type": "code",
   "execution_count": null,
   "outputs": [],
   "source": [
    "try:\n",
    "    numeros: list[int] = []\n",
    "    for i in range(1, 4):\n",
    "        numeros.append(int(input(f\"Digite o {i}º número: \")))\n",
    "    print(\"O maior número é:\", max(numeros))\n",
    "    print(\"O menor número é:\", min(numeros))\n",
    "except ValueError:\n",
    "    print(\"Digite apenas números!\")"
   ],
   "metadata": {
    "collapsed": false
   }
  },
  {
   "cell_type": "raw",
   "source": [
    "Fácil 8 - Faça um programa que pergunte o preço de três produtos e informe qual produto você deve comprar, sabendo que a decisão é sempre o mais barato."
   ],
   "metadata": {
    "collapsed": false
   }
  },
  {
   "cell_type": "code",
   "execution_count": null,
   "outputs": [],
   "source": [
    "try:\n",
    "    produtos: list[float] = []\n",
    "    for i in range(1, 4):\n",
    "        produtos.append(float(input(f\"Digite o preço do {i}º produto: \")))\n",
    "    print(\"O produto mais barato é o\", produtos.index(min(produtos)) + 1)\n",
    "except ValueError:\n",
    "    print(\"Digite apenas números!\")"
   ],
   "metadata": {
    "collapsed": false
   }
  },
  {
   "cell_type": "raw",
   "source": [
    "Intermediário 9 - Faça um programa que leia três números e mostre-os em ordem decrescente."
   ],
   "metadata": {
    "collapsed": false
   }
  },
  {
   "cell_type": "code",
   "execution_count": null,
   "outputs": [],
   "source": [
    "try:\n",
    "    numeros: list[float] = []\n",
    "    for i in range(1, 4):\n",
    "        numeros.append(float(input(f\"Digite o {i}º número: \")))\n",
    "    print(\"Os números em ordem decrescente são:\", sorted(numeros, reverse=True))\n",
    "except ValueError:\n",
    "    print(\"Digite apenas números!\")"
   ],
   "metadata": {
    "collapsed": false
   }
  },
  {
   "cell_type": "raw",
   "source": [
    "Fácil 10 - Faça um programa que pergunte em que turno você estuda. Peça para digitar M-matutino ou V-vespertino ou N-noturno. Imprima a mensagem “Bom dia!” ou  “Boa Noite” ou “Valor inválido”, conforme o caso."
   ],
   "metadata": {
    "collapsed": false
   }
  },
  {
   "cell_type": "code",
   "execution_count": null,
   "outputs": [],
   "source": [
    "try:\n",
    "    turno: str = input(\"Digite o turno que você estuda (M-matutino, V-vespertino ou N-noturno): \").upper()\n",
    "    match turno:\n",
    "        case \"M\":\n",
    "            print(\"Bom dia!\")\n",
    "        case \"V\":\n",
    "            print(\"Boa tarde!\")\n",
    "        case \"N\":\n",
    "            print(\"Boa noite!\")\n",
    "        case _:\n",
    "            print(\"Valor inválido!\")\n",
    "except ValueError:\n",
    "    print(\"Digite apenas letras!\")"
   ],
   "metadata": {
    "collapsed": false
   }
  },
  {
   "cell_type": "raw",
   "source": [
    "Difícil 11 - As organizações CSM resolveram dar um aumento de salário aos seus colaboradores e lhe contrataram para desenvolver o programa que calculará os reajustes.\n",
    "\n",
    "a. Faça um programa que recebe o salário de um colaborador e o reajuste segundo o seguinte critério, baseado no salário atual;\n",
    "b. Salários até R$ 280,00 (incluindo): aumento de 20%;\n",
    "c. Salários entre R$ 280,00 e R$700,00: aumento de 15%;\n",
    "d. Salários entre R$ 700,00 e R$ 1500,00: aumento de 10%;\n",
    "e. Salários de R$ 1500,00 em diante: aumento de 5%;\n",
    "\n",
    "Após o aumento ser realizado; informe na tela;\n",
    "\n",
    "a. O salário antes do reajuste;\n",
    "b. O percentual de aumento aplicado;\n",
    "c. O valor do aumento;\n",
    "d. O novo salário, após o aumento."
   ],
   "metadata": {
    "collapsed": false
   }
  },
  {
   "cell_type": "code",
   "execution_count": null,
   "outputs": [],
   "source": [
    "try:\n",
    "    salario: float = float(input(\"Digite o salário do colaborador: \"))\n",
    "    if salario <= 280:\n",
    "        percentual: float = 0.2\n",
    "    elif salario <= 700:\n",
    "        percentual: float = 0.15\n",
    "    elif salario <= 1500:\n",
    "        percentual: float = 0.1\n",
    "    else:\n",
    "        percentual: float = 0.05\n",
    "\n",
    "    aumento: float = salario * percentual\n",
    "    novo_salario: float = salario + aumento\n",
    "\n",
    "    print(\"Salário antes do reajuste: $\", salario)\n",
    "    print(\"Percentual de aumento aplicado:\", percentual * 100, \"%\")\n",
    "    print(\"Valor do aumento: $\", format(aumento, \".2f\"))\n",
    "    print(\"Novo salário: $\", format(novo_salario, \".2f\"))\n",
    "except ValueError:\n",
    "    print(\"Digite apenas números!\")"
   ],
   "metadata": {
    "collapsed": false
   }
  },
  {
   "cell_type": "raw",
   "source": [
    "Difícil 12 - Faça um programa para o cálculo de uma folha de pagamento, sabendo que os descontos são do imposto de Renda, que depende do salário bruto (conforme tabela abaixo) e 3% para o Sindicato e que o FGTS corresponde a 11% do salário bruto, mas não é descontado (é a empresa que deposita.)\n",
    "\n",
    "O salário líquido corresponde ao salário bruto menos os descontos O programa deverá pedir ao usuário o valor da sua hora e a quantidade de horas trabalhadas no mês.\n",
    "\n",
    "a. Desconto do IR;\n",
    "b. Salário Bruto ate R$900,00 (inclusive) – Isento;\n",
    "c. Salário Bruto de R$ 1500, 00 (inclusive) – desconto de 5%;\n",
    "d. Salario bruto até R$ 2500,00 (Inclusive) – desconto de 10%;\n",
    "e. Salário bruto acima de 2500 – Desconto de 20%.\n",
    "Imprima na tela as informações, dispostas conforme o exemplo abaixo, no exemplo valor da hora é 5 e a quantidade de horas é 220.\n",
    "\n",
    "Salário bruto (5 * 220)           : R$    1100,00\n",
    "\n",
    "( – ) IR ( 5% )                   : R$      55,00\n",
    "\n",
    "( – ) INSS ( 10% )                : R$     110,00\n",
    "\n",
    "( - ) FGTS ( 11% )                : R$     121,00\n",
    "\n",
    "Total de descontos                : R$     165,00\n",
    "\n",
    "Salário Líquido                   : R$     935,00"
   ],
   "metadata": {
    "collapsed": false
   }
  },
  {
   "cell_type": "code",
   "execution_count": null,
   "outputs": [],
   "source": [
    "try:\n",
    "    valor_hora: float = float(input(\"Digite o valor da hora trabalhada: \"))\n",
    "    horas_trabalhadas: float = float(input(\"Digite a quantidade de horas trabalhadas no mês: \"))\n",
    "    salario_bruto: float = valor_hora * horas_trabalhadas\n",
    "    inss: float = salario_bruto * 0.1\n",
    "    fgts: float = salario_bruto * 0.11\n",
    "    if salario_bruto <= 900:\n",
    "        ir: float = 0\n",
    "    elif salario_bruto <= 1500:\n",
    "        ir: float = salario_bruto * 0.05\n",
    "    elif salario_bruto <= 2500:\n",
    "        ir: float = salario_bruto * 0.1\n",
    "    else:\n",
    "        ir: float = salario_bruto * 0.2\n",
    "    total_descontos: float = inss + ir + fgts\n",
    "    salario_liquido: float = salario_bruto - total_descontos\n",
    "except ValueError:\n",
    "    print(\"Digite apenas números!\")\n",
    "else:\n",
    "    print(f\"Salário bruto ({valor_hora} * {horas_trabalhadas}) : R$ {salario_bruto:.2f}\")\n",
    "    print(f\"( - ) IR (5%) : R$ {ir:.2f}\")\n",
    "    print(f\"( - ) INSS (10%) : R$ {inss:.2f}\")\n",
    "    print(f\"( - ) FGTS (11%) : R$ {fgts:.2f}\")\n",
    "    print(f\"Total de descontos : R$ {total_descontos:.2f}\")\n",
    "    print(f\"Salário Líquido : R$ {salario_liquido:.2f}\")"
   ],
   "metadata": {
    "collapsed": false
   }
  },
  {
   "cell_type": "raw",
   "source": [
    "Fácil 13 – Faça um Programa que leia um número e exiba o dia correspondente da semana. (1- Domingo , 2- Segunda, etc.) se digitar outro valor deve aparecer “valor inválido)"
   ],
   "metadata": {
    "collapsed": false
   }
  },
  {
   "cell_type": "code",
   "execution_count": null,
   "outputs": [],
   "source": [
    "try:\n",
    "    dia: int = int(input(\"Digite um número de 1 a 7: \"))\n",
    "    match dia:\n",
    "        case 1:\n",
    "            print(\"Domingo\")\n",
    "        case 2:\n",
    "            print(\"Segunda\")\n",
    "        case 3:\n",
    "            print(\"Terça\")\n",
    "        case 4:\n",
    "            print(\"Quarta\")\n",
    "        case 5:\n",
    "            print(\"Quinta\")\n",
    "        case 6:\n",
    "            print(\"Sexta\")\n",
    "        case 7:\n",
    "            print(\"Sábado\")\n",
    "        case _:\n",
    "            print(\"Valor inválido!\")\n",
    "except ValueError:\n",
    "    print(\"Digite apenas números!\")"
   ],
   "metadata": {
    "collapsed": false
   }
  },
  {
   "cell_type": "raw",
   "source": [
    "Intermediário 14 – Faça um programa que lê as duas notas parciais obtidas por um aluno numa disciplina ao longo de um semestre, e calcule a sua média. A atribuição de conceitos obedece à tabela abaixo:\n",
    "\n",
    "Média de aproveitamento        Conceito\n",
    "   Entre 9.0 e 10.0               A\n",
    "   Entre 7.5 e 9.0                B\n",
    "   Entre 6.0 e 7.5                C\n",
    "   Entre 4.0 e 6.0                D\n",
    "   Entre 4.0 e 0                  E"
   ],
   "metadata": {
    "collapsed": false
   }
  },
  {
   "cell_type": "code",
   "execution_count": null,
   "outputs": [],
   "source": [
    "try:\n",
    "    nota1: float = float(input(\"Digite a primeira nota: \"))\n",
    "    nota2: float = float(input(\"Digite a segunda nota: \"))\n",
    "    conceito: str = \"\"\n",
    "    if 0 <= nota1 <= 10 and 0 <= nota2 <= 10:\n",
    "        media: float = (nota1 + nota2) / 2\n",
    "        if 9 <= media <= 10:\n",
    "            conceito: str = \"A\"\n",
    "        elif 7.5 <= media < 9:\n",
    "            conceito: str = \"B\"\n",
    "        elif 6 <= media < 7.5:\n",
    "            conceito: str = \"C\"\n",
    "        elif 4 <= media < 6:\n",
    "            conceito: str = \"D\"\n",
    "        elif 0 <= media < 4:\n",
    "            conceito: str = \"E\"\n",
    "    else:\n",
    "        raise ValueError(\"Digite apenas notas entre 0 e 10!\")\n",
    "    media: float = (nota1 + nota2) / 2\n",
    "except ValueError as e:\n",
    "    print(e)\n",
    "else:\n",
    "    print(f\"Média: {media:.2f}\")\n",
    "    if conceito:\n",
    "        print(f\"Conceito: {conceito}\")"
   ],
   "metadata": {
    "collapsed": false
   }
  },
  {
   "cell_type": "raw",
   "source": [
    "Intermediário 15 - Faça um programa que peça os 3 lados de um triângulo. O programa deverá informar se os valores podem ser um triângulo. Indique, caso os lados formem um triângulo, se o mesmo é: equilátero, isósceles ou escaleno. Dicas:\n",
    "\n",
    "    Três lados formam um triangulo quando a soma de quaisquer dos dois lados é maior que o terceiro.\n",
    "    Triângulo Equilátero: três lados iguais;\n",
    "    Triângulo Isósceles: quaisquer dois lados iguais;\n",
    "    Triângulo Escaleno: três lados diferentes;"
   ],
   "metadata": {
    "collapsed": false
   }
  },
  {
   "cell_type": "code",
   "execution_count": null,
   "outputs": [],
   "source": [
    "def triangulo(_lados: list[float]) -> str:\n",
    "    if len(_lados) == 3:\n",
    "        if sum(_lados) - max(_lados) > max(_lados):\n",
    "            if _lados[0] == _lados[1] == _lados[2]:\n",
    "                return \"Equilátero\"\n",
    "            elif _lados[0] == _lados[1] or _lados[0] == _lados[2] or _lados[1] == _lados[2]:\n",
    "                return \"Isósceles\"\n",
    "            else:\n",
    "                return \"Escaleno\"\n",
    "    return \"Não é um triângulo!\""
   ],
   "metadata": {
    "collapsed": false
   }
  },
  {
   "cell_type": "code",
   "execution_count": null,
   "outputs": [],
   "source": [
    "try:\n",
    "    lados: list[float] = [float(input(f\"Digite o {i}º lado: \")) for i in range(1, 4)]\n",
    "    print(triangulo(lados))\n",
    "except ValueError:\n",
    "    print(\"Digite apenas números!\")"
   ],
   "metadata": {
    "collapsed": false
   }
  },
  {
   "cell_type": "raw",
   "source": [
    "Intermediário 16 – Faça um programa que calcule as raízes de uma equação do segundo grau, na forma ax2 + bx + c. O programa deverá pedir os valores de a, b e c e fazer as consistências, informando ao usuário nas seguintes situações:\n",
    "\n",
    "    Se o usuário informar o valor de A igual a zero, a equação não é do segundo grau e o programa não deve fazer pedir os demais valores, sendo encerrado;\n",
    "    Se o delta calculado for negativo, a equação não possui raizes reais. Informe ao usuário e encerre o programa;\n",
    "    Se o delta calculado for igual a zero a equação possui apenas uma raiz real; informe-a ao usuário;\n",
    "    Se o delta for positivo, a equação possui duas raiz reais; informe-as ao usuário;"
   ],
   "metadata": {
    "collapsed": false
   }
  },
  {
   "cell_type": "code",
   "execution_count": null,
   "outputs": [],
   "source": [
    "try:\n",
    "    a: float = float(input(\"Digite o valor de a: \"))\n",
    "    if a == 0:\n",
    "        raise ValueError(\"O valor de a não pode ser zero!\")\n",
    "    b: float = float(input(\"Digite o valor de b: \"))\n",
    "    c: float = float(input(\"Digite o valor de c: \"))\n",
    "    delta: float = b ** 2 - 4 * a * c\n",
    "    if delta < 0:\n",
    "        raise ValueError(\"A equação não possui raízes reais!\")\n",
    "    elif delta == 0:\n",
    "        raiz: float = -b / (2 * a)\n",
    "        print(f\"A equação possui apenas uma raiz real: {raiz:.2f}\")\n",
    "    else:\n",
    "        raiz1: float = (-b + sqrt(delta)) / (2 * a)\n",
    "        raiz2: float = (-b - sqrt(delta)) / (2 * a)\n",
    "        print(f\"A equação possui duas raízes reais: {raiz1:.2f} e {raiz2:.2f}\")\n",
    "except ValueError as e:\n",
    "    print(e)"
   ],
   "metadata": {
    "collapsed": false
   }
  },
  {
   "cell_type": "raw",
   "source": [
    "Intermediário 17 - Faça um Programa que peça um número correspondente a um determinado ano e em seguida informe se este ano e ou não bissexto"
   ],
   "metadata": {
    "collapsed": false
   }
  },
  {
   "cell_type": "code",
   "execution_count": null,
   "outputs": [],
   "source": [
    "try:\n",
    "    ano: int = int(input(\"Digite um ano: \"))\n",
    "    is_bissexto: bool = ano % 4 == 0 and ano % 100 != 0 or ano % 400 == 0\n",
    "    print(f\"O ano {ano} \", end=\"\")\n",
    "    if is_bissexto:\n",
    "        print(\"é bissexto!\")\n",
    "    else:\n",
    "        print(\"não é bissexto!\")\n",
    "except ValueError:\n",
    "    print(\"Digite apenas números!\")"
   ],
   "metadata": {
    "collapsed": false
   }
  },
  {
   "cell_type": "raw",
   "source": [
    "Intermediário 18 - Faça um Programa que peça um número inteiro e determine se ele e par ou ímpar. Dica: utilize o operador módulo (resto da divisão)."
   ],
   "metadata": {
    "collapsed": false
   }
  },
  {
   "cell_type": "code",
   "execution_count": null,
   "outputs": [],
   "source": [
    "try:\n",
    "    numero: int = int(input(\"Digite um número inteiro: \"))\n",
    "    print(f\"{numero = } -> \", end=\"\")\n",
    "    print(\"par!\" if numero % 2 == 0 else \"ímpar!\")\n",
    "except ValueError:\n",
    "    print(\"Digite apenas números inteiros!\")"
   ],
   "metadata": {
    "collapsed": false
   }
  },
  {
   "cell_type": "raw",
   "source": [
    "Fácil19 - Faça um Programa que leia 2 números e em seguida pergunte ao usuário qual operação ele deseja realizar. O resultado da operação deve ser acompanhado de uma frase que diga se o número e:\n",
    "\n",
    "Par ou ímpar;\n",
    "Positivo ou negativo;"
   ],
   "metadata": {
    "collapsed": false
   }
  },
  {
   "cell_type": "code",
   "execution_count": null,
   "outputs": [],
   "source": [
    "T = TypeVar(\"T\", int, float)"
   ],
   "metadata": {
    "collapsed": false
   }
  },
  {
   "cell_type": "code",
   "execution_count": null,
   "outputs": [],
   "source": [
    "def par_impar(_numero: int) -> str:\n",
    "    return \"par!\" if _numero % 2 == 0 else \"ímpar!\""
   ],
   "metadata": {
    "collapsed": false
   }
  },
  {
   "cell_type": "code",
   "execution_count": null,
   "outputs": [],
   "source": [
    "def positivo_negativo(_numero: int) -> str:\n",
    "    return \"positivo!\" if _numero > 0 else \"negativo!\""
   ],
   "metadata": {
    "collapsed": false
   }
  },
  {
   "cell_type": "code",
   "execution_count": null,
   "outputs": [],
   "source": [
    "def calculadora(_numero1: int, _numero2: int, _operacao: str) -> T:\n",
    "    match _operacao:\n",
    "        case \"+\":\n",
    "            return _numero1 + _numero2\n",
    "        case \"-\":\n",
    "            return _numero1 - _numero2\n",
    "        case \"*\":\n",
    "            return _numero1 * _numero2\n",
    "        case \"/\":\n",
    "            return _numero1 / _numero2\n",
    "        case \"%\":\n",
    "            return _numero1 % _numero2\n",
    "        case \"**\":\n",
    "            return _numero1 ** _numero2\n",
    "        case \"//\":\n",
    "            return _numero1 // _numero2\n",
    "        case _:\n",
    "            raise ValueError(\"Operação inválida!\")"
   ],
   "metadata": {
    "collapsed": false
   }
  },
  {
   "cell_type": "code",
   "execution_count": null,
   "outputs": [],
   "source": [
    "try:\n",
    "    numero1: int = int(input(\"Digite o primeiro número: \"))\n",
    "    numero2: int = int(input(\"Digite o segundo número: \"))\n",
    "    operacao: str = input(\"Digite a operação (+, -, *, /, %, **, //): \")\n",
    "    resultado: T = calculadora(numero1, numero2, operacao)\n",
    "    print(f\"{numero1} {operacao} {numero2} = {resultado}\")\n",
    "    print(f\"{resultado} é {par_impar(resultado)}\")\n",
    "    print(f\"{resultado} é {positivo_negativo(resultado)}\")\n",
    "except ValueError as e:\n",
    "    print(e)"
   ],
   "metadata": {
    "collapsed": false
   }
  },
  {
   "cell_type": "raw",
   "source": [
    "Fácil 20 - Faça um programa que faça 5 perguntas para uma pessoa sobre um crime. As perguntas são:\n",
    "\n",
    "“Telefonou para a vítima?“\n",
    "“Esteve no local do crime?”\n",
    "“Mora perto da vítima?“\n",
    "“Devia para a vítima?“\n",
    "“Já trabalhou com a vítima?“\n",
    "\n",
    "O programa deve no final emitir uma classificação sobre a participação da pessoa no crime. Se a pessoa responder positivamente a 2 questões ela deve ser classificada como “Suspeita”, entre 3 e 4 como “Cúmplice” e 5 como “Assassino“. Caso contrário, ele será classificado como “Inocente“."
   ],
   "metadata": {
    "collapsed": false
   }
  },
  {
   "cell_type": "code",
   "execution_count": null,
   "outputs": [],
   "source": [
    "def classificar(_respostas: list[str]) -> str:\n",
    "    if _respostas.count(\"s\") == 2:\n",
    "        return \"Suspeita\"\n",
    "    elif 3 <= _respostas.count(\"s\") <= 4:\n",
    "        return \"Cúmplice\"\n",
    "    elif _respostas.count(\"s\") == 5:\n",
    "        return \"Assassino\"\n",
    "    else:\n",
    "        return \"Inocente\""
   ],
   "metadata": {
    "collapsed": false
   }
  },
  {
   "cell_type": "code",
   "execution_count": null,
   "outputs": [],
   "source": [
    "PERGUNTAS: list[str] = [\n",
    "    \"Telefonou para a vítima?\",\n",
    "    \"Esteve no local do crime?\",\n",
    "    \"Mora perto da vítima?\",\n",
    "    \"Devia para a vítima?\",\n",
    "    \"Já trabalhou com a vítima?\",\n",
    "]"
   ],
   "metadata": {
    "collapsed": false
   }
  },
  {
   "cell_type": "code",
   "execution_count": null,
   "outputs": [],
   "source": [
    "respostas: list[str] = []\n",
    "try:\n",
    "    for pergunta in PERGUNTAS:\n",
    "        resposta: str = input(f\"{pergunta} (s/n): \").lower()\n",
    "        if resposta not in [\"s\", \"n\"]:\n",
    "            raise ValueError(\"Digite apenas s ou n!\")\n",
    "        respostas.append(resposta)\n",
    "    print(classificar(respostas))\n",
    "except ValueError:\n",
    "    print(\"Digite apenas s ou n!\")"
   ],
   "metadata": {
    "collapsed": false
   }
  },
  {
   "cell_type": "raw",
   "source": [
    "Intermediário 21 - Um posto está vendendo combustíveis com a seguinte tabela de descontos:\n",
    "\n",
    "Álcool:\n",
    "Até 20 litros: desconto de 3% por litro;\n",
    "Acima de 20 litros: Desconto de 5% por litro 99.\n",
    "\n",
    "Gasolina:\n",
    "Até 20 litros: desconto de 4% por litro;\n",
    "Acima de 20 litros, desconto de 6% por litro.\n",
    "\n",
    "Escreva um algoritmo que leia o número de litros vendidos, o tipo de combustível (codificado da seguinte forma: A-álcool. G-gasolina), calcule e imprima o valor a ser pago pelo cliente."
   ],
   "metadata": {
    "collapsed": false
   }
  },
  {
   "cell_type": "code",
   "execution_count": null,
   "outputs": [],
   "source": [
    "def calcular_preco(_litros: float, _tipo: str) -> float:\n",
    "    match _tipo:\n",
    "        case \"A\":\n",
    "            if _litros <= 20:\n",
    "                return _litros * 1.9 * 0.97\n",
    "            else:\n",
    "                return _litros * 1.9 * 0.95\n",
    "        case \"G\":\n",
    "            if _litros <= 20:\n",
    "                return _litros * 2.5 * 0.96\n",
    "            else:\n",
    "                return _litros * 2.5 * 0.94\n",
    "        case _:\n",
    "            raise ValueError(\"Tipo de combustível inválido!\")"
   ],
   "metadata": {
    "collapsed": false
   }
  },
  {
   "cell_type": "code",
   "execution_count": null,
   "outputs": [],
   "source": [
    "try:\n",
    "    litros: float = float(input(\"Digite a quantidade de litros: \"))\n",
    "    tipo: str = input(\"Digite o tipo de combustível (A/G): \").upper()\n",
    "    print(f\"O valor a ser pago é R$ {calcular_preco(litros, tipo):.2f}\")\n",
    "except ValueError as e:\n",
    "    print(e)"
   ],
   "metadata": {
    "collapsed": false
   }
  },
  {
   "cell_type": "raw",
   "source": [
    "Fácil 22 – Faça um programa que peça dois números ao usuário e mostre qual o maior e qual o menor."
   ],
   "metadata": {
    "collapsed": false
   }
  },
  {
   "cell_type": "code",
   "execution_count": null,
   "outputs": [],
   "source": [
    "try:\n",
    "    numeros: list[float] = [\n",
    "        float(input(\"Digite o primeiro número: \")),\n",
    "        float(input(\"Digite o segundo número: \")),\n",
    "    ]\n",
    "    print(f\"{max(numeros)} é o maior número!\")\n",
    "    print(f\"{min(numeros)} é o menor número!\")\n",
    "except ValueError:\n",
    "    print(\"Digite apenas números inteiros!\")"
   ],
   "metadata": {
    "collapsed": false
   }
  },
  {
   "cell_type": "raw",
   "source": [
    "Fácil 23 – Faça um programa que receba três inteiros e diga qual deles é o maior e qual o menor. Consegue criar mais de uma solução?"
   ],
   "metadata": {
    "collapsed": false
   }
  },
  {
   "cell_type": "code",
   "execution_count": null,
   "outputs": [],
   "source": [
    "# Solução 1\n",
    "try:\n",
    "    numeros: tuple[int, ...] = tuple([int(input(f\"Digite o {i}º número: \")) for i in range(1, 4)])\n",
    "    print(f\"{max(numeros)} é o maior número!\")\n",
    "    print(f\"{min(numeros)} é o menor número!\")\n",
    "except ValueError:\n",
    "    print(\"Digite apenas números inteiros!\")"
   ],
   "metadata": {
    "collapsed": false
   }
  },
  {
   "cell_type": "code",
   "execution_count": null,
   "outputs": [],
   "source": [
    "# Solução 2\n",
    "try:\n",
    "    numeros: list[int] = [int(input(f\"Digite o {i}º número: \")) for i in range(1, 4)]\n",
    "    numeros.sort()\n",
    "    print(f\"{numeros[-1]} é o maior número!\")\n",
    "    print(f\"{numeros[0]} é o menor número!\")\n",
    "except ValueError:\n",
    "    print(\"Digite apenas números inteiros!\")"
   ],
   "metadata": {
    "collapsed": false
   }
  },
  {
   "cell_type": "code",
   "execution_count": null,
   "outputs": [],
   "source": [
    "# Solução 3\n",
    "try:\n",
    "    numeros: list[int] = [int(input(f\"Digite o {i}º número: \")) for i in range(1, 4)]\n",
    "    maior: int = numeros[0]\n",
    "    menor: int = numeros[0]\n",
    "    for numero in numeros:\n",
    "        if numero > maior:\n",
    "            maior = numero\n",
    "        if numero < menor:\n",
    "            menor = numero\n",
    "    print(f\"{maior} é o maior número!\")\n",
    "    print(f\"{menor} é o menor número!\")\n",
    "except ValueError:\n",
    "    print(\"Digite apenas números inteiros!\")"
   ],
   "metadata": {
    "collapsed": false
   }
  },
  {
   "cell_type": "code",
   "execution_count": null,
   "outputs": [],
   "source": [
    "# Solução 4\n",
    "try:\n",
    "    numeros: list[int] = [int(input(f\"Digite o {i}º número: \")) for i in range(1, 4)]\n",
    "    maior: int = numeros[0]\n",
    "    menor: int = numeros[0]\n",
    "    for i in range(1, len(numeros)):\n",
    "        if numeros[i] > maior:\n",
    "            maior = numeros[i]\n",
    "        if numeros[i] < menor:\n",
    "            menor = numeros[i]\n",
    "    print(f\"{maior} é o maior número!\")\n",
    "    print(f\"{menor} é o menor número!\")\n",
    "except ValueError:\n",
    "    print(\"Digite apenas números inteiros!\")"
   ],
   "metadata": {
    "collapsed": false
   }
  },
  {
   "cell_type": "raw",
   "source": [
    "Fácil 24 – Escreva um programa em C que recebe um inteiro e diga se é par ou ímpar. Use o operador matemático % (resto da divisão ou módulo) e o teste condicional if."
   ],
   "metadata": {
    "collapsed": false
   }
  },
  {
   "cell_type": "code",
   "execution_count": null,
   "outputs": [],
   "source": [
    "\"\"\"\n",
    "#include <stdio.h>\n",
    "\n",
    "int main() {\n",
    "    int numero;\n",
    "    printf(\"Digite um número inteiro: \");\n",
    "    scanf(\"%d\", &numero);\n",
    "    if (numero % 2 == 0) {\n",
    "        printf(\"O número %d é par!\", numero);\n",
    "    } else {\n",
    "        printf(\"O número %d é ímpar!\", numero);\n",
    "    }\n",
    "    return 0;\n",
    "}\n",
    "\"\"\""
   ],
   "metadata": {
    "collapsed": false
   }
  },
  {
   "cell_type": "raw",
   "source": [
    "Fácil 25 – Escreva um programa que pergunte o raio de uma circunferência, e sem seguida mostre o diâmetro, comprimento e área da circunferência."
   ],
   "metadata": {
    "collapsed": false
   }
  },
  {
   "cell_type": "code",
   "execution_count": null,
   "outputs": [],
   "source": [
    "def calcular_diametro(_raio: float) -> float:\n",
    "    \"\"\"\n",
    "    Calcula o diâmetro de uma circunferência.\n",
    "    :param _raio: Raio da circunferência.\n",
    "    :return: Diâmetro da circunferência.\n",
    "    \"\"\"\n",
    "    return _raio * 2"
   ],
   "metadata": {
    "collapsed": false
   }
  },
  {
   "cell_type": "code",
   "execution_count": null,
   "outputs": [],
   "source": [
    "def calcular_comprimento(_raio: float) -> float:\n",
    "    \"\"\"\n",
    "    Calcula o comprimento de uma circunferência.\n",
    "    :param _raio: Raio da circunferência.\n",
    "    :return: Comprimento da circunferência.\n",
    "    \"\"\"\n",
    "    from math import pi\n",
    "    return 2 * pi * _raio"
   ],
   "metadata": {
    "collapsed": false
   }
  },
  {
   "cell_type": "code",
   "execution_count": null,
   "outputs": [],
   "source": [
    "def calcular_area(_raio: float) -> float:\n",
    "    \"\"\"\n",
    "    Calcula a área de uma circunferência.\n",
    "    :param _raio: Raio da circunferência.\n",
    "    :return: Área da circunferência.\n",
    "    \"\"\"\n",
    "    from math import pi\n",
    "    return pi * _raio ** 2"
   ],
   "metadata": {
    "collapsed": false
   }
  },
  {
   "cell_type": "code",
   "execution_count": null,
   "outputs": [],
   "source": [
    "try:\n",
    "    raio: float = float(input(\"Digite o raio da circunferência: \"))\n",
    "    print(f\"{raio = }\")\n",
    "    print(f\"Diâmetro: {calcular_diametro(raio):.2f}\")\n",
    "    print(f\"Comprimento: {calcular_comprimento(raio):.2f}\")\n",
    "    print(f\"Área: {calcular_area(raio):.2f}\")\n",
    "except ValueError:\n",
    "    print(\"Digite apenas números!\")"
   ],
   "metadata": {
    "collapsed": false
   }
  },
  {
   "cell_type": "raw",
   "source": [
    "Fácil 26 - Para doar sangue é necessário ter entre 18 e 67 anos. Faça um aplicativo que pergunte a idade de uma pessoa e diga se ela pode doar sangue ou não."
   ],
   "metadata": {
    "collapsed": false
   }
  },
  {
   "cell_type": "code",
   "execution_count": null,
   "outputs": [],
   "source": [
    "try:\n",
    "    idade: int = int(input(\"Digite a sua idade: \"))\n",
    "    if 18 <= idade <= 67:\n",
    "        print(\"Você pode doar sangue!\")\n",
    "    else:\n",
    "        print(\"Você não pode doar sangue!\")\n",
    "except ValueError:\n",
    "    print(\"Digite apenas números inteiros!\")"
   ],
   "metadata": {
    "collapsed": false
   }
  },
  {
   "cell_type": "raw",
   "source": [
    "Fácil 27 – Escreva um programa que pergunte o dia, mês e ano do aniversário de uma pessoa e diga se a data é válida ou não. Caso não seja, diga o motivo. Suponha que todos os meses tem 31 dias e que estejamos no ano de 2013."
   ],
   "metadata": {
    "collapsed": false
   }
  },
  {
   "cell_type": "code",
   "execution_count": null,
   "outputs": [],
   "source": [
    "def validar_data(_dia: int, _mes: int, _ano: int) -> bool:\n",
    "    \"\"\"\n",
    "    Valida uma data.\n",
    "    :param _dia: Dia.\n",
    "    :param _mes: Mês.\n",
    "    :param _ano: Ano.\n",
    "    :return: True se a data for válida, False caso contrário.\n",
    "    \"\"\"\n",
    "    from datetime import date\n",
    "\n",
    "    try:\n",
    "        date(day=_dia, month=_mes, year=_ano)\n",
    "        return True\n",
    "    except ValueError:\n",
    "        return False"
   ],
   "metadata": {
    "collapsed": false
   }
  },
  {
   "cell_type": "code",
   "execution_count": null,
   "outputs": [],
   "source": [
    "try:\n",
    "    aniversario: list = input(\"Digite o dia/mes/ano do seu aniversário: \").split(\"/\")\n",
    "    # Converte a lista de 'strings' para uma lista de inteiros.\n",
    "    aniversario = list(map(int, aniversario))\n",
    "    if validar_data(*aniversario):\n",
    "        print(\"A data é válida!\")\n",
    "    else:\n",
    "        print(\"A data é inválida!\")\n",
    "except (ValueError, TypeError):\n",
    "    print(\"Passe a data no formato dd/mm/aaaa\")"
   ],
   "metadata": {
    "collapsed": false
   }
  },
  {
   "cell_type": "raw",
   "source": [
    "Fácil 28 – Crie um programa que peça um número ao usuário e armazene ele na variável x. Depois peça outro número e armazene na variável y. Mostre esses números. Em seguida, faça com que x passe a ter o valor de y, e que y passe a ter o valor de x."
   ],
   "metadata": {
    "collapsed": false
   }
  },
  {
   "cell_type": "code",
   "execution_count": 31,
   "outputs": [
    {
     "name": "stdout",
     "output_type": "stream",
     "text": [
      "Digite apenas números inteiros!\n"
     ]
    }
   ],
   "source": [
    "try:\n",
    "    x: int = int(input(\"Digite um número inteiro: \"))\n",
    "    y: int = int(input(\"Digite outro número inteiro: \"))\n",
    "    print(f\"{x = }\")\n",
    "    print(f\"{y = }\", end=\"\\n\\n\")\n",
    "    # Troca os valores de x e y.\n",
    "    x, y = y, x\n",
    "    print(f\"{x = }\")\n",
    "    print(f\"{y = }\")\n",
    "except ValueError:\n",
    "    print(\"Digite apenas números inteiros!\")"
   ],
   "metadata": {
    "collapsed": false
   }
  }
 ],
 "metadata": {
  "kernelspec": {
   "display_name": "Python 3",
   "language": "python",
   "name": "python3"
  },
  "language_info": {
   "codemirror_mode": {
    "name": "ipython",
    "version": 2
   },
   "file_extension": ".py",
   "mimetype": "text/x-python",
   "name": "python",
   "nbconvert_exporter": "python",
   "pygments_lexer": "ipython2",
   "version": "2.7.6"
  }
 },
 "nbformat": 4,
 "nbformat_minor": 0
}
