{
 "cells": [
  {
   "cell_type": "code",
   "execution_count": null,
   "metadata": {},
   "outputs": [],
   "source": [
    "import numpy as np\n",
    "from functools import reduce\n",
    "from num2words import num2words"
   ]
  },
  {
   "attachments": {},
   "cell_type": "markdown",
   "metadata": {},
   "source": [
    "1. Leia um vetor de 12 posições e em seguida ler também dois valores X e Y quaisquer correspondentes a duas posições\n",
    "no vetor. Ao final seu programa deverá escrever a soma dos valores encontrados nas respectivas posições X e Y."
   ]
  },
  {
   "cell_type": "code",
   "execution_count": null,
   "metadata": {},
   "outputs": [],
   "source": [
    "vetor: np.ndarray = np.array([np.random.randint(1, 100) for _ in range(12)])\n",
    "x: int = int(input('x = '))\n",
    "y: int = int(input('y = '))\n",
    "print(f\"\\nO resultado da soma dos elementos do vetor entre os índices {x} e {y} é {vetor[x] + vetor[y]}\")"
   ]
  },
  {
   "attachments": {},
   "cell_type": "markdown",
   "metadata": {},
   "source": [
    "2. Declare um vetor de 10 posições e o preencha com os 10 primeiros números impares e o escreva."
   ]
  },
  {
   "cell_type": "code",
   "execution_count": null,
   "metadata": {},
   "outputs": [],
   "source": [
    "vetor: np.ndarray = np.zeros(10, dtype=int)\n",
    "i = 0\n",
    "\n",
    "while True:\n",
    "    try:\n",
    "        if i < 10:\n",
    "            n = int(input('Informe um número inteiro ímpar: '))\n",
    "            if n % 2 != 0:\n",
    "                vetor[i] = n\n",
    "                i += 1\n",
    "        else:\n",
    "            break\n",
    "    except ValueError as e:\n",
    "        print(e)\n",
    "\n",
    "print(f'\\nVetor: {vetor}')"
   ]
  },
  {
   "attachments": {},
   "cell_type": "markdown",
   "metadata": {},
   "source": [
    "3. Leia um vetor de 16 posições e troque os 8 primeiros valores pelos 8 últimos e vice-e-versa. Escreva ao final o\n",
    "vetor obtido."
   ]
  },
  {
   "cell_type": "code",
   "execution_count": null,
   "metadata": {},
   "outputs": [],
   "source": [
    "vetor: np.ndarray = np.array([np.random.randint(1, 100) for _ in range(16)])\n",
    "print(f'\\nVetor: {vetor[8:] + vetor[:8]}')"
   ]
  },
  {
   "attachments": {},
   "cell_type": "markdown",
   "metadata": {},
   "source": [
    "4. Leia um vetor de 20 posições e em seguida um valor X qualquer. Seu programa devera fazer uma busca do valor de X no vetor lido e informar a posição em que foi encontrado ou se não foi encontrado."
   ]
  },
  {
   "cell_type": "code",
   "execution_count": null,
   "metadata": {},
   "outputs": [],
   "source": [
    "vetor: np.ndarray = np.array([np.random.randint(0, 100) for _ in range(20)])\n",
    "print(vetor)\n",
    "\n",
    "x = int(input('Digite um inteiro: '))\n",
    "if x in vetor:\n",
    "    print(f'O elemento {x} está na posição {vetor.tolist().index(x) + 1}.')\n",
    "else:\n",
    "    print(f'O elemento {x} não foi encontrado.')"
   ]
  },
  {
   "attachments": {},
   "cell_type": "markdown",
   "metadata": {},
   "source": [
    "5. Leia um vetor de 40 posições. Contar e escrever quantos valores pares ele possui."
   ]
  },
  {
   "cell_type": "code",
   "execution_count": null,
   "metadata": {},
   "outputs": [],
   "source": [
    "vetor: list[int] = [np.random.randint(0, 100) for _ in range(40)]\n",
    "pares: list[int] = [i for i in vetor if i % 2 == 0]\n",
    "\n",
    "print(f\"O vetor possui {len(pares)} números pares.\")"
   ]
  },
  {
   "attachments": {},
   "cell_type": "markdown",
   "metadata": {},
   "source": [
    "6. Leia um vetor de 40 posições e atribua valor 0 para todos os elementos que possuírem valores negativos."
   ]
  },
  {
   "cell_type": "code",
   "execution_count": null,
   "metadata": {},
   "outputs": [],
   "source": [
    "vetor: np.ndarray = np.array([np.random.randint(-100, 100) for _ in range(40)])\n",
    "\n",
    "for i in range(len(vetor)):\n",
    "    if vetor[i] < 0:\n",
    "        vetor[i] = 0\n",
    "\n",
    "print(f\"Vetor: {sorted(vetor)}\")\n",
    "print(f\"Quantidade de números negativos: {len([i for i in vetor if i == 0])}\")  # 0 é o valor atribuído aos números negativos"
   ]
  },
  {
   "cell_type": "markdown",
   "metadata": {
    "collapsed": false
   },
   "source": [
    "7. Leia dois vetores de 20 posições e calcule um terceiro vetor contendo,\n",
    "nas posições pares, os valores do primeiro e nas posições impares, os valores do segundo."
   ]
  },
  {
   "cell_type": "code",
   "execution_count": null,
   "metadata": {
    "collapsed": false
   },
   "outputs": [],
   "source": [
    "v1: np.ndarray = np.array([np.random.randint(1, 100) for _ in range(20)])\n",
    "v2: np.ndarray = np.array([np.random.randint(1, 100) for _ in range(20)])\n",
    "v3: np.ndarray = np.array([v1[i] if i % 2 == 0 else v2[i] for i in range(20)])\n",
    "\n",
    "print(f\"Vetor 1: {v1}\")\n",
    "print(f\"Vetor 2: {v2}\")\n",
    "print(f\"Vetor 3: {v3}\")"
   ]
  },
  {
   "attachments": {},
   "cell_type": "markdown",
   "metadata": {
    "collapsed": false
   },
   "source": [
    "8. Leia um vetor de 40 posições e acumule os valores do primeiro elemento no segundo, deste no terceiro e assim por diante. Ao final, escreva o vetor obtido."
   ]
  },
  {
   "cell_type": "code",
   "execution_count": null,
   "metadata": {
    "collapsed": false
   },
   "outputs": [],
   "source": [
    "v1: list = [np.random.randint(1, 100) for _ in range(40)]\n",
    "v2: list = [reduce(lambda x, y: x + y, v1[:i + 1]) for i in range(len(v1))]\n",
    "\n",
    "print(f\"Vetor 1: {v1}\")\n",
    "print(f\"Vetor 2: {v2}\")"
   ]
  },
  {
   "attachments": {},
   "cell_type": "markdown",
   "metadata": {},
   "source": [
    "9. Leia um vetor contendo letras de uma frase inclusive os espaços em branco. Retirar os espaços em branco do vetor e depois escreva-os."
   ]
  },
  {
   "cell_type": "code",
   "execution_count": null,
   "metadata": {},
   "outputs": [],
   "source": [
    "frase: str = input('Digite uma frase: ')\n",
    "vetor: list[str] = [i for i in frase if i != ' ']\n",
    "print(f\"Vetor: {vetor}\")"
   ]
  },
  {
   "attachments": {},
   "cell_type": "markdown",
   "metadata": {},
   "source": [
    "10. Leia um vetor de 5 posições contendo os números. Em seguida escreva esse numero por extenso."
   ]
  },
  {
   "cell_type": "code",
   "execution_count": 26,
   "metadata": {},
   "outputs": [
    {
     "name": "stdout",
     "output_type": "stream",
     "text": [
      "70 -> seventy\n",
      "55 -> fifty-five\n",
      "10 -> ten\n",
      "58 -> fifty-eight\n",
      "36 -> thirty-six\n"
     ]
    }
   ],
   "source": [
    "vetor: np.ndarray = np.array([np.random.randint(10, 100) for _ in range(5)])\n",
    "for i in vetor:\n",
    "    print(f\"{i} -> {num2words(i)}\")"
   ]
  },
  {
   "attachments": {},
   "cell_type": "markdown",
   "metadata": {},
   "source": [
    "11. Leia dois vetores de 4 posições. Verifique e escreva se um é anagrama de outro."
   ]
  },
  {
   "cell_type": "code",
   "execution_count": 54,
   "metadata": {},
   "outputs": [
    {
     "name": "stdout",
     "output_type": "stream",
     "text": [
      "Os vetores são anagramas.\n"
     ]
    }
   ],
   "source": [
    "vet1: list = [letra for letra in input('Digite o primeiro vetor: ')]\n",
    "vet2: list = [letra for letra in input('Digite o segundo vetor: ')][::-1]\n",
    "\n",
    "if vet1 == vet2 and len(vet1) == 4:\n",
    "    print('Os vetores são anagramas.')\n",
    "elif vet1 == vet2 and len(vet1) != 4:\n",
    "    print('Os vetores são anagramas, mas não possuem 4 letras.')\n",
    "else:\n",
    "    print('Os vetores não são anagramas.')"
   ]
  },
  {
   "attachments": {},
   "cell_type": "markdown",
   "metadata": {},
   "source": [
    "12. Leia 3 vetores de 9 posições e crie outro com o 1º terço do primeiro, o segundo 3º. do segundo e o ultimo terço do 3º. Escrever o vetor resultante ao final."
   ]
  },
  {
   "cell_type": "code",
   "execution_count": null,
   "metadata": {},
   "outputs": [],
   "source": []
  }
 ],
 "metadata": {
  "kernelspec": {
   "display_name": "Python 3",
   "language": "python",
   "name": "python3"
  },
  "language_info": {
   "codemirror_mode": {
    "name": "ipython",
    "version": 3
   },
   "file_extension": ".py",
   "mimetype": "text/x-python",
   "name": "python",
   "nbconvert_exporter": "python",
   "pygments_lexer": "ipython3",
   "version": "3.11.1"
  },
  "orig_nbformat": 4,
  "vscode": {
   "interpreter": {
    "hash": "ff4b1fca65a764b45acb559e482afe389d289dd599b9f8c5fd12ff5c2ea46a65"
   }
  }
 },
 "nbformat": 4,
 "nbformat_minor": 2
}
