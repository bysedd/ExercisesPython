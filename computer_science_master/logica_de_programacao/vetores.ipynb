{
 "cells": [
  {
   "cell_type": "code",
   "execution_count": null,
   "metadata": {},
   "outputs": [],
   "source": [
    "import numpy as np\n",
    "from functools import reduce\n",
    "from num2words import num2words"
   ]
  },
  {
   "attachments": {},
   "cell_type": "markdown",
   "metadata": {},
   "source": [
    "1. Leia um vetor de 12 posições e em seguida ler também dois valores X e Y quaisquer correspondentes a duas posições\n",
    "no vetor. Ao final seu programa deverá escrever a soma dos valores encontrados nas respectivas posições X e Y."
   ]
  },
  {
   "cell_type": "code",
   "execution_count": null,
   "metadata": {},
   "outputs": [],
   "source": [
    "vetor: np.ndarray = np.array([np.random.randint(1, 100) for _ in range(12)])\n",
    "x: int = int(input('x = '))\n",
    "y: int = int(input('y = '))\n",
    "print(f\"\\nO resultado da soma dos elementos do vetor entre os índices {x} e {y} é {vetor[x] + vetor[y]}\")"
   ]
  },
  {
   "attachments": {},
   "cell_type": "markdown",
   "metadata": {},
   "source": [
    "2. Declare um vetor de 10 posições e o preencha com os 10 primeiros números impares e o escreva."
   ]
  },
  {
   "cell_type": "code",
   "execution_count": null,
   "metadata": {},
   "outputs": [],
   "source": [
    "vetor: np.ndarray = np.zeros(10, dtype=int)\n",
    "i = 0\n",
    "\n",
    "while True:\n",
    "    try:\n",
    "        if i < 10:\n",
    "            n = int(input('Informe um número inteiro ímpar: '))\n",
    "            if n % 2 != 0:\n",
    "                vetor[i] = n\n",
    "                i += 1\n",
    "        else:\n",
    "            break\n",
    "    except ValueError as e:\n",
    "        print(e)\n",
    "\n",
    "print(f'\\nVetor: {vetor}')"
   ]
  },
  {
   "attachments": {},
   "cell_type": "markdown",
   "metadata": {},
   "source": [
    "3. Leia um vetor de 16 posições e troque os 8 primeiros valores pelos 8 últimos e vice-e-versa. Escreva ao final o\n",
    "vetor obtido."
   ]
  },
  {
   "cell_type": "code",
   "execution_count": null,
   "metadata": {},
   "outputs": [],
   "source": [
    "vetor: np.ndarray = np.array([np.random.randint(1, 100) for _ in range(16)])\n",
    "print(f'\\nVetor: {vetor[8:] + vetor[:8]}')"
   ]
  },
  {
   "attachments": {},
   "cell_type": "markdown",
   "metadata": {},
   "source": [
    "4. Leia um vetor de 20 posições e em seguida um valor X qualquer. Seu programa devera fazer uma busca do valor de X no vetor lido e informar a posição em que foi encontrado ou se não foi encontrado."
   ]
  },
  {
   "cell_type": "code",
   "execution_count": null,
   "metadata": {},
   "outputs": [],
   "source": [
    "vetor: np.ndarray = np.array([np.random.randint(0, 100) for _ in range(20)])\n",
    "print(vetor)\n",
    "\n",
    "x = int(input('Digite um inteiro: '))\n",
    "if x in vetor:\n",
    "    print(f'O elemento {x} está na posição {vetor.tolist().index(x) + 1}.')\n",
    "else:\n",
    "    print(f'O elemento {x} não foi encontrado.')"
   ]
  },
  {
   "attachments": {},
   "cell_type": "markdown",
   "metadata": {},
   "source": [
    "5. Leia um vetor de 40 posições. Contar e escrever quantos valores pares ele possui."
   ]
  },
  {
   "cell_type": "code",
   "execution_count": null,
   "metadata": {},
   "outputs": [],
   "source": [
    "vetor: list[int] = [np.random.randint(0, 100) for _ in range(40)]\n",
    "pares: list[int] = [i for i in vetor if i % 2 == 0]\n",
    "\n",
    "print(f\"O vetor possui {len(pares)} números pares.\")"
   ]
  },
  {
   "attachments": {},
   "cell_type": "markdown",
   "metadata": {},
   "source": [
    "6. Leia um vetor de 40 posições e atribua valor 0 para todos os elementos que possuírem valores negativos."
   ]
  },
  {
   "cell_type": "code",
   "execution_count": null,
   "metadata": {},
   "outputs": [],
   "source": [
    "vetor: np.ndarray = np.array([np.random.randint(-100, 100) for _ in range(40)])\n",
    "\n",
    "for i in range(len(vetor)):\n",
    "    if vetor[i] < 0:\n",
    "        vetor[i] = 0\n",
    "\n",
    "print(f\"Vetor: {sorted(vetor)}\")\n",
    "print(f\"Quantidade de números negativos: {len([i for i in vetor if i == 0])}\")  # 0 é o valor atribuído aos números negativos"
   ]
  },
  {
   "cell_type": "markdown",
   "metadata": {
    "collapsed": false
   },
   "source": [
    "7. Leia dois vetores de 20 posições e calcule um terceiro vetor contendo,\n",
    "nas posições pares, os valores do primeiro e nas posições impares, os valores do segundo."
   ]
  },
  {
   "cell_type": "code",
   "execution_count": null,
   "metadata": {
    "collapsed": false
   },
   "outputs": [],
   "source": [
    "v1: np.ndarray = np.array([np.random.randint(1, 100) for _ in range(20)])\n",
    "v2: np.ndarray = np.array([np.random.randint(1, 100) for _ in range(20)])\n",
    "v3: np.ndarray = np.array([v1[i] if i % 2 == 0 else v2[i] for i in range(20)])\n",
    "\n",
    "print(f\"Vetor 1: {v1}\")\n",
    "print(f\"Vetor 2: {v2}\")\n",
    "print(f\"Vetor 3: {v3}\")"
   ]
  },
  {
   "attachments": {},
   "cell_type": "markdown",
   "metadata": {
    "collapsed": false
   },
   "source": [
    "8. Leia um vetor de 40 posições e acumule os valores do primeiro elemento no segundo, deste no terceiro e assim por diante. Ao final, escreva o vetor obtido."
   ]
  },
  {
   "cell_type": "code",
   "execution_count": null,
   "metadata": {
    "collapsed": false
   },
   "outputs": [],
   "source": [
    "v1: list = [np.random.randint(1, 100) for _ in range(40)]\n",
    "v2: list = [reduce(lambda x, y: x + y, v1[:i + 1]) for i in range(len(v1))]\n",
    "\n",
    "print(f\"Vetor 1: {v1}\")\n",
    "print(f\"Vetor 2: {v2}\")"
   ]
  },
  {
   "attachments": {},
   "cell_type": "markdown",
   "metadata": {},
   "source": [
    "9. Leia um vetor contendo letras de uma frase inclusive os espaços em branco. Retirar os espaços em branco do vetor e depois escreva-os."
   ]
  },
  {
   "cell_type": "code",
   "execution_count": null,
   "metadata": {},
   "outputs": [],
   "source": [
    "frase: str = input('Digite uma frase: ')\n",
    "vetor: list[str] = [i for i in frase if i != ' ']\n",
    "print(f\"Vetor: {vetor}\")"
   ]
  },
  {
   "attachments": {},
   "cell_type": "markdown",
   "metadata": {},
   "source": [
    "10. Leia um vetor de 5 posições contendo os números. Em seguida escreva esse numero por extenso."
   ]
  },
  {
   "cell_type": "code",
   "execution_count": null,
   "metadata": {},
   "outputs": [],
   "source": [
    "vetor: np.ndarray = np.array([np.random.randint(10, 100) for _ in range(5)])\n",
    "for i in vetor:\n",
    "    print(f\"{i} -> {num2words(i, lang='pt_BR')}\")"
   ]
  },
  {
   "attachments": {},
   "cell_type": "markdown",
   "metadata": {},
   "source": [
    "11. Leia dois vetores de 4 posições. Verifique e escreva se um é anagrama de outro."
   ]
  },
  {
   "cell_type": "code",
   "execution_count": null,
   "metadata": {},
   "outputs": [],
   "source": [
    "vet1: list = [letra for letra in input('Digite o primeiro vetor: ')]\n",
    "vet2: list = [letra for letra in input('Digite o segundo vetor: ')][::-1]\n",
    "\n",
    "if vet1 == vet2 and len(vet1) == 4:\n",
    "    print('Os vetores são anagramas.')\n",
    "elif vet1 == vet2 and len(vet1) != 4:\n",
    "    print('Os vetores são anagramas, mas não possuem 4 letras.')\n",
    "else:\n",
    "    print('Os vetores não são anagramas.')"
   ]
  },
  {
   "attachments": {},
   "cell_type": "markdown",
   "metadata": {},
   "source": [
    "12. Leia 3 vetores de 9 posições e crie outro com o 1º terço do primeiro, o segundo 3º. do segundo e o ultimo terço do 3º. Escrever o vetor resultante ao final."
   ]
  },
  {
   "cell_type": "code",
   "execution_count": null,
   "metadata": {},
   "outputs": [],
   "source": [
    "vet1: np.ndarray = np.array([np.random.randint(0, 9) for _ in range(9)])\n",
    "vet2: np.ndarray = np.array([np.random.randint(0, 9) for _ in range(9)])\n",
    "vet3: np.ndarray = np.array([np.random.randint(0, 9) for _ in range(9)])\n",
    "\n",
    "vet4: np.ndarray = np.concatenate((vet1[:3], vet2[3:6], vet3[6:9]))\n",
    "\n",
    "print(f\"Vetor 1: {vet1}\")\n",
    "print(f\"Vetor 2: {vet2}\")\n",
    "print(f\"Vetor 3: {vet3}\")\n",
    "print(f\"Vetor 4: {vet4}\")"
   ]
  },
  {
   "attachments": {},
   "cell_type": "markdown",
   "metadata": {},
   "source": [
    "13. Leia um vetor de 10 posições e verifique se existem valores iguais e os escreva."
   ]
  },
  {
   "cell_type": "code",
   "execution_count": null,
   "metadata": {},
   "outputs": [],
   "source": [
    "vet1: np.ndarray = np.array([np.random.randint(0, 9) for _ in range(10)])\n",
    "vet2: np.ndarray = np.array([np.random.randint(0, 9) for _ in range(10)])\n",
    "\n",
    "print(vet1, vet2, sep='\\n')\n",
    "for i in range(10):\n",
    "    if vet1[i] == vet2[i]:\n",
    "        print(f\"\\nÍndice {i} -> {vet1[i]}\", end='')"
   ]
  },
  {
   "attachments": {},
   "cell_type": "markdown",
   "metadata": {},
   "source": [
    "14. Leia um vetor de 50 posições e o compacte, ou seja, elimine as posições com valor zero avançando uma posição, com os com os valores subsequentes do vetor. Dessa forma todos “zeros” devem ficar para as posições finais do vetor."
   ]
  },
  {
   "cell_type": "code",
   "execution_count": null,
   "metadata": {},
   "outputs": [],
   "source": [
    "vetor: np.ndarray = np.array([np.random.randint(0, 9) for _ in range(50)])\n",
    "print(f\"Vetor: {vetor}\")\n",
    "\n",
    "# Mover os zeros para o final do vetor\n",
    "vetor = np.concatenate((vetor[vetor != 0], vetor[vetor == 0]))  # concatenate junta os vetores em um só, o primeiro vetor sem os zeros e o segundo com os zeros\n",
    "print(f\"Vetor: {vetor}\")"
   ]
  },
  {
   "attachments": {},
   "cell_type": "markdown",
   "metadata": {},
   "source": [
    "Considere um vetor de trajetórias de 9 elementos, onde cada elemento possui o valor do próximo elemento do vetor a ser lido.                    \n",
    "\n",
    "Índice       1    2    3    4    5    6    7     8     9                      \n",
    "Valor       5    7    6    9     2   8    4     0     3            \n",
    "Assim, a sequência da leitura seria 1, 5, 2, 7, 4, 9, 3, 6, 8, 0            \n",
    "\n",
    "Faça um algoritmo que seja capaz de ler esse vetor e seguir a trajetória."
   ]
  },
  {
   "cell_type": "code",
   "execution_count": null,
   "metadata": {},
   "outputs": [],
   "source": [
    "for _ in range(3):\n",
    "    vetor: np.ndarray = np.array([np.random.randint(1, 9) for _ in range(9)])\n",
    "    print(\"Índice\\t{}\".format('   '.join([str(i) for i in range(1, 10)])))\n",
    "    print(\"Vetor\\t{}\".format('   '.join([str(i) for i in vetor])))\n",
    "    \n",
    "    seq: list = [1, vetor[0]]\n",
    "    for _ in range(8):\n",
    "        seq.append(vetor[seq[-1] - 1])\n",
    "    print(seq, end='\\n\\n')"
   ]
  },
  {
   "attachments": {
    "image.png": {
     "image/png": "[encoded data removed]"
    }
   },
   "cell_type": "markdown",
   "metadata": {},
   "source": [
    "![image.png](attachment:image.png)"
   ]
  },
  {
   "attachments": {},
   "cell_type": "markdown",
   "metadata": {},
   "source": [
    "16. Observando a figura apresentada acima, desconsiderando a parte elétrica e de hardware. Faça um paralelo entre um vetor como apresentado na disciplina e uma memória RAM."
   ]
  },
  {
   "cell_type": "code",
   "execution_count": null,
   "metadata": {},
   "outputs": [],
   "source": [
    "\"\"\"\n",
    "Um vetor é uma estrutura de dados que armazena uma coleção de elementos do mesmo\n",
    "tipo, como números inteiros ou ponteiros para objetos. Os elementos são indexados e\n",
    "podem ser acessados através de seus índices, como em um vetor[i].\n",
    "\n",
    "A memória RAM (Random Access Memory) é uma forma de armazenamento de dados na\n",
    "computação. Ela é usada para armazenar os dados que o processador está\n",
    "usando atualmente. A memória RAM é volátil, ou seja, ela é apagada quando o computador\n",
    "é desligado.\n",
    "\n",
    "Ambos os vetores e memória RAM permitem acesso aleatório aos seus elementos, o que\n",
    "significa que qualquer elemento pode ser acessado diretamente, sem ter que percorrer\n",
    "todos os outros elementos antes dele. A principal diferença é que, enquanto os vetores são\n",
    "estruturas de dados, a memória RAM é uma forma de armazenamento físico.\n",
    "\"\"\""
   ]
  },
  {
   "attachments": {},
   "cell_type": "markdown",
   "metadata": {},
   "source": [
    "17. Escreva um algoritmo que solicite ao usuário a entrada de 5 números, e que exiba o somatório desses números na tela. Após exibir a soma, o programa deve mostrar também os números que o usuário digitou, um por linha."
   ]
  },
  {
   "cell_type": "code",
   "execution_count": null,
   "metadata": {},
   "outputs": [],
   "source": [
    "lista: list = [float(input(f'Digite o {i}º número: ')) for i in range(1, 6)]\n",
    "print(f\"Somatório dos números: {sum(lista)}\")\n",
    "print(\"Números digitados:\")\n",
    "for n in lista:\n",
    "    print(\"\\t{}\".format(n))"
   ]
  },
  {
   "attachments": {},
   "cell_type": "markdown",
   "metadata": {},
   "source": [
    "18. Escreva um algoritmo que solicite ao usuário a entrada de 5 nomes, e que exiba a lista desses nomes na tela. Após exibir essa lista, o programa deve mostrar também os nomes na ordem inversa em que o usuário os digitou, um por linha."
   ]
  },
  {
   "cell_type": "code",
   "execution_count": null,
   "metadata": {},
   "outputs": [],
   "source": []
  }
 ],
 "metadata": {
  "kernelspec": {
   "display_name": "Python 3",
   "language": "python",
   "name": "python3"
  },
  "language_info": {
   "codemirror_mode": {
    "name": "ipython",
    "version": 3
   },
   "file_extension": ".py",
   "mimetype": "text/x-python",
   "name": "python",
   "nbconvert_exporter": "python",
   "pygments_lexer": "ipython3",
   "version": "3.11.1"
  },
  "orig_nbformat": 4,
  "vscode": {
   "interpreter": {
    "hash": "ff4b1fca65a764b45acb559e482afe389d289dd599b9f8c5fd12ff5c2ea46a65"
   }
  }
 },
 "nbformat": 4,
 "nbformat_minor": 2
}
