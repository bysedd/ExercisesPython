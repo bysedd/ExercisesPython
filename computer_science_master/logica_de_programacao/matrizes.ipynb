{
 "cells": [
  {
   "attachments": {},
   "cell_type": "markdown",
   "metadata": {
    "collapsed": false
   },
   "source": [
    "# Imports\n"
   ]
  },
  {
   "cell_type": "code",
   "execution_count": null,
   "metadata": {
    "collapsed": true
   },
   "outputs": [],
   "source": [
    "import numpy as np\n",
    "from pprint import pprint"
   ]
  },
  {
   "attachments": {},
   "cell_type": "markdown",
   "metadata": {
    "collapsed": false
   },
   "source": [
    "Fácil 1 - Leia uma matriz 10 x 10 e escreva a localização (linha e a coluna) do maior valor.\n"
   ]
  },
  {
   "cell_type": "code",
   "execution_count": null,
   "metadata": {
    "collapsed": false
   },
   "outputs": [],
   "source": [
    "pprint(matriz := np.random.randint(0, 100, (10, 10)))\n",
    "loc = np.unravel_index(matriz.argmax(), matriz.shape)\n",
    "print(loc, matriz[loc], sep=' -> ')"
   ]
  },
  {
   "attachments": {},
   "cell_type": "markdown",
   "metadata": {
    "collapsed": false
   },
   "source": [
    "Intermediário 2 - Declare uma matriz 5 x 5. Preencha com 1 a diagonal principal e com 0 os demais elementos. Escreva ao final a matriz obtida.\n"
   ]
  },
  {
   "cell_type": "code",
   "execution_count": null,
   "metadata": {
    "collapsed": false
   },
   "outputs": [],
   "source": [
    "matriz = np.zeros((5, 5), dtype=int)\n",
    "np.fill_diagonal(matriz, 1)\n",
    "pprint(matriz)"
   ]
  },
  {
   "attachments": {},
   "cell_type": "markdown",
   "metadata": {
    "collapsed": false
   },
   "source": [
    "Intermediário 3 - Leia duas matrizes 4 x 4 e escreva uma terceira com os 4 maiores elementos entre as primeiras.\n"
   ]
  },
  {
   "cell_type": "code",
   "execution_count": null,
   "metadata": {
    "collapsed": false
   },
   "outputs": [],
   "source": [
    "matriz1 = np.random.randint(0, 100, (4, 4))\n",
    "matriz2 = np.random.randint(0, 100, (4, 4))\n",
    "# Concatena as matrizes e ordena em ordem decrescente\n",
    "matriz3 = np.concatenate((matriz1, matriz2)).flatten()\n",
    "# Inverte a ordem e pega os 4 primeiros elementos\n",
    "matriz3 = np.sort(matriz3)[::-1][:4]\n",
    "pprint(matriz3)"
   ]
  },
  {
   "attachments": {},
   "cell_type": "markdown",
   "metadata": {
    "collapsed": false
   },
   "source": [
    "Fácil 4 - Leia uma matriz 6 x 6, conte e escreva quantos valores maiores que 10 ela possui.\n"
   ]
  },
  {
   "cell_type": "code",
   "execution_count": null,
   "metadata": {
    "collapsed": false
   },
   "outputs": [],
   "source": [
    "matriz = np.random.randint(0, 21, (6, 6))\n",
    "pprint(matriz)\n",
    "print(f'Número de elementos: {matriz.size}')\n",
    "print(f'Valores maiores que 10: {np.count_nonzero(matriz > 10)}')"
   ]
  },
  {
   "attachments": {},
   "cell_type": "markdown",
   "metadata": {
    "collapsed": false
   },
   "source": [
    "Fácil 5 - Leia uma matriz 20 x 20. Leia também um valor X. O programa deverá fazer uma busca desse valor na matriz e, ao final escrever a localização (linha e coluna) ou uma mensagem de “não encontrado”.\n"
   ]
  },
  {
   "cell_type": "code",
   "execution_count": null,
   "metadata": {
    "collapsed": false
   },
   "outputs": [],
   "source": [
    "matriz = np.random.randint(-100, 100, (20, 20))\n",
    "try:\n",
    "    x = int(input('Digite um valor: '))\n",
    "    loc = np.where(matriz == x)\n",
    "    linha = loc[0][0] + 1\n",
    "    coluna = loc[1][0] + 1\n",
    "    print(f'Encontrado na linha {linha} e coluna {coluna}')\n",
    "except ValueError:\n",
    "    print('Valor inválido')\n",
    "except IndexError:\n",
    "    print('Valor não encontrado')"
   ]
  },
  {
   "attachments": {},
   "cell_type": "markdown",
   "metadata": {},
   "source": [
    "Fácil 6 - Leia uma matriz 4 x 4 e troque os valores da 1ª.linha pelos da 4ª.linha, vice-e-versa. Escrever ao final a matriz obtida.\n"
   ]
  },
  {
   "cell_type": "code",
   "execution_count": null,
   "metadata": {
    "collapsed": false
   },
   "outputs": [],
   "source": [
    "matriz = np.random.randint(10, 100, (4, 4))\n",
    "pprint(matriz)\n",
    "# Troca as linhas\n",
    "matriz[[0, 3]] = matriz[[3, 0]]\n",
    "pprint(matriz)"
   ]
  },
  {
   "attachments": {},
   "cell_type": "markdown",
   "metadata": {
    "collapsed": false
   },
   "source": [
    "Difícil 7 - Leia uma matriz 8 x 8 e a transforme numa matriz triangular inferior , atribuindo zero a todos os elementos acima da diagonal principal, escrevendo-a ao final.\n"
   ]
  },
  {
   "cell_type": "code",
   "execution_count": null,
   "metadata": {
    "collapsed": false
   },
   "outputs": [],
   "source": [
    "matriz = np.random.randint(10, 100, (8, 8))\n",
    "# Pega a diagonal principal e atribui 0 a todos os elementos acima dela\n",
    "np.fill_diagonal(matriz, 0)\n",
    "pprint(matriz)"
   ]
  },
  {
   "attachments": {},
   "cell_type": "markdown",
   "metadata": {
    "collapsed": false
   },
   "source": [
    "Intermediário 10 - Leia uma matriz 8 x 8 e escreva o maior elemento da diagonal principal e a soma dos elementos da diagonal secundaria.\n"
   ]
  },
  {
   "cell_type": "code",
   "execution_count": null,
   "metadata": {
    "collapsed": false
   },
   "outputs": [],
   "source": [
    "matriz = np.random.randint(10, 100, (8, 8))\n",
    "pprint(matriz)\n",
    "# Pega a diagonal principal e soma os elementos\n",
    "print(f'Maior elemento da diagonal principal: {np.max(np.diagonal(matriz))}')\n",
    "# Pega a diagonal secundária e soma os elementos\n",
    "print(\n",
    "    f'Soma dos elementos da diagonal secundária: {np.sum(np.diagonal(matriz[::-1]))}'\n",
    ")\n"
   ]
  },
  {
   "attachments": {},
   "cell_type": "markdown",
   "metadata": {
    "collapsed": false
   },
   "source": [
    "Intermediário 11 - Leia uma matriz 6 x 6 e atribuir o valor 0 para os valores negativos encontrados fora das diagonais principal e secundaria.\n"
   ]
  },
  {
   "cell_type": "code",
   "execution_count": null,
   "metadata": {
    "collapsed": false
   },
   "outputs": [],
   "source": [
    "matriz = np.random.randint(-99, 100, (6, 6))\n",
    "# Pega a diagonal principal e atribui 0 a todos os elementos acima dela\n",
    "np.fill_diagonal(matriz, 0)\n",
    "# Pega a diagonal secundária e atribui 0 a todos os elementos acima dela\n",
    "np.fill_diagonal(matriz[::-1], 0)\n",
    "# Atribui 0 a todos os elementos negativos\n",
    "matriz[matriz < 0] = 0\n",
    "pprint(matriz)"
   ]
  },
  {
   "attachments": {},
   "cell_type": "markdown",
   "metadata": {
    "collapsed": false
   },
   "source": [
    "Intermediário 12 - Leia uma matriz 50 x 2, onde cada coluna corresponde a um lado de um triangulo retângulo. Declare um vetor que contenha a área dos respectivos triângulos e o escreva.\n"
   ]
  },
  {
   "cell_type": "code",
   "execution_count": null,
   "metadata": {
    "collapsed": false
   },
   "outputs": [],
   "source": [
    "matriz = np.random.randint(1, 100, (50, 2))\n",
    "# Calcula a área dos triângulos\n",
    "areas = (matriz[:, 0] * matriz[:, 1]) / 2\n",
    "for i, area in enumerate(areas):\n",
    "    print(f'lados={matriz[i]}, {area=}')"
   ]
  },
  {
   "attachments": {},
   "cell_type": "markdown",
   "metadata": {
    "collapsed": false
   },
   "source": [
    "Intermediário 15 - Leia uma matriz 100 x 10 que se refere respostas de 10 questões de múltipla escolha, referentes a 100 alunos. Leia também um vetor de 10 posições contendo o gabarito d e respostas que podem ser a, b, c ou d. Seu programa deverá comparar as respostas de cada candidato com o gabarito e emitir um vetor Resultado, contendo a pontuação correspondente.\n"
   ]
  },
  {
   "cell_type": "code",
   "execution_count": null,
   "metadata": {
    "collapsed": false
   },
   "outputs": [],
   "source": [
    "matriz: np.ndarray = np.random.choice(['a', 'b', 'c', 'd'], (100, 10))\n",
    "gabarito: np.ndarray = np.random.choice(['a', 'b', 'c', 'd'], 10)\n",
    "resultado: dict = {}\n",
    "# Contar a quantidade de respostas iguais ao gabarito\n",
    "for i, aluno in enumerate(matriz, start=1):\n",
    "    resultado[i] = np.count_nonzero(aluno == gabarito)\n",
    "# Ordenar o dicionário por nota\n",
    "resultado = dict(\n",
    "    sorted(resultado.items(), key=lambda item: item[1], reverse=True))\n",
    "for i, pontuacao in resultado.items():\n",
    "    if pontuacao >= 5:\n",
    "        print(f'Aluno {i} -> {pontuacao} pontos')"
   ]
  },
  {
   "cell_type": "markdown",
   "metadata": {
    "collapsed": false
   },
   "source": []
  }
 ],
 "metadata": {
  "kernelspec": {
   "display_name": "Python 3",
   "language": "python",
   "name": "python3"
  },
  "language_info": {
   "codemirror_mode": {
    "name": "ipython",
    "version": 3
   },
   "file_extension": ".py",
   "mimetype": "text/x-python",
   "name": "python",
   "nbconvert_exporter": "python",
   "pygments_lexer": "ipython3",
   "version": "3.11.1 (tags/v3.11.1:a7a450f, Dec  6 2022, 19:58:39) [MSC v.1934 64 bit (AMD64)]"
  },
  "vscode": {
   "interpreter": {
    "hash": "ff4b1fca65a764b45acb559e482afe389d289dd599b9f8c5fd12ff5c2ea46a65"
   }
  }
 },
 "nbformat": 4,
 "nbformat_minor": 0
}
