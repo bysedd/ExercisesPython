{
 "cells": [
  {
   "cell_type": "markdown",
   "source": [
    "# Uma fruteira está vendendo frutas com a seguinte tabela de preços:\n",
    "                      Até 5 Kg           Acima de 5 Kg\n",
    "    Morango         RS 2,50 por Kg          RS 2,20 por Kg\n",
    "    Maçã            RS 1,80 por Kg          RS 1,50 por Kg\n",
    "Se o cliente comprar mais de 8 Kg em frutas ou o valor total da compra ultrapassar RS 25,00, receberá ainda um desconto de 10% sobre este total.\n",
    "Escreva um algoritmo para ler a quantidade (em Kg) de morangos e a quantidade (em Kg) de maças adquiridas e escreva o valor a ser pago pelo cliente"
   ],
   "metadata": {
    "collapsed": false,
    "pycharm": {
     "name": "#%% md\n"
    }
   }
  },
  {
   "cell_type": "code",
   "execution_count": 19,
   "outputs": [],
   "source": [
    "strawberries = int(input('Quantidade (em kg) de morangos'))\n",
    "apples = int(input('Quantidade (em kg) de maças'))\n",
    "price: float = 0\n",
    "desconto = 0.1"
   ],
   "metadata": {
    "collapsed": false,
    "pycharm": {
     "name": "#%%\n"
    }
   }
  },
  {
   "cell_type": "code",
   "execution_count": 20,
   "outputs": [],
   "source": [
    "if 0 <= strawberries < 5:\n",
    "    price += 2.5 * strawberries\n",
    "elif strawberries >= 5:\n",
    "    price += 2.2 * strawberries\n",
    "else:\n",
    "    print('Quantidade de morangos inválida!')"
   ],
   "metadata": {
    "collapsed": false,
    "pycharm": {
     "name": "#%%\n"
    }
   }
  },
  {
   "cell_type": "code",
   "execution_count": 21,
   "outputs": [],
   "source": [
    "if 0 <= apples < 5:\n",
    "    price += 1.8 * apples\n",
    "elif apples >= 5:\n",
    "    price += 1.5 * apples\n",
    "else:\n",
    "    print('Quantidade de maças inválida!')"
   ],
   "metadata": {
    "collapsed": false,
    "pycharm": {
     "name": "#%%\n"
    }
   }
  },
  {
   "cell_type": "code",
   "execution_count": 22,
   "outputs": [],
   "source": [
    "if price > 25:\n",
    "    price -= price * desconto"
   ],
   "metadata": {
    "collapsed": false,
    "pycharm": {
     "name": "#%%\n"
    }
   }
  },
  {
   "cell_type": "code",
   "execution_count": 23,
   "outputs": [
    {
     "name": "stdout",
     "output_type": "stream",
     "text": [
      "Valor a ser pago pelo cliente: R$111.78\n"
     ]
    }
   ],
   "source": [
    "print(f'Valor a ser pago pelo cliente: R${price:.2f}')"
   ],
   "metadata": {
    "collapsed": false,
    "pycharm": {
     "name": "#%%\n"
    }
   }
  }
 ],
 "metadata": {
  "kernelspec": {
   "display_name": "Python 3",
   "language": "python",
   "name": "python3"
  },
  "language_info": {
   "codemirror_mode": {
    "name": "ipython",
    "version": 2
   },
   "file_extension": ".py",
   "mimetype": "text/x-python",
   "name": "python",
   "nbconvert_exporter": "python",
   "pygments_lexer": "ipython2",
   "version": "2.7.6"
  }
 },
 "nbformat": 4,
 "nbformat_minor": 0
}