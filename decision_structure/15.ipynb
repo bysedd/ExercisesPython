{
 "cells": [
  {
   "cell_type": "markdown",
   "source": [
    "# Faça um Programa que peça os 3 lados de um triângulo. O programa deverá informar se os valores podem ser um triângulo. Indique, caso os lados formem um triângulo, se o mesmo é: equilátero, isósceles ou escaleno.\n",
    "    Três lados formam um triângulo quando a soma de quaisquer dois lados for maior que o terceiro;\n",
    "    Triângulo Equilátero: três lados iguais;\n",
    "    Triângulo Isósceles: quaisquer dois lados iguais;\n",
    "    Triângulo Escaleno: três lados diferentes;"
   ],
   "metadata": {
    "collapsed": false,
    "pycharm": {
     "name": "#%% md\n"
    }
   }
  },
  {
   "cell_type": "code",
   "execution_count": 11,
   "outputs": [],
   "source": [
    "l1 = float(input('1º lado do triângulo'))\n",
    "l2 = float(input('2º lado do triângulo'))\n",
    "l3 = float(input('3º lado do triângulo'))"
   ],
   "metadata": {
    "collapsed": false,
    "pycharm": {
     "name": "#%%\n"
    }
   }
  },
  {
   "cell_type": "code",
   "execution_count": 12,
   "outputs": [
    {
     "name": "stdout",
     "output_type": "stream",
     "text": [
      "É possível formar um Triângulo Equilátero\n"
     ]
    }
   ],
   "source": [
    "if sum((l1, l2)) > l3 or sum((l2 + l3)) > l1 or sum((l3 + l1)) > l2:\n",
    "    print('É possível formar um Triângulo', end=' ')\n",
    "    if l1 == l2 == l3:\n",
    "        print('Equilátero')\n",
    "    elif l1 == l2 or l2 == l3 or l3 == l1:\n",
    "        print('Isósceles')\n",
    "    else:\n",
    "        print('Escaleno')\n",
    "else:\n",
    "    print('Não é possível formar um Triângulo!')"
   ],
   "metadata": {
    "collapsed": false,
    "pycharm": {
     "name": "#%%\n"
    }
   }
  }
 ],
 "metadata": {
  "kernelspec": {
   "display_name": "Python 3",
   "language": "python",
   "name": "python3"
  },
  "language_info": {
   "codemirror_mode": {
    "name": "ipython",
    "version": 2
   },
   "file_extension": ".py",
   "mimetype": "text/x-python",
   "name": "python",
   "nbconvert_exporter": "python",
   "pygments_lexer": "ipython2",
   "version": "2.7.6"
  }
 },
 "nbformat": 4,
 "nbformat_minor": 0
}