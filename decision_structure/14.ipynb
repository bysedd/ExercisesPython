{
 "cells": [
  {
   "cell_type": "markdown",
   "source": [
    "# Faça um programa que lê as duas notas parciais obtidas por um aluno numa disciplina ao longo de um semestre, e calcule a sua média. A atribuição de conceitos obedece à tabela abaixo:\n",
    "      Média de Aproveitamento  Conceito\n",
    "      Entre 9.0 e 10.0        A\n",
    "      Entre 7.5 e 9.0         B\n",
    "      Entre 6.0 e 7.5         C\n",
    "      Entre 4.0 e 6.0         D\n",
    "      Entre 4.0 e zero        E\n",
    "O algoritmo deve mostrar na tela as notas, a média, o conceito correspondente e a mensagem “APROVADO” se o conceito for A, B ou C ou “REPROVADO” se o conceito for D ou E."
   ],
   "metadata": {
    "collapsed": false,
    "pycharm": {
     "name": "#%% md\n"
    }
   }
  },
  {
   "cell_type": "code",
   "execution_count": 16,
   "outputs": [],
   "source": [
    "notas = list()\n",
    "qtd_notas = 2\n",
    "conceito = 'A'"
   ],
   "metadata": {
    "collapsed": false,
    "pycharm": {
     "name": "#%%\n"
    }
   }
  },
  {
   "cell_type": "code",
   "execution_count": 17,
   "outputs": [],
   "source": [
    "for i in range(qtd_notas):\n",
    "    notas.append(float(input(f'{i + 1}ª nota')))"
   ],
   "metadata": {
    "collapsed": false,
    "pycharm": {
     "name": "#%%\n"
    }
   }
  },
  {
   "cell_type": "code",
   "execution_count": 18,
   "outputs": [],
   "source": [
    "media = sum(notas) / len(notas)"
   ],
   "metadata": {
    "collapsed": false,
    "pycharm": {
     "name": "#%%\n"
    }
   }
  },
  {
   "cell_type": "code",
   "execution_count": 19,
   "outputs": [],
   "source": [
    "if 0 <= media <= 4:\n",
    "    conceito = 'E'\n",
    "elif media <= 6:\n",
    "    conceito = 'D'\n",
    "elif media <= 7.5:\n",
    "    conceito = 'C'\n",
    "elif media <= 9:\n",
    "    conceito = 'B'"
   ],
   "metadata": {
    "collapsed": false,
    "pycharm": {
     "name": "#%%\n"
    }
   }
  },
  {
   "cell_type": "code",
   "execution_count": 20,
   "outputs": [
    {
     "name": "stdout",
     "output_type": "stream",
     "text": [
      "Notas: [7.0, 7.5]\n",
      "Média: 7.25\n",
      "Conceito: C\n",
      "APROVADO!\n"
     ]
    }
   ],
   "source": [
    "print(f'Notas: {notas}')\n",
    "print(f'Média: {media}')\n",
    "print(f'Conceito: {conceito}')\n",
    "print('APROVADO!' if conceito == 'A' or conceito == 'B' or conceito == 'C' else print('REPROVADO!'))"
   ],
   "metadata": {
    "collapsed": false,
    "pycharm": {
     "name": "#%%\n"
    }
   }
  }
 ],
 "metadata": {
  "kernelspec": {
   "display_name": "Python 3",
   "language": "python",
   "name": "python3"
  },
  "language_info": {
   "codemirror_mode": {
    "name": "ipython",
    "version": 2
   },
   "file_extension": ".py",
   "mimetype": "text/x-python",
   "name": "python",
   "nbconvert_exporter": "python",
   "pygments_lexer": "ipython2",
   "version": "2.7.6"
  }
 },
 "nbformat": 4,
 "nbformat_minor": 0
}