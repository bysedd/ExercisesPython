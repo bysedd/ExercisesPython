{
 "cells": [
  {
   "cell_type": "markdown",
   "source": [
    "# Faça um programa que faça 5 perguntas para uma pessoa sobre um crime. As perguntas são:\n",
    "    a. \"Telefonou para a vítima?\"\n",
    "    b. \"Esteve no local do crime?\"\n",
    "    c. \"Mora perto da vítima?\"\n",
    "    d. \"Devia para a vítima?\"\n",
    "    e. \"Já trabalhou com a vítima?\"\n",
    "O programa deve no final emitir uma classificação sobre a participação da pessoa no crime. Se a pessoa responder positivamente a 2 questões ela deve ser classificada como \"Suspeita\", entre 3 e 4 como \"Cúmplice\" e 5 como \"Assassino\". Caso contrário, ele será classificado como \"Inocente\"."
   ],
   "metadata": {
    "collapsed": false,
    "pycharm": {
     "name": "#%% md\n"
    }
   }
  },
  {
   "cell_type": "code",
   "execution_count": 15,
   "outputs": [],
   "source": [
    "a = input('Telefonou para a vítima?').lower()\n",
    "b = input('Esteve no local do crime?').lower()\n",
    "c = input('Mora perto da vítima?').lower()\n",
    "d = input('Devia para a vítima?').lower()\n",
    "e = input('Já trabalhou com a vítima?').lower()"
   ],
   "metadata": {
    "collapsed": false,
    "pycharm": {
     "name": "#%%\n"
    }
   }
  },
  {
   "cell_type": "code",
   "execution_count": 16,
   "outputs": [],
   "source": [
    "pessoa = [a, b, c, d, e]"
   ],
   "metadata": {
    "collapsed": false,
    "pycharm": {
     "name": "#%%\n"
    }
   }
  },
  {
   "cell_type": "code",
   "execution_count": 17,
   "outputs": [
    {
     "name": "stdout",
     "output_type": "stream",
     "text": [
      "Cúmplice\n"
     ]
    }
   ],
   "source": [
    "if pessoa.count('yes') >= 2 or pessoa.count('no') >= 2:\n",
    "    if pessoa.count('yes') == 5:\n",
    "        print('Assassino')\n",
    "    elif pessoa.count('yes') >= 3:\n",
    "        print('Cúmplice')\n",
    "    elif pessoa.count('yes') == 2:\n",
    "        print('Suspeita')\n",
    "    else:\n",
    "        print('Inocente')\n",
    "\n",
    "else:\n",
    "    print('Não foi classificar sua participação')"
   ],
   "metadata": {
    "collapsed": false,
    "pycharm": {
     "name": "#%%\n"
    }
   }
  }
 ],
 "metadata": {
  "kernelspec": {
   "display_name": "Python 3",
   "language": "python",
   "name": "python3"
  },
  "language_info": {
   "codemirror_mode": {
    "name": "ipython",
    "version": 2
   },
   "file_extension": ".py",
   "mimetype": "text/x-python",
   "name": "python",
   "nbconvert_exporter": "python",
   "pygments_lexer": "ipython2",
   "version": "2.7.6"
  }
 },
 "nbformat": 4,
 "nbformat_minor": 0
}