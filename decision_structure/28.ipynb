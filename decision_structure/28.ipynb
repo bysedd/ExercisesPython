{
 "cells": [
  {
   "cell_type": "markdown",
   "source": [
    "# O Hipermercado Tabajara está com uma promoção de carnes que é imperdível. Confira:\n",
    "                          Até 5 Kg           Acima de 5 Kg\n",
    "    File Duplo      R$ 4,90 por Kg          R$ 5,80 por Kg\n",
    "    Alcatra         R$ 5,90 por Kg          R$ 6,80 por Kg\n",
    "    Picanha         R$ 6,90 por Kg          R$ 7,80 por Kg\n",
    "# Para atender a todos os clientes, cada cliente poderá levar apenas um dos tipos de carne da promoção, porém não há limites para a quantidade de carne por cliente. Se compra for feita no cartão Tabajara o cliente receberá ainda um desconto de 5% sobre o total da compra. Escreva um programa que peça o tipo e a quantidade de carne comprada pelo usuário e gere um cupom fiscal, contendo as informações da compra: tipo e quantidade de carne, preço total, tipo de pagamento, valor do desconto e valor a pagar."
   ],
   "metadata": {
    "collapsed": false,
    "pycharm": {
     "name": "#%% md\n"
    }
   }
  },
  {
   "cell_type": "code",
   "execution_count": 3,
   "outputs": [],
   "source": [
    "carne = int(input('Tipo da carne:\\n'\n",
    "             '1 - File Duplo\\n'\n",
    "             '2 - Alcatra\\n'\n",
    "             '3 - Picanha'))\n",
    "qtd = int(input('Quantidade de carne (em kg)'))\n",
    "pagamento = int(input('Tipo de pagamento:\\n'\n",
    "                      '1 - Cartão Tabajara\\n'\n",
    "                      '2 - Outro'))\n",
    "total = 0\n",
    "desconto = 0.05 if pagamento == 1 else 0"
   ],
   "metadata": {
    "collapsed": false,
    "pycharm": {
     "name": "#%%\n"
    }
   }
  },
  {
   "cell_type": "code",
   "execution_count": 4,
   "outputs": [],
   "source": [
    "if qtd > 0:\n",
    "    if carne == 1:\n",
    "        if qtd < 5:\n",
    "            total += qtd * 4.9\n",
    "        else:\n",
    "            total += qtd * 5.8\n",
    "    elif carne == 2:\n",
    "        if qtd < 5:\n",
    "            total += qtd * 5.9\n",
    "        else:\n",
    "            total += qtd * 6.8\n",
    "    elif carne == 3:\n",
    "        if qtd < 5:\n",
    "            total += qtd * 6.9\n",
    "        else:\n",
    "            total += qtd * 7.8\n",
    "else:\n",
    "    print('Quantidade inválida')"
   ],
   "metadata": {
    "collapsed": false,
    "pycharm": {
     "name": "#%%\n"
    }
   }
  },
  {
   "cell_type": "code",
   "execution_count": null,
   "outputs": [],
   "source": [
    "if carne == 1:\n",
    "    carne = 'Filé Duplo'\n",
    "elif carne == 2:\n",
    "    carne = 'Alcatra'\n",
    "elif carne == 3:\n",
    "    carne = 'Picanha'"
   ],
   "metadata": {
    "collapsed": false,
    "pycharm": {
     "name": "#%%\n"
    }
   }
  },
  {
   "cell_type": "code",
   "execution_count": 7,
   "outputs": [
    {
     "ename": "SyntaxError",
     "evalue": "f-string: single '}' is not allowed (2104635849.py, line 9)",
     "output_type": "error",
     "traceback": [
      "\u001B[1;36m  Input \u001B[1;32mIn [7]\u001B[1;36m\u001B[0m\n\u001B[1;33m    print(f'Preço total: R$}')\u001B[0m\n\u001B[1;37m                             ^\u001B[0m\n\u001B[1;31mSyntaxError\u001B[0m\u001B[1;31m:\u001B[0m f-string: single '}' is not allowed\n"
     ]
    }
   ],
   "source": [
    "if total:\n",
    "    print(f'{\" CUPOM FISCAL \":=^50}')\n",
    "    print(f'Tipo de carne: {carne}')\n",
    "    print(f'Quantidade (em kg) de carne: {qtd}kg')\n",
    "    print(f'Preço total: R${total:.2f}')\n",
    "    print(f'Tipo de pagamento: {\"Cartão Tabajara\" if pagamento == 1 else \"Outro\"}')\n",
    "    print(f'Valor do desconto: {desconto}%')\n",
    "    print(f'Valor a pagar: {total - total * 0.05 if pagamento == 1 else total}%')"
   ],
   "metadata": {
    "collapsed": false,
    "pycharm": {
     "name": "#%%\n"
    }
   }
  }
 ],
 "metadata": {
  "kernelspec": {
   "display_name": "Python 3",
   "language": "python",
   "name": "python3"
  },
  "language_info": {
   "codemirror_mode": {
    "name": "ipython",
    "version": 2
   },
   "file_extension": ".py",
   "mimetype": "text/x-python",
   "name": "python",
   "nbconvert_exporter": "python",
   "pygments_lexer": "ipython2",
   "version": "2.7.6"
  }
 },
 "nbformat": 4,
 "nbformat_minor": 0
}