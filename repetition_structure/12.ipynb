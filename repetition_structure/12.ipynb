{
 "cells": [
  {
   "cell_type": "markdown",
   "source": [
    "# Desenvolva um gerador de tabuada, capaz de gerar a tabuada de qualquer número inteiro entre 1 a 10. O usuário deve informar de qual numero ele deseja ver a tabuada. A saída deve ser conforme o exemplo abaixo:\n",
    "    Tabuada de 5:\n",
    "    5 X 1 = 5\n",
    "    5 X 2 = 10\n",
    "    ...\n",
    "    5 X 10 = 50"
   ],
   "metadata": {
    "collapsed": false,
    "pycharm": {
     "name": "#%% md\n"
    }
   }
  },
  {
   "cell_type": "code",
   "execution_count": 12,
   "outputs": [],
   "source": [
    "numero = int(input('Digite qualquer inteiro entre 1 e 10'))"
   ],
   "metadata": {
    "collapsed": false,
    "pycharm": {
     "name": "#%%\n"
    }
   }
  },
  {
   "cell_type": "code",
   "execution_count": 13,
   "outputs": [
    {
     "name": "stdout",
     "output_type": "stream",
     "text": [
      "123 X 1 = 123\n",
      "123 X 2 = 246\n",
      "123 X 3 = 369\n",
      "123 X 4 = 492\n",
      "123 X 5 = 615\n",
      "123 X 6 = 738\n",
      "123 X 7 = 861\n",
      "123 X 8 = 984\n",
      "123 X 9 = 1107\n",
      "123 X 10 = 1230\n"
     ]
    }
   ],
   "source": [
    "for mult in range(1, 11):\n",
    "    print(f'{numero} X {mult} = {numero * mult}')"
   ],
   "metadata": {
    "collapsed": false,
    "pycharm": {
     "name": "#%%\n"
    }
   }
  }
 ],
 "metadata": {
  "kernelspec": {
   "display_name": "Python 3",
   "language": "python",
   "name": "python3"
  },
  "language_info": {
   "codemirror_mode": {
    "name": "ipython",
    "version": 2
   },
   "file_extension": ".py",
   "mimetype": "text/x-python",
   "name": "python",
   "nbconvert_exporter": "python",
   "pygments_lexer": "ipython2",
   "version": "2.7.6"
  }
 },
 "nbformat": 4,
 "nbformat_minor": 0
}