{
 "cells": [
  {
   "cell_type": "markdown",
   "source": [
    "# O cardápio de uma lanchonete é o seguinte:\n",
    "    Especificação   Código  Preço\n",
    "    Cachorro Quente 100     RS 1,20\n",
    "    Bauru Simples   101     RS 1,30\n",
    "    Bauru com ovo   102     RS 1,50\n",
    "    Hambúrguer      103     RS 1,20\n",
    "    Cheeseburguer   104     RS 1,30\n",
    "    Refrigerante    105     RS 1,00\n",
    "Faça um programa que leia o código dos itens pedidos e as quantidades desejadas. Calcule e mostre o valor a ser pago por item (preço * quantidade) e o total geral do pedido. Considere que o cliente deve informar quando o pedido deve ser encerrado."
   ],
   "metadata": {
    "collapsed": false
   }
  },
  {
   "cell_type": "raw",
   "source": [
    "Pode parecer estranho vendo a primeira vez, mas foi o melhor que consegui fazer."
   ],
   "metadata": {
    "collapsed": false
   }
  },
  {
   "cell_type": "code",
   "execution_count": 137,
   "outputs": [],
   "source": [
    "menu = [\n",
    "    {'specification': 'Cachorro Quente', 'code': 100, 'price': 1.2},\n",
    "    {'specification': 'Bauru Simples', 'code': 101, 'price': 1.3},\n",
    "    {'specification': 'Bauru com ovo', 'code': 102, 'price': 1.5},\n",
    "    {'specification': 'Hambúrguer', 'code': 103, 'price': 1.2},\n",
    "    {'specification': 'Cheeseburguer', 'code': 104, 'price': 1.3},\n",
    "    {'specification': 'Refrigerante', 'code': 105, 'price': 1.0},\n",
    "]"
   ],
   "metadata": {
    "collapsed": false
   }
  },
  {
   "cell_type": "code",
   "execution_count": 138,
   "outputs": [
    {
     "name": "stdout",
     "output_type": "stream",
     "text": [
      "Especificação   Código  Preço\n",
      "Cachorro Quente 100     R$ 1,20\n",
      "Bauru Simples   101     R$ 1,30\n",
      "Bauru com ovo   102     R$ 1,50\n",
      "Hambúrguer      103     R$ 1,20\n",
      "Cheeseburguer   104     R$ 1,30\n",
      "Refrigerante    105     R$ 1,00\n"
     ]
    }
   ],
   "source": [
    "print(f'{\"Especificação\":<16}{\"Código\":<8}Preço')\n",
    "for item in menu:\n",
    "    print(f'{item[\"specification\"]:<16}{item[\"code\"]:<8}R$ {str(item[\"price\"]).replace(\".\", \",\") + \"0\"}')"
   ],
   "metadata": {
    "collapsed": false
   }
  },
  {
   "cell_type": "code",
   "execution_count": 139,
   "outputs": [],
   "source": [
    "codigo = input('Digite o código do pedido')\n",
    "qtd = int(input('Digite a quantidade desse pedido'))"
   ],
   "metadata": {
    "collapsed": false
   }
  },
  {
   "cell_type": "code",
   "execution_count": 140,
   "outputs": [],
   "source": [
    "pedido = menu[int(codigo[-1])]"
   ],
   "metadata": {
    "collapsed": false
   }
  },
  {
   "cell_type": "code",
   "execution_count": 141,
   "outputs": [],
   "source": [
    "total = round(pedido['price'] * qtd, 2)"
   ],
   "metadata": {
    "collapsed": false
   }
  },
  {
   "cell_type": "code",
   "execution_count": 142,
   "outputs": [
    {
     "name": "stdout",
     "output_type": "stream",
     "text": [
      "Você pediu 156 Cheeseburguer.\n",
      "Total: R$ 202,80\n"
     ]
    }
   ],
   "source": [
    "print(f'Você pediu {qtd} {pedido[\"specification\"]}.')\n",
    "print(f'Total: R$ {str(total).replace(\".\", \",\") + \"0\"}')"
   ],
   "metadata": {
    "collapsed": false
   }
  }
 ],
 "metadata": {
  "kernelspec": {
   "display_name": "Python 3",
   "language": "python",
   "name": "python3"
  },
  "language_info": {
   "codemirror_mode": {
    "name": "ipython",
    "version": 2
   },
   "file_extension": ".py",
   "mimetype": "text/x-python",
   "name": "python",
   "nbconvert_exporter": "python",
   "pygments_lexer": "ipython2",
   "version": "2.7.6"
  }
 },
 "nbformat": 4,
 "nbformat_minor": 0
}
