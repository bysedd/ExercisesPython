{
 "cells": [
  {
   "cell_type": "markdown",
   "source": [
    "# A série de Fibonacci é formada pela sequência 1,1,2,3,5,8,13,21,34,55,... Faça um programa capaz de gerar a série até o n−ésimo termo."
   ],
   "metadata": {
    "collapsed": false
   }
  },
  {
   "cell_type": "code",
   "execution_count": 107,
   "outputs": [],
   "source": [
    "lista = [1, 1]"
   ],
   "metadata": {
    "collapsed": false
   }
  },
  {
   "cell_type": "code",
   "execution_count": 108,
   "outputs": [],
   "source": [
    "n = int(input('Gerar a série de fibonacci até qual termo?'))"
   ],
   "metadata": {
    "collapsed": false
   }
  },
  {
   "cell_type": "code",
   "execution_count": 109,
   "outputs": [],
   "source": [
    "for _ in range(2, n):\n",
    "    lista.append(lista[len(lista) - 2] + lista[len(lista) - 1])"
   ],
   "metadata": {
    "collapsed": false
   }
  },
  {
   "cell_type": "code",
   "execution_count": 110,
   "outputs": [
    {
     "name": "stdout",
     "output_type": "stream",
     "text": [
      "1º termo: 1\n",
      "2º termo: 1\n",
      "3º termo: 2\n",
      "4º termo: 3\n",
      "5º termo: 5\n",
      "6º termo: 8\n",
      "7º termo: 13\n",
      "8º termo: 21\n",
      "9º termo: 34\n"
     ]
    }
   ],
   "source": [
    "for i, n in enumerate(lista):\n",
    "    print(f'{i + 1}º termo: {n}')"
   ],
   "metadata": {
    "collapsed": false
   }
  }
 ],
 "metadata": {
  "kernelspec": {
   "display_name": "Python 3",
   "language": "python",
   "name": "python3"
  },
  "language_info": {
   "codemirror_mode": {
    "name": "ipython",
    "version": 2
   },
   "file_extension": ".py",
   "mimetype": "text/x-python",
   "name": "python",
   "nbconvert_exporter": "python",
   "pygments_lexer": "ipython2",
   "version": "2.7.6"
  }
 },
 "nbformat": 4,
 "nbformat_minor": 0
}
