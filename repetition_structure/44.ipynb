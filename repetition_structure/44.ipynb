{
 "cells": [
  {
   "cell_type": "markdown",
   "source": [
    "# Em uma eleição presidencial existem quatro candidatos. Os votos são informados por meio de código. Os códigos utilizados são:\n",
    "    1, 2, 3, 4  - Votos para os respectivos candidatos\n",
    "    (você deve montar a tabela ex: 1 - Jose/ 2- João/etc)\n",
    "    5 - Voto Nulo\n",
    "    6 - Voto em Branco\n",
    "# Faça um programa que calcule e mostre:\n",
    "    O total de votos para cada candidato;\n",
    "    O total de votos nulos;\n",
    "    O total de votos em branco;\n",
    "    A percentagem de votos nulos sobre o total de votos;\n",
    "    A percentagem de votos em branco sobre o total de votos. Para finalizar o conjunto de votos tem-se o valor zero."
   ],
   "metadata": {
    "collapsed": false
   }
  },
  {
   "cell_type": "code",
   "execution_count": 37,
   "outputs": [],
   "source": [
    "candidatos = [\n",
    "    {'nome': 'João', 'votos': 0},\n",
    "    {'nome': 'José', 'votos': 0},\n",
    "    {'nome': 'Bolsonaro', 'votos': 0},\n",
    "    {'nome': 'Lula', 'votos': 0},\n",
    "    {'nome': 'Nulo', 'votos': 0},\n",
    "    {'nome': 'Branco', 'votos': 0},\n",
    "]"
   ],
   "metadata": {
    "collapsed": false
   }
  },
  {
   "cell_type": "code",
   "execution_count": 38,
   "outputs": [
    {
     "name": "stdout",
     "output_type": "stream",
     "text": [
      "1 - João\n",
      "2 - José\n",
      "3 - Bolsonaro\n",
      "4 - Lula\n",
      "5 - Nulo\n",
      "6 - Branco\n"
     ]
    }
   ],
   "source": [
    "for i, v in enumerate(candidatos):\n",
    "    print(f'{i + 1} - {v[\"nome\"]}')"
   ],
   "metadata": {
    "collapsed": false
   }
  },
  {
   "cell_type": "code",
   "execution_count": 39,
   "outputs": [],
   "source": [
    "while True:\n",
    "    voto = int(input('Escolha um dos números acima para votar'))\n",
    "    if voto <= 0:\n",
    "        break\n",
    "    elif voto <= 6:\n",
    "        candidatos[voto - 1]['votos'] += 1"
   ],
   "metadata": {
    "collapsed": false
   }
  },
  {
   "cell_type": "code",
   "execution_count": 40,
   "outputs": [
    {
     "data": {
      "text/plain": "[{'nome': 'João', 'votos': 4},\n {'nome': 'José', 'votos': 10},\n {'nome': 'Bolsonaro', 'votos': 10},\n {'nome': 'Lula', 'votos': 8},\n {'nome': 'Nulo', 'votos': 4},\n {'nome': 'Branco', 'votos': 3}]"
     },
     "execution_count": 40,
     "metadata": {},
     "output_type": "execute_result"
    }
   ],
   "source": [
    "candidatos"
   ],
   "metadata": {
    "collapsed": false
   }
  },
  {
   "cell_type": "code",
   "execution_count": 44,
   "outputs": [
    {
     "name": "stdout",
     "output_type": "stream",
     "text": [
      "João - 4 votos\n",
      "José - 10 votos\n",
      "Bolsonaro - 10 votos\n",
      "Lula - 8 votos\n"
     ]
    }
   ],
   "source": [
    "for c in candidatos:\n",
    "    if c[\"nome\"] != 'Nulo' and c[\"nome\"] != 'Branco':\n",
    "        print(f'{c[\"nome\"]} - {c[\"votos\"]} votos')"
   ],
   "metadata": {
    "collapsed": false
   }
  },
  {
   "cell_type": "code",
   "execution_count": 47,
   "outputs": [
    {
     "name": "stdout",
     "output_type": "stream",
     "text": [
      "Nulo - 4 votos\n",
      "Branco - 3 votos\n"
     ]
    }
   ],
   "source": [
    "for c in candidatos:\n",
    "    if c[\"nome\"] == 'Nulo' or c[\"nome\"] == 'Branco':\n",
    "        print(f'{c[\"nome\"]} - {c[\"votos\"]} votos')"
   ],
   "metadata": {
    "collapsed": false
   }
  },
  {
   "cell_type": "code",
   "execution_count": 62,
   "outputs": [],
   "source": [
    "total = sum([c[\"votos\"] for c in candidatos])\n",
    "nulo = candidatos[-2]['votos']\n",
    "branco = candidatos[-1]['votos']"
   ],
   "metadata": {
    "collapsed": false
   }
  },
  {
   "cell_type": "raw",
   "source": [
    "total -> 100%\n",
    "nulo  -> x%"
   ],
   "metadata": {
    "collapsed": false
   }
  },
  {
   "cell_type": "code",
   "execution_count": 58,
   "outputs": [],
   "source": [
    "porcentagem_nulo = round(nulo * 100 / total, 2)\n",
    "porcentagem_branco = round(branco * 100 / total, 2)"
   ],
   "metadata": {
    "collapsed": false
   }
  },
  {
   "cell_type": "code",
   "execution_count": 63,
   "outputs": [
    {
     "name": "stdout",
     "output_type": "stream",
     "text": [
      "Porcentagem de votos nulos: 10.26%\n",
      "Porcentagem de votos brancos: 7.69%\n"
     ]
    }
   ],
   "source": [
    "print(f'Porcentagem de votos nulos: {porcentagem_nulo}%')\n",
    "print(f'Porcentagem de votos brancos: {porcentagem_branco}%')"
   ],
   "metadata": {
    "collapsed": false
   }
  },
  {
   "cell_type": "code",
   "execution_count": 64,
   "outputs": [],
   "source": [
    "for c in candidatos:\n",
    "    c['votos'] = 0"
   ],
   "metadata": {
    "collapsed": false
   }
  },
  {
   "cell_type": "code",
   "execution_count": 65,
   "outputs": [
    {
     "data": {
      "text/plain": "[{'nome': 'João', 'votos': 0},\n {'nome': 'José', 'votos': 0},\n {'nome': 'Bolsonaro', 'votos': 0},\n {'nome': 'Lula', 'votos': 0},\n {'nome': 'Nulo', 'votos': 0},\n {'nome': 'Branco', 'votos': 0}]"
     },
     "execution_count": 65,
     "metadata": {},
     "output_type": "execute_result"
    }
   ],
   "source": [
    "candidatos"
   ],
   "metadata": {
    "collapsed": false
   }
  }
 ],
 "metadata": {
  "kernelspec": {
   "display_name": "Python 3",
   "language": "python",
   "name": "python3"
  },
  "language_info": {
   "codemirror_mode": {
    "name": "ipython",
    "version": 2
   },
   "file_extension": ".py",
   "mimetype": "text/x-python",
   "name": "python",
   "nbconvert_exporter": "python",
   "pygments_lexer": "ipython2",
   "version": "2.7.6"
  }
 },
 "nbformat": 4,
 "nbformat_minor": 0
}
