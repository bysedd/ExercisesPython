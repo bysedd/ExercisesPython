{
 "cells": [
  {
   "cell_type": "markdown",
   "source": [
    "# Faça um programa que calcule o número médio de alunos por turma. Para isto, peça a quantidade de turmas e a quantidade de alunos para cada turma. As turmas não podem ter mais de 40 alunos."
   ],
   "metadata": {
    "collapsed": false
   }
  },
  {
   "cell_type": "code",
   "execution_count": 18,
   "outputs": [],
   "source": [
    "turmas: int = int(input('Quantidade de turmas'))"
   ],
   "metadata": {
    "collapsed": false
   }
  },
  {
   "cell_type": "code",
   "execution_count": 19,
   "outputs": [],
   "source": [
    "alunos: list = list()"
   ],
   "metadata": {
    "collapsed": false
   }
  },
  {
   "cell_type": "code",
   "execution_count": 20,
   "outputs": [],
   "source": [
    "for t in range(turmas):\n",
    "    a = int(input(f'Quantidade alunos na {t + 1}ª turma'))\n",
    "    while a > 40 or a < 0:\n",
    "        a = int(input(f'Quantidade alunos na {t + 1}ª turma'))\n",
    "    alunos.append(a)"
   ],
   "metadata": {
    "collapsed": false
   }
  },
  {
   "cell_type": "code",
   "execution_count": 21,
   "outputs": [
    {
     "name": "stdout",
     "output_type": "stream",
     "text": [
      "1ª turma: 20 alunos\n",
      "2ª turma: 24 alunos\n",
      "3ª turma: 26 alunos\n",
      "4ª turma: 10 alunos\n",
      "5ª turma: 12 alunos\n",
      "6ª turma: 33 alunos\n",
      "7ª turma: 39 alunos\n"
     ]
    }
   ],
   "source": [
    "for i, v in enumerate(alunos):\n",
    "    print(f'{i + 1}ª turma: {v} alunos')"
   ],
   "metadata": {
    "collapsed": false
   }
  },
  {
   "cell_type": "code",
   "execution_count": 22,
   "outputs": [
    {
     "name": "stdout",
     "output_type": "stream",
     "text": [
      "Média de 23 alunos por turma.\n"
     ]
    }
   ],
   "source": [
    "print(f'Média de {round(sum(alunos) / len(alunos))} alunos por turma.')"
   ],
   "metadata": {
    "collapsed": false
   }
  }
 ],
 "metadata": {
  "kernelspec": {
   "display_name": "Python 3",
   "language": "python",
   "name": "python3"
  },
  "language_info": {
   "codemirror_mode": {
    "name": "ipython",
    "version": 2
   },
   "file_extension": ".py",
   "mimetype": "text/x-python",
   "name": "python",
   "nbconvert_exporter": "python",
   "pygments_lexer": "ipython2",
   "version": "2.7.6"
  }
 },
 "nbformat": 4,
 "nbformat_minor": 0
}
