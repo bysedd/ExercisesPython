{
 "cells": [
  {
   "cell_type": "markdown",
   "source": [
    "# Altere o programa anterior para que ele aceite apenas números entre 0 e 1000."
   ],
   "metadata": {
    "collapsed": false
   }
  },
  {
   "cell_type": "code",
   "execution_count": 6,
   "outputs": [],
   "source": [
    "conjunto = set()"
   ],
   "metadata": {
    "collapsed": false
   }
  },
  {
   "cell_type": "code",
   "execution_count": 7,
   "outputs": [],
   "source": [
    "qtd = int(input('Quantos números você vai digitar?'))\n",
    "i = 0"
   ],
   "metadata": {
    "collapsed": false
   }
  },
  {
   "cell_type": "code",
   "execution_count": 8,
   "outputs": [
    {
     "name": "stdout",
     "output_type": "stream",
     "text": [
      "Aceito apenas números entre 0 e 1000\n"
     ]
    }
   ],
   "source": [
    "while i < qtd:\n",
    "    n = float(input(f'{i + 1}º número'))\n",
    "    if 0 <= n <= 1000:\n",
    "        conjunto.add(n)\n",
    "        i += 1\n",
    "    else:\n",
    "        print('Aceito apenas números entre 0 e 1000')"
   ],
   "metadata": {
    "collapsed": false
   }
  },
  {
   "cell_type": "code",
   "execution_count": null,
   "outputs": [],
   "source": [
    "print(conjunto)"
   ],
   "metadata": {
    "collapsed": false
   }
  },
  {
   "cell_type": "code",
   "execution_count": 9,
   "outputs": [
    {
     "name": "stdout",
     "output_type": "stream",
     "text": [
      "{2.0, 4.0, 7.0}\n"
     ]
    }
   ],
   "source": [
    "print(f'Menor valor: {min(conjunto)}\\n'\n",
    "      f'Maior valor: {max(conjunto)}\\n'\n",
    "      f'Soma dos valores: {sum(conjunto)}')"
   ],
   "metadata": {
    "collapsed": false
   }
  }
 ],
 "metadata": {
  "kernelspec": {
   "display_name": "Python 3",
   "language": "python",
   "name": "python3"
  },
  "language_info": {
   "codemirror_mode": {
    "name": "ipython",
    "version": 2
   },
   "file_extension": ".py",
   "mimetype": "text/x-python",
   "name": "python",
   "nbconvert_exporter": "python",
   "pygments_lexer": "ipython2",
   "version": "2.7.6"
  }
 },
 "nbformat": 4,
 "nbformat_minor": 0
}
