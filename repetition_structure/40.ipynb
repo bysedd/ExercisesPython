{
 "cells": [
  {
   "cell_type": "markdown",
   "source": [
    "# Foi feita uma estatística em cinco cidades brasileiras para coletar dados sobre acidentes de trânsito. Foram obtidos os seguintes dados:\n",
    "    Código da cidade;\n",
    "    Número de veículos de passeio (em 1999);\n",
    "    Número de acidentes de trânsito com vítimas (em 1999).\n",
    "# Deseja-se saber:\n",
    "    Qual o maior e menor índice de acidentes de trânsito e a que cidade pertence;\n",
    "    Qual a média de veículos nas cinco cidades juntas;\n",
    "    Qual a média de acidentes de trânsito nas cidades com menos de 2.000 veículos de passeio?"
   ],
   "metadata": {
    "collapsed": false
   }
  },
  {
   "cell_type": "code",
   "execution_count": 55,
   "outputs": [],
   "source": [
    "cidades = [\n",
    "    # {'code': int, 'vehicles': int, 'accidents': int}\n",
    "]"
   ],
   "metadata": {
    "collapsed": false
   }
  },
  {
   "cell_type": "code",
   "execution_count": 7,
   "outputs": [],
   "source": [
    "for i in range(5):\n",
    "    codigo = int(input(f'Código da {i + 1}ª cidade'))\n",
    "    veiculos = int(input(f'Veículos da {i + 1}ª cidade'))\n",
    "    acidentes = int(input(f'Acidentes da {i + 1}ª cidade'))\n",
    "    cidades.append({\n",
    "        'code': codigo,\n",
    "        'vehicles': veiculos,\n",
    "        'accidents': acidentes\n",
    "    })"
   ],
   "metadata": {
    "collapsed": false
   }
  },
  {
   "cell_type": "code",
   "execution_count": 56,
   "outputs": [
    {
     "data": {
      "text/plain": "[]"
     },
     "execution_count": 56,
     "metadata": {},
     "output_type": "execute_result"
    }
   ],
   "source": [
    "cidades"
   ],
   "metadata": {
    "collapsed": false
   }
  },
  {
   "cell_type": "code",
   "execution_count": 12,
   "outputs": [
    {
     "data": {
      "text/plain": "(4, 54)"
     },
     "execution_count": 12,
     "metadata": {},
     "output_type": "execute_result"
    }
   ],
   "source": [
    "menos_acidentes = min(cidades, key=lambda cidade: cidade['accidents'])\n",
    "menos_acidentes = (menos_acidentes['code'], menos_acidentes['accidents'])"
   ],
   "metadata": {
    "collapsed": false
   }
  },
  {
   "cell_type": "code",
   "execution_count": 13,
   "outputs": [
    {
     "data": {
      "text/plain": "(666, 973)"
     },
     "execution_count": 13,
     "metadata": {},
     "output_type": "execute_result"
    }
   ],
   "source": [
    "mais_acidentes = max(cidades, key=lambda cidade: cidade['accidents'])\n",
    "mais_acidentes = (mais_acidentes['code'], mais_acidentes['accidents'])"
   ],
   "metadata": {
    "collapsed": false
   }
  },
  {
   "cell_type": "code",
   "execution_count": 20,
   "outputs": [
    {
     "data": {
      "text/plain": "3409"
     },
     "execution_count": 20,
     "metadata": {},
     "output_type": "execute_result"
    }
   ],
   "source": [
    "veiculos = [c['vehicles'] for c in cidades]\n",
    "media_veiculos = round(sum(veiculos) / len(veiculos))"
   ],
   "metadata": {
    "collapsed": false
   }
  },
  {
   "cell_type": "code",
   "execution_count": 40,
   "outputs": [],
   "source": [
    "acidentes = []\n",
    "for c in cidades:\n",
    "    if c['vehicles'] < 2000:\n",
    "        acidentes.append(c['accidents'])"
   ],
   "metadata": {
    "collapsed": false
   }
  },
  {
   "cell_type": "code",
   "execution_count": 41,
   "outputs": [
    {
     "data": {
      "text/plain": "90"
     },
     "execution_count": 41,
     "metadata": {},
     "output_type": "execute_result"
    }
   ],
   "source": [
    "media_acidentes = round(sum(acidentes) / len(acidentes))"
   ],
   "metadata": {
    "collapsed": false
   }
  },
  {
   "cell_type": "code",
   "execution_count": 68,
   "outputs": [
    {
     "name": "stdout",
     "output_type": "stream",
     "text": [
      "\u001B[7mQual o maior e menor índice de acidentes de trânsito e a que cidade pertence?\u001B[m\n",
      "\u001B[32mMaior índice de acidentes acontece na cidade 666, com 973 acidentes.\u001B[m\n",
      "\u001B[32mMenor índice de acidentes acontece na cidade 4, com 54 acidentes.\u001B[m\n"
     ]
    }
   ],
   "source": [
    "print('\\033[7mQual o maior e menor índice de acidentes de trânsito e a que cidade pertence?\\033[m')\n",
    "print(f'\\033[32mMaior índice de acidentes acontece na cidade {mais_acidentes[0]}, com {mais_acidentes[1]} acidentes.\\033[m')\n",
    "print(f'\\033[32mMenor índice de acidentes acontece na cidade {menos_acidentes[0]}, com {menos_acidentes[1]} acidentes.\\033[m')"
   ],
   "metadata": {
    "collapsed": false
   }
  },
  {
   "cell_type": "code",
   "execution_count": 70,
   "outputs": [
    {
     "name": "stdout",
     "output_type": "stream",
     "text": [
      "\u001B[7mQual a média de veículos nas cinco cidades juntas?\u001B[m\n",
      "\u001B[32mA média de veículos nas cinco cidades juntas é de 3409 veículos.\u001B[m\n"
     ]
    }
   ],
   "source": [
    "print('\\033[7mQual a média de veículos nas cinco cidades juntas?\\033[m')\n",
    "print(f'\\033[32mA média de veículos nas cinco cidades juntas é de {media_veiculos} veículos.\\033[m')"
   ],
   "metadata": {
    "collapsed": false
   }
  },
  {
   "cell_type": "code",
   "execution_count": 71,
   "outputs": [
    {
     "name": "stdout",
     "output_type": "stream",
     "text": [
      "\u001B[7mQual a média de acidentes de trânsito nas cidades com menos de 2.000 veículos de passeio?\u001B[m\n",
      "\u001B[32mA média de acidentes de trânsito nessas cidades é de 90 acidentes.\u001B[m\n"
     ]
    }
   ],
   "source": [
    "print('\\033[7mQual a média de acidentes de trânsito nas cidades com menos de 2.000 veículos de passeio?\\033[m')\n",
    "print(f'\\033[32mA média de acidentes de trânsito nessas cidades é de {media_acidentes} acidentes.\\033[m')"
   ],
   "metadata": {
    "collapsed": false
   }
  }
 ],
 "metadata": {
  "kernelspec": {
   "display_name": "Python 3",
   "language": "python",
   "name": "python3"
  },
  "language_info": {
   "codemirror_mode": {
    "name": "ipython",
    "version": 2
   },
   "file_extension": ".py",
   "mimetype": "text/x-python",
   "name": "python",
   "nbconvert_exporter": "python",
   "pygments_lexer": "ipython2",
   "version": "2.7.6"
  }
 },
 "nbformat": 4,
 "nbformat_minor": 0
}
