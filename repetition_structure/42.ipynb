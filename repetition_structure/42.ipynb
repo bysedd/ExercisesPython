{
 "cells": [
  {
   "cell_type": "markdown",
   "source": [
    "# Faça um programa que leia uma quantidade indeterminada de números positivos e conte quantos deles estão nos seguintes intervalos: [0-25], [26-50], [51-75] e [76-100]. A entrada de dados deverá terminar quando for lido um número negativo."
   ],
   "metadata": {
    "collapsed": false
   }
  },
  {
   "cell_type": "code",
   "execution_count": 3,
   "outputs": [],
   "source": [
    "intervalo_1: int = 0\n",
    "intervalo_2: int = 0\n",
    "intervalo_3: int = 0\n",
    "intervalo_4: int = 0"
   ],
   "metadata": {
    "collapsed": false
   }
  },
  {
   "cell_type": "code",
   "execution_count": 4,
   "outputs": [],
   "source": [
    "while True:\n",
    "    n = int(input('Digite um número inteiro'))\n",
    "\n",
    "    if n < 0:\n",
    "        break\n",
    "    else:\n",
    "        if 0 <= n <= 25:\n",
    "            intervalo_1 += 1\n",
    "        elif n <= 50:\n",
    "            intervalo_2 += 1\n",
    "        elif n <= 75:\n",
    "            intervalo_3 += 1\n",
    "        elif n <= 100:\n",
    "            intervalo_4 += 1"
   ],
   "metadata": {
    "collapsed": false
   }
  },
  {
   "cell_type": "code",
   "execution_count": 5,
   "outputs": [
    {
     "name": "stdout",
     "output_type": "stream",
     "text": [
      "Quantidade de números entre:\n",
      "[0-25] = 7\n",
      "[26-50] = 2\n",
      "[51-75] = 2\n",
      "[76-100] = 3\n"
     ]
    }
   ],
   "source": [
    "print('Quantidade de números entre:')\n",
    "print(f'[0-25] = {intervalo_1}')\n",
    "print(f'[26-50] = {intervalo_2}')\n",
    "print(f'[51-75] = {intervalo_3}')\n",
    "print(f'[76-100] = {intervalo_4}')"
   ],
   "metadata": {
    "collapsed": false
   }
  }
 ],
 "metadata": {
  "kernelspec": {
   "display_name": "Python 3",
   "language": "python",
   "name": "python3"
  },
  "language_info": {
   "codemirror_mode": {
    "name": "ipython",
    "version": 2
   },
   "file_extension": ".py",
   "mimetype": "text/x-python",
   "name": "python",
   "nbconvert_exporter": "python",
   "pygments_lexer": "ipython2",
   "version": "2.7.6"
  }
 },
 "nbformat": 4,
 "nbformat_minor": 0
}
