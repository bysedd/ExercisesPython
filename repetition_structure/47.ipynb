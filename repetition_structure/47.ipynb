{
 "cells": [
  {
   "cell_type": "markdown",
   "source": [
    "# Em uma competição de ginástica, cada atleta recebe votos de sete jurados. A melhor e a pior nota são eliminadas. A sua nota fica sendo a média dos votos restantes. Você deve fazer um programa que receba o nome do ginasta e as notas dos sete jurados alcançadas pelo atleta em sua apresentação e depois informe a sua média, conforme a descrição acima informada (retirar o melhor e o pior salto e depois calcular a média com as notas restantes). As notas não são informados ordenadas. Um exemplo de saída do programa deve ser conforme o exemplo abaixo:\n",
    "    Atleta: Aparecido Parente\n",
    "    Nota: 9.9\n",
    "    Nota: 7.5\n",
    "    Nota: 9.5\n",
    "    Nota: 8.5\n",
    "    Nota: 9.0\n",
    "    Nota: 8.5\n",
    "    Nota: 9.7\n",
    "\n",
    "    Resultado final:\n",
    "    Atleta: Aparecido Parente\n",
    "    Melhor nota: 9.9\n",
    "    Pior nota: 7.5\n",
    "    Média: 9,04"
   ],
   "metadata": {
    "collapsed": false
   }
  },
  {
   "cell_type": "raw",
   "source": [
    "Coloquei o sleep pra variar um pouco do anterior"
   ],
   "metadata": {
    "collapsed": false
   }
  },
  {
   "cell_type": "code",
   "execution_count": null,
   "outputs": [],
   "source": [
    "from time import sleep"
   ],
   "metadata": {
    "collapsed": false
   }
  },
  {
   "cell_type": "code",
   "execution_count": null,
   "outputs": [],
   "source": [
    "atletas = [\n",
    "    # {'nome': '', 'notas': []}\n",
    "]"
   ],
   "metadata": {
    "collapsed": false
   }
  },
  {
   "cell_type": "code",
   "execution_count": null,
   "outputs": [],
   "source": [
    "participantes = 2"
   ],
   "metadata": {
    "collapsed": false
   }
  },
  {
   "cell_type": "code",
   "execution_count": null,
   "outputs": [],
   "source": [
    "for i in range(participantes):\n",
    "    nome = input(f'Nome do {i + 1}º participante:')\n",
    "    notas = []\n",
    "    for j in range(7):\n",
    "        notas.append(float(input(f'Nota do {j + 1}º jurado:')))\n",
    "    atletas.append({'nome': nome, 'notas': notas})\n",
    "    sleep(1)"
   ],
   "metadata": {
    "collapsed": false
   }
  },
  {
   "cell_type": "code",
   "execution_count": 54,
   "outputs": [
    {
     "name": "stdout",
     "output_type": "stream",
     "text": [
      "Atleta: Felippe\n",
      "Nota: 7.8\n",
      "Nota: 8.7\n",
      "Nota: 9.8\n",
      "Nota: 9.5\n",
      "Nota: 8.7\n",
      "Nota: 6.5\n",
      "Nota: 8.7\n",
      "\n",
      "Resultado final:\n",
      "Atleta: Felippe\n",
      "Melhor nota: 9.8\n",
      "Pior nota: 6.5\n",
      "Média: 8,5\n",
      "-=-=-=-=-=-=-=-=-=-=-=-=-=-=-=-=-=-=-=-=\n",
      "Atleta: Aparecido Parente\n",
      "Nota: 8.8\n",
      "Nota: 9.9\n",
      "Nota: 7.5\n",
      "Nota: 7.8\n",
      "Nota: 9.8\n",
      "Nota: 9.8\n",
      "Nota: 9.7\n",
      "\n",
      "Resultado final:\n",
      "Atleta: Aparecido Parente\n",
      "Melhor nota: 9.9\n",
      "Pior nota: 7.5\n",
      "Média: 9,0\n",
      "-=-=-=-=-=-=-=-=-=-=-=-=-=-=-=-=-=-=-=-=\n"
     ]
    }
   ],
   "source": [
    "for a in atletas:\n",
    "    print(f'Atleta: {a[\"nome\"]}')\n",
    "    for nota in a['notas']:\n",
    "        print(f'Nota: {nota}')\n",
    "\n",
    "    print('\\nResultado final:')\n",
    "    print(f'Atleta: {a[\"nome\"]}')\n",
    "    print(f'Melhor nota: {max(a[\"notas\"])}')\n",
    "    print(f'Pior nota: {min(a[\"notas\"])}')\n",
    "    print(f'Média: {str(round(sum(a[\"notas\"]) / 7, 1)).replace(\".\", \",\")}')\n",
    "    print('-=' * 20)"
   ],
   "metadata": {
    "collapsed": false
   }
  },
  {
   "cell_type": "markdown",
   "source": [
    "Penso que é assim..."
   ],
   "metadata": {
    "collapsed": false
   }
  }
 ],
 "metadata": {
  "kernelspec": {
   "display_name": "Python 3",
   "language": "python",
   "name": "python3"
  },
  "language_info": {
   "codemirror_mode": {
    "name": "ipython",
    "version": 2
   },
   "file_extension": ".py",
   "mimetype": "text/x-python",
   "name": "python",
   "nbconvert_exporter": "python",
   "pygments_lexer": "ipython2",
   "version": "2.7.6"
  }
 },
 "nbformat": 4,
 "nbformat_minor": 0
}
