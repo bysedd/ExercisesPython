{
 "cells": [
  {
   "cell_type": "markdown",
   "source": [
    "# Em uma competição de salto em distância cada atleta tem direito a cinco saltos. No final da série de saltos de cada atleta, o melhor e o pior resultados são eliminados. O seu resultado fica sendo a média dos três valores restantes. Você deve fazer um programa que receba o nome e às cinco distâncias alcançadas pelo atleta em seus saltos e depois informe a média dos saltos conforme a descrição acima informada (retirar o melhor e o pior salto e depois calcular a média). Use uma lista para armazenar os saltos. Os saltos são informados na ordem da execução, portanto não são ordenados. O programa deve ser encerrado quando não for informado o nome do atleta. A saída do programa deve ser conforme o exemplo abaixo:\n",
    "    Atleta: Rodrigo Curvêllo\n",
    "\n",
    "    Primeiro Salto: 6.5 m\n",
    "    Segundo Salto: 6.1 m\n",
    "    Terceiro Salto: 6.2 m\n",
    "    Quarto Salto: 5.4 m\n",
    "    Quinto Salto: 5.3 m\n",
    "\n",
    "    Melhor salto:  6.5 m\n",
    "    Pior salto: 5.3 m\n",
    "    Média dos demais saltos: 5.9 m\n",
    "\n",
    "    Resultado final:\n",
    "    Rodrigo Curvêllo: 5.9 m"
   ],
   "metadata": {
    "collapsed": false
   }
  },
  {
   "cell_type": "raw",
   "source": [
    "Esse é o melhor que consegui fazer ☟"
   ],
   "metadata": {
    "collapsed": false
   }
  },
  {
   "cell_type": "code",
   "execution_count": 79,
   "outputs": [],
   "source": [
    "atletas = [\n",
    "    # {'nome': '', 'saltos': []}\n",
    "]"
   ],
   "metadata": {
    "collapsed": false
   }
  },
  {
   "cell_type": "code",
   "execution_count": 80,
   "outputs": [],
   "source": [
    "extenso = ['Primeiro', 'Segundo', 'Terceiro', 'Quarto', 'Quinto']"
   ],
   "metadata": {
    "collapsed": false
   }
  },
  {
   "cell_type": "code",
   "execution_count": 81,
   "outputs": [],
   "source": [
    "participantes = 2"
   ],
   "metadata": {
    "collapsed": false
   }
  },
  {
   "cell_type": "code",
   "execution_count": 82,
   "outputs": [],
   "source": [
    "for i in range(participantes):\n",
    "    nome = input('Digite o nome do atleta:')\n",
    "    atletas.append({'nome': nome, 'saltos': []})\n",
    "    for j in range(5):\n",
    "        salto = float(input(f'{extenso[j]} salto:'))\n",
    "        atletas[i]['saltos'].append(salto)"
   ],
   "metadata": {
    "collapsed": false
   }
  },
  {
   "cell_type": "code",
   "execution_count": 84,
   "outputs": [],
   "source": [
    "nome = max(atletas, key=lambda atleta: atleta['saltos'])['nome']"
   ],
   "metadata": {
    "collapsed": false
   }
  },
  {
   "cell_type": "code",
   "execution_count": null,
   "outputs": [],
   "source": [
    "melhor_salto = 0\n",
    "pior_salto = 0\n",
    "media_saltos = 0"
   ],
   "metadata": {
    "collapsed": false
   }
  },
  {
   "cell_type": "code",
   "execution_count": 106,
   "outputs": [],
   "source": [
    "for v in atletas:\n",
    "    if v['nome'] == nome:\n",
    "        melhor_salto = max(v['saltos'])\n",
    "        pior_salto = min(v['saltos'])\n",
    "        media_saltos = round(sum(v['saltos']) / len(v['saltos']), 1)"
   ],
   "metadata": {
    "collapsed": false
   }
  },
  {
   "cell_type": "code",
   "execution_count": 107,
   "outputs": [
    {
     "name": "stdout",
     "output_type": "stream",
     "text": [
      "Atleta: Rodrigo Curvêllo\n",
      "\n",
      "Primeiro Salto: 6.5 m\n",
      "Segundo Salto: 6.1 m\n",
      "Terceiro Salto: 6.2 m\n",
      "Quarto Salto: 5.4 m\n",
      "Quinto Salto: 5.3 m\n",
      "\n",
      "Melhor salto: 6.5 m\n",
      "Pior salto: 5.3 m\n",
      "Média dos demais saltos: 5.9 m\n",
      "\n",
      "Resultado final:\n",
      "Rodrigo Curvêllo: 5.9 m\n"
     ]
    }
   ],
   "source": [
    "print(f'Atleta: {nome}', end='\\n\\n')\n",
    "\n",
    "for i, v in enumerate(atletas):\n",
    "    if v['nome'] == nome:\n",
    "        for j in range(5):\n",
    "            print(f\"{extenso[j]} Salto: {v['saltos'][j]} m\")\n",
    "\n",
    "print(f'\\nMelhor salto: {melhor_salto} m')\n",
    "print(f'Pior salto: {pior_salto} m')\n",
    "print(f'Média dos demais saltos: {media_saltos} m', end='\\n\\n')\n",
    "\n",
    "print('Resultado final:')\n",
    "print(f'{nome}: {media_saltos} m')"
   ],
   "metadata": {
    "collapsed": false
   }
  }
 ],
 "metadata": {
  "kernelspec": {
   "display_name": "Python 3",
   "language": "python",
   "name": "python3"
  },
  "language_info": {
   "codemirror_mode": {
    "name": "ipython",
    "version": 2
   },
   "file_extension": ".py",
   "mimetype": "text/x-python",
   "name": "python",
   "nbconvert_exporter": "python",
   "pygments_lexer": "ipython2",
   "version": "2.7.6"
  }
 },
 "nbformat": 4,
 "nbformat_minor": 0
}
