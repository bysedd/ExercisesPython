{
 "cells": [
  {
   "cell_type": "markdown",
   "source": [
    "# Altere o programa de cálculo dos números primos, informando, caso o número não seja primo, por quais número ele é divisível."
   ],
   "metadata": {
    "collapsed": false
   }
  },
  {
   "cell_type": "code",
   "execution_count": 10,
   "outputs": [],
   "source": [
    "n = int(input('Digite um número inteiro'))"
   ],
   "metadata": {
    "collapsed": false
   }
  },
  {
   "cell_type": "code",
   "execution_count": 11,
   "outputs": [],
   "source": [
    "div = list()"
   ],
   "metadata": {
    "collapsed": false
   }
  },
  {
   "cell_type": "code",
   "execution_count": 12,
   "outputs": [],
   "source": [
    "for i in range(n, 0, -1):\n",
    "    if n % i == 0:\n",
    "        div.append(i)"
   ],
   "metadata": {
    "collapsed": false
   }
  },
  {
   "cell_type": "code",
   "execution_count": 16,
   "outputs": [
    {
     "name": "stdout",
     "output_type": "stream",
     "text": [
      "6 não é um número primo!\n",
      "Ele é divisível por: [1, 2, 3, 6]\n"
     ]
    }
   ],
   "source": [
    "if len(div) == 2:\n",
    "    print(f'{n} é um número primo!')\n",
    "else:\n",
    "    print(f'{n} não é um número primo!')\n",
    "    print(f'Ele é divisível por: {sorted(div)}')"
   ],
   "metadata": {
    "collapsed": false
   }
  }
 ],
 "metadata": {
  "kernelspec": {
   "display_name": "Python 3",
   "language": "python",
   "name": "python3"
  },
  "language_info": {
   "codemirror_mode": {
    "name": "ipython",
    "version": 2
   },
   "file_extension": ".py",
   "mimetype": "text/x-python",
   "name": "python",
   "nbconvert_exporter": "python",
   "pygments_lexer": "ipython2",
   "version": "2.7.6"
  }
 },
 "nbformat": 4,
 "nbformat_minor": 0
}
