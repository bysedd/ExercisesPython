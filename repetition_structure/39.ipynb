{
 "cells": [
  {
   "cell_type": "markdown",
   "source": [
    "# Faça um programa que leia dez conjuntos de dois valores, o primeiro representando o número do aluno e o segundo representando a sua altura em centímetros. Encontre o aluno mais alto e o mais baixo. Mostre o número do aluno mais alto e o número do aluno mais baixo, junto com suas alturas."
   ],
   "metadata": {
    "collapsed": false
   }
  },
  {
   "cell_type": "code",
   "execution_count": 18,
   "outputs": [],
   "source": [
    "alunos = [\n",
    "    # {'number': 1, 'height': 180}\n",
    "]"
   ],
   "metadata": {
    "collapsed": false
   }
  },
  {
   "cell_type": "code",
   "execution_count": 19,
   "outputs": [],
   "source": [
    "for a in range(10):\n",
    "    numero: int = int(input(f'Número do {a + 1}º aluno'))\n",
    "    altura: int = int(input(f'Altura do {a + 1}º aluno (cm)'))\n",
    "    alunos.append({'number': numero, 'height': altura})"
   ],
   "metadata": {
    "collapsed": false
   }
  },
  {
   "cell_type": "code",
   "execution_count": 20,
   "outputs": [
    {
     "data": {
      "text/plain": "[{'number': 1, 'height': 157},\n {'number': 2, 'height': 178},\n {'number': 3, 'height': 197}]"
     },
     "execution_count": 20,
     "metadata": {},
     "output_type": "execute_result"
    }
   ],
   "source": [
    "alunos"
   ],
   "metadata": {
    "collapsed": false
   }
  },
  {
   "cell_type": "code",
   "execution_count": 45,
   "outputs": [],
   "source": [
    "alto = max(alunos, key=lambda aluno: aluno['height'])\n",
    "alto = [f\"nº {alto['number']}\", f\"{alto['height']}cm\"]"
   ],
   "metadata": {
    "collapsed": false
   }
  },
  {
   "cell_type": "code",
   "execution_count": 46,
   "outputs": [],
   "source": [
    "baixo = min(alunos, key=lambda aluno: aluno['height'])\n",
    "baixo = [f\"nº {baixo['number']}\", f\"{baixo['height']}cm\"]"
   ],
   "metadata": {
    "collapsed": false
   }
  },
  {
   "cell_type": "code",
   "execution_count": 47,
   "outputs": [
    {
     "name": "stdout",
     "output_type": "stream",
     "text": [
      "Aluno mais alto: ['nº 3', '197cm']\n",
      "Aluno mais baixo: ['nº 1', '157cm']\n"
     ]
    }
   ],
   "source": [
    "print(f'Aluno mais alto: {alto}')\n",
    "print(f'Aluno mais baixo: {baixo}')"
   ],
   "metadata": {
    "collapsed": false
   }
  }
 ],
 "metadata": {
  "kernelspec": {
   "display_name": "Python 3",
   "language": "python",
   "name": "python3"
  },
  "language_info": {
   "codemirror_mode": {
    "name": "ipython",
    "version": 2
   },
   "file_extension": ".py",
   "mimetype": "text/x-python",
   "name": "python",
   "nbconvert_exporter": "python",
   "pygments_lexer": "ipython2",
   "version": "2.7.6"
  }
 },
 "nbformat": 4,
 "nbformat_minor": 0
}
