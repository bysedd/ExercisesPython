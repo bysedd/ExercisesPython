{
 "cells": [
  {
   "cell_type": "markdown",
   "source": [
    "# Uma academia deseja fazer um senso entre seus clientes para descobrir o mais alto, o mais baixo, a mais gordo e o mais magro, para isto você deve fazer um programa que pergunte a cada um dos clientes da academia seu código, sua altura e seu peso. O final da digitação de dados deve ser dada quando o usuário digitar 0 (zero) no campo código. Ao encerrar o programa também deve ser informados os códigos e valores do cliente mais alto, do mais baixo, do mais gordo e do mais magro, além da média das alturas e dos pesos dos clientes"
   ],
   "metadata": {
    "collapsed": false
   }
  },
  {
   "cell_type": "code",
   "execution_count": 51,
   "outputs": [],
   "source": [
    "clientes = [\n",
    "    # {'code': None, 'height': None, 'weight': None}\n",
    "]"
   ],
   "metadata": {
    "collapsed": false
   }
  },
  {
   "cell_type": "code",
   "execution_count": 52,
   "outputs": [],
   "source": [
    "cont = 1"
   ],
   "metadata": {
    "collapsed": false
   }
  },
  {
   "cell_type": "code",
   "execution_count": 53,
   "outputs": [],
   "source": [
    "while True:\n",
    "    codigo = int(input(f'#{cont} - Digite seu código'))\n",
    "    if not codigo:\n",
    "        break\n",
    "\n",
    "    altura = float(input(f'#{cont} - Digite sua altura'))\n",
    "    if not altura:\n",
    "        break\n",
    "\n",
    "    peso = float(input(f'#{cont} - Digite seu peso (Kg)'))\n",
    "    if not peso:\n",
    "        break\n",
    "\n",
    "    clientes.append({\n",
    "    'code': codigo,\n",
    "    'height': altura,\n",
    "    'weight': peso\n",
    "})\n",
    "    cont += 1"
   ],
   "metadata": {
    "collapsed": false
   }
  },
  {
   "cell_type": "code",
   "execution_count": 63,
   "outputs": [],
   "source": [
    "alto = max(clientes, key=lambda cliente: cliente['height'])\n",
    "alto = (f'code: {alto[\"code\"]}', f'altura: {alto[\"height\"]}')"
   ],
   "metadata": {
    "collapsed": false
   }
  },
  {
   "cell_type": "code",
   "execution_count": 64,
   "outputs": [],
   "source": [
    "baixo = min(clientes, key=lambda cliente: cliente['height'])\n",
    "baixo = (f'code: {baixo[\"code\"]}', f'altura: {baixo[\"height\"]}')"
   ],
   "metadata": {
    "collapsed": false
   }
  },
  {
   "cell_type": "code",
   "execution_count": 80,
   "outputs": [],
   "source": [
    "gordo = max(clientes, key=lambda cliente: cliente['weight'])\n",
    "gordo = (f'code: {gordo[\"code\"]}', f'peso: {gordo[\"weight\"]}')"
   ],
   "metadata": {
    "collapsed": false
   }
  },
  {
   "cell_type": "code",
   "execution_count": 66,
   "outputs": [],
   "source": [
    "magro = min(clientes, key=lambda cliente: cliente['weight'])\n",
    "magro = (f'code: {magro[\"code\"]}', f'peso: {magro[\"weight\"]}')"
   ],
   "metadata": {
    "collapsed": false
   }
  },
  {
   "cell_type": "code",
   "execution_count": 126,
   "outputs": [],
   "source": [
    "alturas: list = [dado['height'] for dado in sorted(clientes, key=lambda cliente: cliente['height'])]\n",
    "pesos: list = [dado['weight'] for dado in sorted(clientes, key=lambda cliente: cliente['weight'])]"
   ],
   "metadata": {
    "collapsed": false
   }
  },
  {
   "cell_type": "code",
   "execution_count": 127,
   "outputs": [],
   "source": [
    "media_alturas = round(sum(alturas) / len(alturas), 1)\n",
    "media_pesos = round(sum(pesos) / len(pesos))"
   ],
   "metadata": {
    "collapsed": false
   }
  },
  {
   "cell_type": "code",
   "execution_count": 128,
   "outputs": [
    {
     "name": "stdout",
     "output_type": "stream",
     "text": [
      "Mais alto: ('code: 2', 'altura: 1.92')\n",
      "Mais baixo: ('code: 1', 'altura: 1.8')\n",
      "Mais gordo: ('code: 2', 'peso: 112.0')\n",
      "Mais magro: ('code: 1', 'peso: 66.0')\n",
      "Média das alturas: 1.9m\n",
      "Média dos pesos: 89kg\n"
     ]
    }
   ],
   "source": [
    "print(f'Mais alto: {alto}')\n",
    "print(f'Mais baixo: {baixo}')\n",
    "print(f'Mais gordo: {gordo}')\n",
    "print(f'Mais magro: {magro}')\n",
    "print(f'Média das alturas: {media_alturas}m')\n",
    "print(f'Média dos pesos: {media_pesos}kg')"
   ],
   "metadata": {
    "collapsed": false
   }
  }
 ],
 "metadata": {
  "kernelspec": {
   "display_name": "Python 3",
   "language": "python",
   "name": "python3"
  },
  "language_info": {
   "codemirror_mode": {
    "name": "ipython",
    "version": 2
   },
   "file_extension": ".py",
   "mimetype": "text/x-python",
   "name": "python",
   "nbconvert_exporter": "python",
   "pygments_lexer": "ipython2",
   "version": "2.7.6"
  }
 },
 "nbformat": 4,
 "nbformat_minor": 0
}
