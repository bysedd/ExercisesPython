{
 "cells": [
  {
   "cell_type": "markdown",
   "source": [
    "# Desenvolver um programa para verificar a nota do aluno em uma prova com 10 questões, o programa deve perguntar ao aluno a resposta de cada questão e ao final comparar com o gabarito da prova e assim calcular o total de acertos e a nota (atribuir 1 ponto por resposta certa). Após cada aluno utilizar o sistema deve ser feita uma pergunta se outro aluno vai utilizar o sistema. Após todos os alunos terem respondido informar:\n",
    "    a. Maior e Menor Acerto;\n",
    "    b. Total de Alunos que utilizaram o sistema;\n",
    "    c. A Média das Notas da Turma.\n",
    "\n",
    "    Gabarito da Prova:\n",
    "    01 - A\n",
    "    02 - B\n",
    "    03 - C\n",
    "    04 - D\n",
    "    05 - E\n",
    "    06 - E\n",
    "    07 - D\n",
    "    08 - C\n",
    "    09 - B\n",
    "    10 - A\n",
    "Após concluir isto você poderia incrementar o programa permitindo que o professor digite o gabarito da prova antes dos alunos usarem o programa."
   ],
   "metadata": {
    "collapsed": false
   }
  },
  {
   "cell_type": "raw",
   "source": [
    "Para quê digitar se existe o random 〠"
   ],
   "metadata": {
    "collapsed": false
   }
  },
  {
   "cell_type": "code",
   "execution_count": 170,
   "outputs": [],
   "source": [
    "from random import choice"
   ],
   "metadata": {
    "collapsed": false
   }
  },
  {
   "cell_type": "code",
   "execution_count": 171,
   "outputs": [],
   "source": [
    "def escolha():\n",
    "    \"\"\"\n",
    "    Essa função é para agilizar o código, caso você queira alterar as opções de escolha.\n",
    "\n",
    "    :return: Um valor entre os valores definidos\n",
    "    \"\"\"\n",
    "    return choice(('A', 'B', 'C', 'D'))"
   ],
   "metadata": {
    "collapsed": false
   }
  },
  {
   "cell_type": "code",
   "execution_count": 172,
   "outputs": [],
   "source": [
    "gabarito = {\n",
    "    1: escolha(),\n",
    "    2: escolha(),\n",
    "    3: escolha(),\n",
    "    4: escolha(),\n",
    "    5: escolha(),\n",
    "    6: escolha(),\n",
    "    7: escolha(),\n",
    "    8: escolha(),\n",
    "    9: escolha(),\n",
    "    10: escolha()\n",
    "}"
   ],
   "metadata": {
    "collapsed": false
   }
  },
  {
   "cell_type": "code",
   "execution_count": 173,
   "outputs": [],
   "source": [
    "alunos: list = []"
   ],
   "metadata": {
    "collapsed": false
   }
  },
  {
   "cell_type": "code",
   "execution_count": 174,
   "outputs": [],
   "source": [
    "qtd_alunos = int(input('Quantos alunos irão fazer a prova?'))"
   ],
   "metadata": {
    "collapsed": false
   }
  },
  {
   "cell_type": "code",
   "execution_count": 175,
   "outputs": [],
   "source": [
    "for i in range(qtd_alunos):\n",
    "    nome = input(f'Nome do {i + 1}º aluno:')\n",
    "    alunos.append({'nome': nome, 'respostas': {\n",
    "            1: escolha(),\n",
    "            2: escolha(),\n",
    "            3: escolha(),\n",
    "            4: escolha(),\n",
    "            5: escolha(),\n",
    "            6: escolha(),\n",
    "            7: escolha(),\n",
    "            8: escolha(),\n",
    "            9: escolha(),\n",
    "            10: escolha()\n",
    "        }})"
   ],
   "metadata": {
    "collapsed": false
   }
  },
  {
   "cell_type": "code",
   "execution_count": 176,
   "outputs": [],
   "source": [
    "for aluno in alunos:\n",
    "    acertos = 0\n",
    "    for i in range(1, 11):\n",
    "        if aluno['respostas'][i] == gabarito[i]:\n",
    "            acertos += 1\n",
    "    aluno['acertos'] = acertos\n",
    "    aluno['nota'] = acertos"
   ],
   "metadata": {
    "collapsed": false
   }
  },
  {
   "cell_type": "raw",
   "source": [
    "A quantidade de acertos é igual a pontuação do aluno."
   ],
   "metadata": {
    "collapsed": false
   }
  },
  {
   "cell_type": "code",
   "execution_count": 177,
   "outputs": [],
   "source": [
    "mais_acertos = max(alunos, key=lambda a: a['acertos'])\n",
    "mais_acertos = (mais_acertos['nome'], mais_acertos['acertos'])"
   ],
   "metadata": {
    "collapsed": false
   }
  },
  {
   "cell_type": "code",
   "execution_count": 178,
   "outputs": [],
   "source": [
    "menos_acertos = min(alunos, key=lambda a: a['acertos'])\n",
    "menos_acertos = (menos_acertos['nome'], menos_acertos['acertos'])"
   ],
   "metadata": {
    "collapsed": false
   }
  },
  {
   "cell_type": "code",
   "execution_count": 179,
   "outputs": [],
   "source": [
    "total_alunos = len(alunos)"
   ],
   "metadata": {
    "collapsed": false
   }
  },
  {
   "cell_type": "code",
   "execution_count": 180,
   "outputs": [],
   "source": [
    "total_acertos_turma = sum([aluno['acertos'] for aluno in alunos])"
   ],
   "metadata": {
    "collapsed": false
   }
  },
  {
   "cell_type": "code",
   "execution_count": 181,
   "outputs": [],
   "source": [
    "media_turma = round(total_acertos_turma / total_alunos, 1)"
   ],
   "metadata": {
    "collapsed": false
   }
  },
  {
   "cell_type": "code",
   "execution_count": 182,
   "outputs": [
    {
     "name": "stdout",
     "output_type": "stream",
     "text": [
      "Maior acerto: ('Duda', 6)\n",
      "Total de alunos que utilizaram o sistema: 4\n",
      "Média de notas da turma: 3.0\n"
     ]
    }
   ],
   "source": [
    "print(f'Maior acerto: {mais_acertos}')\n",
    "print(f'Total de alunos que utilizaram o sistema: {total_alunos}')\n",
    "print(f'Média de notas da turma: {media_turma}')"
   ],
   "metadata": {
    "collapsed": false
   }
  }
 ],
 "metadata": {
  "kernelspec": {
   "display_name": "Python 3",
   "language": "python",
   "name": "python3"
  },
  "language_info": {
   "codemirror_mode": {
    "name": "ipython",
    "version": 2
   },
   "file_extension": ".py",
   "mimetype": "text/x-python",
   "name": "python",
   "nbconvert_exporter": "python",
   "pygments_lexer": "ipython2",
   "version": "2.7.6"
  }
 },
 "nbformat": 4,
 "nbformat_minor": 0
}
