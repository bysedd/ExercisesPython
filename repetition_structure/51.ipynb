{
 "cells": [
  {
   "cell_type": "markdown",
   "source": [
    "# Faça um programa que mostre os 'n' termos da Série a seguir:\n",
    "    S = 1/1 + 2/3 + 3/5 + 4/7 + 5/9 + ... + n/m.\n",
    "Imprima no final a soma da série."
   ],
   "metadata": {
    "collapsed": false
   }
  },
  {
   "cell_type": "code",
   "execution_count": 16,
   "metadata": {
    "collapsed": true
   },
   "outputs": [],
   "source": [
    "n = int(input('Digite um inteiro positivo:'))\n",
    "h = 2\n",
    "calc = [1]\n",
    "p = 'S = 1 + '"
   ]
  },
  {
   "cell_type": "code",
   "execution_count": 17,
   "outputs": [],
   "source": [
    "for i in range(1, n + 1):\n",
    "    p += f'{i}/{h} + '\n",
    "    calc.append(i / h)\n",
    "    h += 1"
   ],
   "metadata": {
    "collapsed": false
   }
  },
  {
   "cell_type": "code",
   "execution_count": 21,
   "outputs": [
    {
     "name": "stdout",
     "output_type": "stream",
     "text": [
      "S = 1 + 1/2 + 2/3 + 3/4 + 4/5 + 5/6 + 6/7 + 7/8 + 8/9 + 9/10 + 10/11 + 11/12 + 12/13 + 13/14 = \u001B[32m11.7484\u001B[m\n"
     ]
    }
   ],
   "source": [
    "print(f'{p[:len(p) - 3]} = \\033[32m{round(sum(calc), 4)}\\033[m')"
   ],
   "metadata": {
    "collapsed": false
   }
  }
 ],
 "metadata": {
  "kernelspec": {
   "display_name": "Python 3",
   "language": "python",
   "name": "python3"
  },
  "language_info": {
   "codemirror_mode": {
    "name": "ipython",
    "version": 2
   },
   "file_extension": ".py",
   "mimetype": "text/x-python",
   "name": "python",
   "nbconvert_exporter": "python",
   "pygments_lexer": "ipython2",
   "version": "2.7.6"
  }
 },
 "nbformat": 4,
 "nbformat_minor": 0
}
