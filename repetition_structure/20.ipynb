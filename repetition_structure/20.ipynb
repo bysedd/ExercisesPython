{
 "cells": [
  {
   "cell_type": "markdown",
   "source": [
    "# Altere o programa de cálculo do fatorial, permitindo ao usuário calcular o fatorial várias vezes e limitando o fatorial a números inteiros positivos e menores que 16."
   ],
   "metadata": {
    "collapsed": false
   }
  },
  {
   "cell_type": "code",
   "execution_count": 30,
   "outputs": [],
   "source": [
    "qtd = int(input('Quantos números irá digitar?'))"
   ],
   "metadata": {
    "collapsed": false
   }
  },
  {
   "cell_type": "code",
   "execution_count": 31,
   "outputs": [],
   "source": [
    "i = 0\n",
    "numeros = list()"
   ],
   "metadata": {
    "collapsed": false
   }
  },
  {
   "cell_type": "code",
   "execution_count": 32,
   "outputs": [],
   "source": [
    "while i < qtd:\n",
    "    v = int(input(f'{i + 1}º número inteiro positivo e menor que 16'))\n",
    "    if 0 < v < 16:\n",
    "        numeros.append(v)\n",
    "        i += 1"
   ],
   "metadata": {
    "collapsed": false
   }
  },
  {
   "cell_type": "code",
   "execution_count": 33,
   "outputs": [
    {
     "name": "stdout",
     "output_type": "stream",
     "text": [
      "1!=1=1\n",
      "6!=6.5.4.3.2.1=720\n",
      "9!=9.8.7.6.5.4.3.2.1=362880\n",
      "15!=15.14.13.12.11.10.9.8.7.6.5.4.3.2.1=1307674368000\n",
      "11!=11.10.9.8.7.6.5.4.3.2.1=39916800\n"
     ]
    }
   ],
   "source": [
    "for n in numeros:\n",
    "    res = 1\n",
    "    p = f'{n}!='\n",
    "    for i in range(n, 0, -1):\n",
    "        p += f'{i}.'\n",
    "        res *= i\n",
    "    print(f'{p[:len(p) - 1]}={res}')"
   ],
   "metadata": {
    "collapsed": false
   }
  }
 ],
 "metadata": {
  "kernelspec": {
   "display_name": "Python 3",
   "language": "python",
   "name": "python3"
  },
  "language_info": {
   "codemirror_mode": {
    "name": "ipython",
    "version": 2
   },
   "file_extension": ".py",
   "mimetype": "text/x-python",
   "name": "python",
   "nbconvert_exporter": "python",
   "pygments_lexer": "ipython2",
   "version": "2.7.6"
  }
 },
 "nbformat": 4,
 "nbformat_minor": 0
}
