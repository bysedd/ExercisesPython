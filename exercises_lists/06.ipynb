{
 "cells": [
  {
   "cell_type": "markdown",
   "source": [
    "# Faça um Programa que peça às quatro notas de 10 alunos, calcule e armazene num vetor a média de cada aluno, imprima o número de alunos com média maior ou igual a 7.0"
   ],
   "metadata": {
    "collapsed": false
   }
  },
  {
   "cell_type": "code",
   "execution_count": 102,
   "outputs": [],
   "source": [
    "from random import randint as r"
   ],
   "metadata": {
    "collapsed": false
   }
  },
  {
   "cell_type": "code",
   "execution_count": 103,
   "outputs": [],
   "source": [
    "alunos = [\n",
    "    # {'aluno': 1, 'notas': []}\n",
    "    # {'aluno': i, 'notas': [r(0, 10), r(0, 10), r(0, 10), r(0, 10)]} for i in range(10)\n",
    "]"
   ],
   "metadata": {
    "collapsed": false
   }
  },
  {
   "cell_type": "code",
   "execution_count": 119,
   "outputs": [],
   "source": [
    "for _ in range(10):\n",
    "    notas = [r(0, 10), r(0, 10), r(0, 10), r(0, 10)]\n",
    "    media = round(sum(notas) / 4, 1)\n",
    "    alunos.append({'notas': notas, 'media': media})"
   ],
   "metadata": {
    "collapsed": false
   }
  },
  {
   "cell_type": "code",
   "execution_count": 120,
   "outputs": [],
   "source": [
    "media_maior = [aluno['media'] for aluno in alunos if aluno['media'] > 7.]"
   ],
   "metadata": {
    "collapsed": false
   }
  },
  {
   "cell_type": "code",
   "execution_count": 121,
   "outputs": [
    {
     "name": "stdout",
     "output_type": "stream",
     "text": [
      "Número de alunos com média maior ou igual a 7.0: \u001B[4m13\u001B[m\n"
     ]
    }
   ],
   "source": [
    "print(f'Número de alunos com média maior ou igual a 7.0: \\033[4m{len(media_maior)}\\033[m')"
   ],
   "metadata": {
    "collapsed": false
   }
  }
 ],
 "metadata": {
  "kernelspec": {
   "display_name": "Python 3",
   "language": "python",
   "name": "python3"
  },
  "language_info": {
   "codemirror_mode": {
    "name": "ipython",
    "version": 2
   },
   "file_extension": ".py",
   "mimetype": "text/x-python",
   "name": "python",
   "nbconvert_exporter": "python",
   "pygments_lexer": "ipython2",
   "version": "2.7.6"
  }
 },
 "nbformat": 4,
 "nbformat_minor": 0
}
