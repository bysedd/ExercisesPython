{
 "cells": [
  {
   "cell_type": "markdown",
   "source": [
    "# Faça um Programa que leia 20 números inteiros e armazene-os num vetor. Armazene os números pares no vetor PAR e os números IMPARES no vetor impar. Imprima os três vetores."
   ],
   "metadata": {
    "collapsed": false
   }
  },
  {
   "cell_type": "code",
   "execution_count": 136,
   "outputs": [],
   "source": [
    "from random import randint"
   ],
   "metadata": {
    "collapsed": false
   }
  },
  {
   "cell_type": "code",
   "execution_count": 137,
   "outputs": [],
   "source": [
    "numeros = [randint(0, 9) for _ in range(20)]\n",
    "pares = [n for n in numeros if not n % 2]\n",
    "impares = [n for n in numeros if n % 2]"
   ],
   "metadata": {
    "collapsed": false
   }
  },
  {
   "cell_type": "code",
   "execution_count": 138,
   "outputs": [
    {
     "name": "stdout",
     "output_type": "stream",
     "text": [
      "Números: [2, 1, 1, 9, 5, 5, 7, 5, 4, 5, 6, 3, 6, 9, 2, 2, 2, 8, 1, 8]\n",
      "Pares:   [2, 4, 6, 6, 2, 2, 2, 8, 8]\n",
      "Ímpares: [1, 1, 9, 5, 5, 7, 5, 5, 3, 9, 1]\n"
     ]
    }
   ],
   "source": [
    "print(f'Números: {numeros}')\n",
    "print(f'Pares:   {pares}')\n",
    "print(f'Ímpares: {impares}')"
   ],
   "metadata": {
    "collapsed": false
   }
  }
 ],
 "metadata": {
  "kernelspec": {
   "display_name": "Python 3",
   "language": "python",
   "name": "python3"
  },
  "language_info": {
   "codemirror_mode": {
    "name": "ipython",
    "version": 2
   },
   "file_extension": ".py",
   "mimetype": "text/x-python",
   "name": "python",
   "nbconvert_exporter": "python",
   "pygments_lexer": "ipython2",
   "version": "2.7.6"
  }
 },
 "nbformat": 4,
 "nbformat_minor": 0
}
