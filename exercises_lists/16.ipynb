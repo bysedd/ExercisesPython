{
 "cells": [
  {
   "cell_type": "markdown",
   "metadata": {
    "collapsed": false
   },
   "source": [
    "### Utilize uma lista para resolver o problema a seguir. Uma empresa paga seus vendedores com base em comissões. O vendedor recebe $200 por semana mais 9 por cento de suas vendas brutas daquela semana. Por exemplo, um vendedor que teve vendas brutas de $3000 em uma semana recebe $200 mais 9 por cento de $3000, ou seja, um total de $470. Escreva um programa (usando um array de contadores) que determine quantos vendedores receberam salários nos seguintes intervalos de valores:\n",
    "    $200 - $299\n",
    "    $300 - $399\n",
    "    $400 - $499\n",
    "    $500 - $599\n",
    "    $600 - $699\n",
    "    $700 - $799\n",
    "    $800 - $899\n",
    "    $900 - $999\n",
    "    $1000 em diante\n",
    "Desafio: Crie uma fórmula para chegar na posição da lista a partir do salário, sem fazer vários ifs aninhados."
   ]
  },
  {
   "cell_type": "code",
   "execution_count": 151,
   "metadata": {
    "collapsed": false
   },
   "outputs": [],
   "source": [
    "from random import randint"
   ]
  },
  {
   "cell_type": "code",
   "execution_count": 152,
   "metadata": {
    "collapsed": false
   },
   "outputs": [],
   "source": [
    "lista = [\n",
    "    {i + 1: f'vendedor {i + 1}', 'salario': randint(0, 3000)} for i in range(randint(50, 100))\n",
    "]"
   ]
  },
  {
   "cell_type": "code",
   "execution_count": 153,
   "metadata": {},
   "outputs": [],
   "source": [
    "intervalos = [\n",
    "    {'intervalo': (200, 299), 'contador': 0},\n",
    "    {'intervalo': (300, 399), 'contador': 0},\n",
    "    {'intervalo': (400, 499), 'contador': 0},\n",
    "    {'intervalo': (500, 599), 'contador': 0},\n",
    "    {'intervalo': (600, 699), 'contador': 0},\n",
    "    {'intervalo': (700, 799), 'contador': 0},\n",
    "    {'intervalo': (800, 899), 'contador': 0},\n",
    "    {'intervalo': (900, 999), 'contador': 0},\n",
    "    {'intervalo': '1000+', 'contador': 0},\n",
    "]"
   ]
  },
  {
   "cell_type": "code",
   "execution_count": 154,
   "metadata": {},
   "outputs": [],
   "source": [
    "for vendedor in lista:\n",
    "    vendedor['salario'] = round(vendedor['salario'] + 200 + vendedor['salario'] * 0.09, 2)\n",
    "    salario = vendedor['salario']\n",
    "    if salario <= 299:\n",
    "        intervalos[0]['contador'] += 1\n",
    "    elif salario <= 399:\n",
    "        intervalos[1]['contador'] += 1\n",
    "    elif salario <= 499:\n",
    "        intervalos[2]['contador'] += 1\n",
    "    elif salario <= 599:\n",
    "        intervalos[3]['contador'] += 1\n",
    "    elif salario <= 699:\n",
    "        intervalos[4]['contador'] += 1\n",
    "    elif salario <= 799:\n",
    "        intervalos[5]['contador'] += 1\n",
    "    elif salario <= 899:\n",
    "        intervalos[6]['contador'] += 1\n",
    "    elif salario <= 999:\n",
    "        intervalos[7]['contador'] += 1\n",
    "    else:\n",
    "        intervalos[8]['contador'] += 1\n"
   ]
  },
  {
   "cell_type": "code",
   "execution_count": 155,
   "metadata": {},
   "outputs": [
    {
     "name": "stdout",
     "output_type": "stream",
     "text": [
      "2   (200, 299)\n",
      "2   (300, 399)\n",
      "1   (400, 499)\n",
      "1   (500, 599)\n",
      "1   (600, 699)\n",
      "3   (700, 799)\n",
      "1   (800, 899)\n",
      "0   (900, 999)\n",
      "61  1000+\n"
     ]
    }
   ],
   "source": [
    "for intervalo in intervalos:\n",
    "    print(f'{intervalo[\"contador\"]:<4}{intervalo[\"intervalo\"]}')"
   ]
  }
 ],
 "metadata": {
  "kernelspec": {
   "display_name": "Python 3.10.6 64-bit",
   "language": "python",
   "name": "python3"
  },
  "language_info": {
   "codemirror_mode": {
    "name": "ipython",
    "version": 3
   },
   "file_extension": ".py",
   "mimetype": "text/x-python",
   "name": "python",
   "nbconvert_exporter": "python",
   "pygments_lexer": "ipython3",
   "version": "3.10.6"
  },
  "vscode": {
   "interpreter": {
    "hash": "cd2599c6b68dedd60ea320e66b986a2dd5fb60e916295c3598e8006f9d0aa287"
   }
  }
 },
 "nbformat": 4,
 "nbformat_minor": 0
}
