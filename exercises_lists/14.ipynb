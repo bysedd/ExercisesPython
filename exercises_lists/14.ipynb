{
 "cells": [
  {
   "cell_type": "markdown",
   "source": [
    "# Utilizando listas faça um programa que faça 5 perguntas para uma pessoa sobre um crime. As perguntas são:\n",
    "    \"Telefonou para a vítima?\"\n",
    "    \"Esteve no local do crime?\"\n",
    "    \"Mora perto da vítima?\"\n",
    "    \"Devia para a vítima?\"\n",
    "    \"Já trabalhou com a vítima?\"\n",
    "# O programa deve no final emitir uma classificação sobre a participação da pessoa no crime. Se a pessoa responder positivamente a 2 questões ela deve ser classificada como \"Suspeita\", entre 3 e 4 como \"Cúmplice\" e 5 como \"Assassino\". Caso contrário, ele será classificado como \"Inocente\"."
   ],
   "metadata": {
    "collapsed": false
   }
  },
  {
   "cell_type": "code",
   "execution_count": 238,
   "outputs": [],
   "source": [
    "from random import choice as resp"
   ],
   "metadata": {
    "collapsed": false
   }
  },
  {
   "cell_type": "code",
   "execution_count": 239,
   "outputs": [],
   "source": [
    "suspeito = [\n",
    "    {'pergunta': 'Telefonou para a vítima?', 'resposta': resp((True, False))},\n",
    "    {'pergunta': 'Esteve no local do crime?', 'resposta': resp((True, False))},\n",
    "    {'pergunta': 'Mora perto da vítima?', 'resposta': resp((True, False))},\n",
    "    {'pergunta': 'Devia para a vítima?', 'resposta': resp((True, False))},\n",
    "    {'pergunta': 'Já trabalhou com a vítima?', 'resposta': resp((True, False))},\n",
    "]"
   ],
   "metadata": {
    "collapsed": false
   }
  },
  {
   "cell_type": "code",
   "execution_count": 240,
   "outputs": [],
   "source": [
    "contagem = len([pergunta for pergunta in suspeito if pergunta['resposta']])"
   ],
   "metadata": {
    "collapsed": false
   }
  },
  {
   "cell_type": "code",
   "execution_count": 241,
   "outputs": [
    {
     "name": "stdout",
     "output_type": "stream",
     "text": [
      "Foram respondidas 1 perguntas positivamente, logo você é inocente\n"
     ]
    }
   ],
   "source": [
    "print(f'Foram respondidas {contagem} perguntas positivamente, logo você é ', end='')\n",
    "if contagem == 2:\n",
    "    print('suspeito')\n",
    "elif 2 < contagem <= 4:\n",
    "    print('cúmplice')\n",
    "elif contagem == 5:\n",
    "    print('assassino')\n",
    "else:\n",
    "    print('inocente')"
   ],
   "metadata": {
    "collapsed": false
   }
  }
 ],
 "metadata": {
  "kernelspec": {
   "display_name": "Python 3",
   "language": "python",
   "name": "python3"
  },
  "language_info": {
   "codemirror_mode": {
    "name": "ipython",
    "version": 2
   },
   "file_extension": ".py",
   "mimetype": "text/x-python",
   "name": "python",
   "nbconvert_exporter": "python",
   "pygments_lexer": "ipython2",
   "version": "2.7.6"
  }
 },
 "nbformat": 4,
 "nbformat_minor": 0
}
