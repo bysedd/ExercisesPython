{
 "cells": [
  {
   "cell_type": "markdown",
   "source": [
    "# Faça um programa que receba a temperatura média de cada mês do ano e armazene-as em uma lista. Após isto, calcule a média anual das temperaturas e mostre todas as temperaturas acima da média anual, e em que mês elas ocorreram (mostrar o mês por extenso: 1 – Janeiro, 2 – Fevereiro, . . . )."
   ],
   "metadata": {
    "collapsed": false
   }
  },
  {
   "cell_type": "code",
   "execution_count": 76,
   "outputs": [],
   "source": [
    "from random import randint"
   ],
   "metadata": {
    "collapsed": false
   }
  },
  {
   "cell_type": "code",
   "execution_count": 77,
   "outputs": [],
   "source": [
    "ano = (\n",
    "    {'nome': 'Janeiro', 'temperatura media': randint(10, 30)},\n",
    "    {'nome': 'Fevereiro', 'temperatura media': randint(10, 30)},\n",
    "    {'nome': 'Março', 'temperatura media': randint(10, 30)},\n",
    "    {'nome': 'Abril', 'temperatura media': randint(10, 30)},\n",
    "    {'nome': 'Maio', 'temperatura media': randint(10, 30)},\n",
    "    {'nome': 'Junho', 'temperatura media': randint(10, 30)},\n",
    "    {'nome': 'Julho', 'temperatura media': randint(10, 30)},\n",
    "    {'nome': 'Agosto', 'temperatura media': randint(10, 30)},\n",
    "    {'nome': 'Setembro', 'temperatura media': randint(10, 30)},\n",
    "    {'nome': 'Outubro', 'temperatura media': randint(10, 30)},\n",
    "    {'nome': 'Novembro', 'temperatura media': randint(10, 30)},\n",
    "    {'nome': 'Dezembro', 'temperatura media': randint(10, 30)},\n",
    ")"
   ],
   "metadata": {
    "collapsed": false
   }
  },
  {
   "cell_type": "code",
   "execution_count": 78,
   "outputs": [],
   "source": [
    "mat = round(sum([mes['temperatura media'] for mes in ano]) / 12)  # média anual das temperaturas"
   ],
   "metadata": {
    "collapsed": false
   }
  },
  {
   "cell_type": "code",
   "execution_count": 79,
   "outputs": [],
   "source": [
    "mama = [mes['nome'] for mes in ano if mes['temperatura media'] > mat]"
   ],
   "metadata": {
    "collapsed": false
   }
  },
  {
   "cell_type": "code",
   "execution_count": 80,
   "outputs": [
    {
     "name": "stdout",
     "output_type": "stream",
     "text": [
      "Meses acima da média anual: ['Fevereiro', 'Março', 'Maio', 'Outubro', 'Novembro', 'Dezembro']\n"
     ]
    }
   ],
   "source": [
    "print(f'Meses acima da média anual: {mama}')"
   ],
   "metadata": {
    "collapsed": false
   }
  }
 ],
 "metadata": {
  "kernelspec": {
   "display_name": "Python 3",
   "language": "python",
   "name": "python3"
  },
  "language_info": {
   "codemirror_mode": {
    "name": "ipython",
    "version": 2
   },
   "file_extension": ".py",
   "mimetype": "text/x-python",
   "name": "python",
   "nbconvert_exporter": "python",
   "pygments_lexer": "ipython2",
   "version": "2.7.6"
  }
 },
 "nbformat": 4,
 "nbformat_minor": 0
}
