{
 "cells": [
  {
   "cell_type": "markdown",
   "source": [
    "# Altere o programa anterior, intercalando 3 vetores de 10 elementos cada."
   ],
   "metadata": {
    "collapsed": false
   }
  },
  {
   "cell_type": "code",
   "execution_count": 1,
   "outputs": [],
   "source": [
    "from random import randint\n",
    "import numpy as np"
   ],
   "metadata": {
    "collapsed": false
   }
  },
  {
   "cell_type": "code",
   "execution_count": 2,
   "outputs": [],
   "source": [
    "a = np.array([randint(0, 9) for _ in range(10)])\n",
    "b = np.array([randint(0, 9) for _ in range(10)])\n",
    "c = np.array([randint(0, 9) for _ in range(10)])\n",
    "d = np.array([a, b, c])"
   ],
   "metadata": {
    "collapsed": false
   }
  },
  {
   "cell_type": "code",
   "execution_count": 3,
   "outputs": [
    {
     "name": "stdout",
     "output_type": "stream",
     "text": [
      "[0 2 7 2 5 9 6 4 8 9]\n",
      "[2 3 4 1 2 1 3 8 4 8]\n",
      "[6 3 4 6 8 3 7 3 5 5]\n"
     ]
    }
   ],
   "source": [
    "print(a)\n",
    "print(b)\n",
    "print(c)"
   ],
   "metadata": {
    "collapsed": false
   }
  },
  {
   "cell_type": "code",
   "execution_count": 4,
   "outputs": [
    {
     "name": "stdout",
     "output_type": "stream",
     "text": [
      "[[0 2 6]\n",
      " [2 3 3]\n",
      " [7 4 4]\n",
      " [2 1 6]\n",
      " [5 2 8]\n",
      " [9 1 3]\n",
      " [6 3 7]\n",
      " [4 8 3]\n",
      " [8 4 5]\n",
      " [9 8 5]]\n"
     ]
    }
   ],
   "source": [
    "print(d.T)"
   ],
   "metadata": {
    "collapsed": false
   }
  }
 ],
 "metadata": {
  "kernelspec": {
   "display_name": "Python 3",
   "language": "python",
   "name": "python3"
  },
  "language_info": {
   "codemirror_mode": {
    "name": "ipython",
    "version": 2
   },
   "file_extension": ".py",
   "mimetype": "text/x-python",
   "name": "python",
   "nbconvert_exporter": "python",
   "pygments_lexer": "ipython2",
   "version": "2.7.6"
  }
 },
 "nbformat": 4,
 "nbformat_minor": 0
}
