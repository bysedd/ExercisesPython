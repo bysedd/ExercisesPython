{
 "cells": [
  {
   "cell_type": "markdown",
   "source": [
    "# O Sr. Manoel Joaquim acaba de adquirir uma panificadora e pretende implantar a metodologia da tabelinha, que já é um sucesso na sua loja de 1,99. Você foi contratado para desenvolver o programa que monta a tabela de preços de pães, de 1 até 50 pães, a partir do preço do pão informado pelo usuário, conforme o exemplo abaixo:\n",
    "    Preço do pão: RS 0.18\n",
    "    Panificadora Pão de Ontem - Tabela de preços\n",
    "    1 - RS 0.18\n",
    "    2 - RS 0.36\n",
    "    ...\n",
    "    50 - RS 9.00"
   ],
   "metadata": {
    "collapsed": false
   }
  },
  {
   "cell_type": "code",
   "execution_count": 13,
   "outputs": [],
   "source": [
    "price = float(input('Qual é o preço do pão?'))"
   ],
   "metadata": {
    "collapsed": false
   }
  },
  {
   "cell_type": "code",
   "execution_count": 14,
   "outputs": [
    {
     "name": "stdout",
     "output_type": "stream",
     "text": [
      "Preço do pão: R$ 0.70\n",
      "Panificadora Pão de Ontem — Tabela de preços\n",
      "1 - R$ 0.70\n",
      "2 - R$ 1.40\n",
      "3 - R$ 2.10\n",
      "4 - R$ 2.80\n",
      "5 - R$ 3.50\n",
      "6 - R$ 4.20\n",
      "7 - R$ 4.90\n",
      "8 - R$ 5.60\n",
      "9 - R$ 6.30\n",
      "10 - R$ 7.00\n",
      "11 - R$ 7.70\n",
      "12 - R$ 8.40\n",
      "13 - R$ 9.10\n",
      "14 - R$ 9.80\n",
      "15 - R$ 10.50\n",
      "16 - R$ 11.20\n",
      "17 - R$ 11.90\n",
      "18 - R$ 12.60\n",
      "19 - R$ 13.30\n",
      "20 - R$ 14.00\n",
      "21 - R$ 14.70\n",
      "22 - R$ 15.40\n",
      "23 - R$ 16.10\n",
      "24 - R$ 16.80\n",
      "25 - R$ 17.50\n",
      "26 - R$ 18.20\n",
      "27 - R$ 18.90\n",
      "28 - R$ 19.60\n",
      "29 - R$ 20.30\n",
      "30 - R$ 21.00\n",
      "31 - R$ 21.70\n",
      "32 - R$ 22.40\n",
      "33 - R$ 23.10\n",
      "34 - R$ 23.80\n",
      "35 - R$ 24.50\n",
      "36 - R$ 25.20\n",
      "37 - R$ 25.90\n",
      "38 - R$ 26.60\n",
      "39 - R$ 27.30\n",
      "40 - R$ 28.00\n",
      "41 - R$ 28.70\n",
      "42 - R$ 29.40\n",
      "43 - R$ 30.10\n",
      "44 - R$ 30.80\n",
      "45 - R$ 31.50\n",
      "46 - R$ 32.20\n",
      "47 - R$ 32.90\n",
      "48 - R$ 33.60\n",
      "49 - R$ 34.30\n",
      "50 - R$ 35.00\n"
     ]
    }
   ],
   "source": [
    "print(f'Preço do pão: R$ {price:.2f}')\n",
    "print('Panificadora Pão de Ontem — Tabela de preços')\n",
    "\n",
    "for i in range(50):\n",
    "    print(f'{i + 1} - R$ {(price * (i + 1)):.2f}')"
   ],
   "metadata": {
    "collapsed": false
   }
  }
 ],
 "metadata": {
  "kernelspec": {
   "display_name": "Python 3",
   "language": "python",
   "name": "python3"
  },
  "language_info": {
   "codemirror_mode": {
    "name": "ipython",
    "version": 2
   },
   "file_extension": ".py",
   "mimetype": "text/x-python",
   "name": "python",
   "nbconvert_exporter": "python",
   "pygments_lexer": "ipython2",
   "version": "2.7.6"
  }
 },
 "nbformat": 4,
 "nbformat_minor": 0
}
