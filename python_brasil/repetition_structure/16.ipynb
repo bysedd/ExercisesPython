{
 "cells": [
  {
   "cell_type": "markdown",
   "source": [
    "# A série de Fibonacci é formada pela sequência 0,1,1,2,3,5,8,13,21,34,55,... Faça um programa que gere a série até que o valor seja maior que 500."
   ],
   "metadata": {
    "collapsed": false
   }
  },
  {
   "cell_type": "code",
   "execution_count": 48,
   "outputs": [],
   "source": [
    "lista: list = [0, 1, 1]"
   ],
   "metadata": {
    "collapsed": false
   }
  },
  {
   "cell_type": "code",
   "execution_count": 49,
   "outputs": [],
   "source": [
    "i: int = 3\n",
    "v: int = 0"
   ],
   "metadata": {
    "collapsed": false
   }
  },
  {
   "cell_type": "code",
   "execution_count": 50,
   "outputs": [],
   "source": [
    "while v < 500:\n",
    "    v = lista[len(lista) - 2] + lista[len(lista) - 1]\n",
    "    lista.append(v)"
   ],
   "metadata": {
    "collapsed": false
   }
  },
  {
   "cell_type": "code",
   "execution_count": 51,
   "outputs": [
    {
     "name": "stdout",
     "output_type": "stream",
     "text": [
      "1º termo: 0\n",
      "2º termo: 1\n",
      "3º termo: 1\n",
      "4º termo: 2\n",
      "5º termo: 3\n",
      "6º termo: 5\n",
      "7º termo: 8\n",
      "8º termo: 13\n",
      "9º termo: 21\n",
      "10º termo: 34\n",
      "11º termo: 55\n",
      "12º termo: 89\n",
      "13º termo: 144\n",
      "14º termo: 233\n",
      "15º termo: 377\n",
      "16º termo: 610\n"
     ]
    }
   ],
   "source": [
    "for i, n in enumerate(lista):\n",
    "    print(f'{i + 1}º termo: {n}')"
   ],
   "metadata": {
    "collapsed": false
   }
  }
 ],
 "metadata": {
  "kernelspec": {
   "display_name": "Python 3",
   "language": "python",
   "name": "python3"
  },
  "language_info": {
   "codemirror_mode": {
    "name": "ipython",
    "version": 2
   },
   "file_extension": ".py",
   "mimetype": "text/x-python",
   "name": "python",
   "nbconvert_exporter": "python",
   "pygments_lexer": "ipython2",
   "version": "2.7.6"
  }
 },
 "nbformat": 4,
 "nbformat_minor": 0
}
