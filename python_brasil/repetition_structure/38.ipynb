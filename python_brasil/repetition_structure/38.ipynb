{
 "cells": [
  {
   "cell_type": "markdown",
   "source": [
    "# Um funcionário de uma empresa recebe aumento salarial anualmente: Sabe-se que:\n",
    "    a. Esse funcionário foi contratado em 1995, com salário inicial de R$ 1.000,00;\n",
    "    b. Em 1996 recebeu aumento de 1,5% sobre seu salário inicial;\n",
    "    c. A partir de 1997 (inclusive), os aumentos salariais sempre correspondem ao dobro do percentual do ano anterior. Faça um programa que\n",
    "       determine o salário atual desse funcionário. Após concluir isto, altere o programa permitindo que o usuário digite o salário inicial do funcionário."
   ],
   "metadata": {
    "collapsed": false
   }
  },
  {
   "cell_type": "code",
   "execution_count": 19,
   "outputs": [],
   "source": [
    "from datetime import date"
   ],
   "metadata": {
    "collapsed": false
   }
  },
  {
   "cell_type": "code",
   "execution_count": 20,
   "outputs": [],
   "source": [
    "salario: float = float(input('Digite o salário inicial: $'))"
   ],
   "metadata": {
    "collapsed": false
   }
  },
  {
   "cell_type": "code",
   "execution_count": 21,
   "outputs": [],
   "source": [
    "ano: int = 1995\n",
    "aumento: float = 0\n",
    "ano_atual: int = date.today().year"
   ],
   "metadata": {
    "collapsed": false
   }
  },
  {
   "cell_type": "code",
   "execution_count": 22,
   "outputs": [
    {
     "name": "stdout",
     "output_type": "stream",
     "text": [
      "$200.00 | 1995\n",
      "$203.00 | 1996\n",
      "$206.00 | 1997\n",
      "$212.00 | 1998\n",
      "$224.00 | 1999\n",
      "$248.00 | 2000\n",
      "$296.00 | 2001\n",
      "$392.00 | 2002\n",
      "$584.00 | 2003\n",
      "$968.00 | 2004\n",
      "$1736.00 | 2005\n",
      "$3272.00 | 2006\n",
      "$6344.00 | 2007\n",
      "$12488.00 | 2008\n",
      "$24776.00 | 2009\n",
      "$49352.00 | 2010\n",
      "$98504.00 | 2011\n",
      "$196808.00 | 2012\n",
      "$393416.00 | 2013\n",
      "$786632.00 | 2014\n",
      "$1573064.00 | 2015\n",
      "$3145928.00 | 2016\n",
      "$6291656.00 | 2017\n",
      "$12583112.00 | 2018\n",
      "$25166024.00 | 2019\n",
      "$50331848.00 | 2020\n",
      "$100663496.00 | 2021\n",
      "$201326792.00 | 2022\n"
     ]
    }
   ],
   "source": [
    "for ano in range(ano, ano_atual + 1):\n",
    "    if ano == 1996:\n",
    "        aumento = 0.015\n",
    "    elif ano >= 1997:\n",
    "        aumento *= 2\n",
    "    print(f'${(salario + salario * aumento):.2f} | {ano}')"
   ],
   "metadata": {
    "collapsed": false
   }
  }
 ],
 "metadata": {
  "kernelspec": {
   "display_name": "Python 3",
   "language": "python",
   "name": "python3"
  },
  "language_info": {
   "codemirror_mode": {
    "name": "ipython",
    "version": 2
   },
   "file_extension": ".py",
   "mimetype": "text/x-python",
   "name": "python",
   "nbconvert_exporter": "python",
   "pygments_lexer": "ipython2",
   "version": "2.7.6"
  }
 },
 "nbformat": 4,
 "nbformat_minor": 0
}
