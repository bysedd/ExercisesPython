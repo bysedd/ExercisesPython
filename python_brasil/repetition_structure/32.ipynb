{
 "cells": [
  {
   "cell_type": "markdown",
   "source": [
    "# Faça um programa que calcule o fatorial de um número inteiro fornecido pelo usuário. Ex.: 5!=5.4.3.2.1=120. A saída deve ser conforme o exemplo abaixo:\n",
    "    Fatorial de: 5\n",
    "    5! =  5 . 4 . 3 . 2 . 1 = 120"
   ],
   "metadata": {
    "collapsed": false
   }
  },
  {
   "cell_type": "code",
   "execution_count": 18,
   "outputs": [],
   "source": [
    "fact: int = int(input('Digite um número inteiro'))\n",
    "p: str = f'{fact}! = '\n",
    "res: int = 1"
   ],
   "metadata": {
    "collapsed": false
   }
  },
  {
   "cell_type": "code",
   "execution_count": 19,
   "outputs": [],
   "source": [
    "for n in range(fact, 0, -1):\n",
    "    p += f'{n} . '\n",
    "    res *= n"
   ],
   "metadata": {
    "collapsed": false
   }
  },
  {
   "cell_type": "code",
   "execution_count": 20,
   "outputs": [
    {
     "name": "stdout",
     "output_type": "stream",
     "text": [
      "Fatorial de: 5\n",
      "5! = 5 . 4 . 3 . 2 . 1  = 120\n"
     ]
    }
   ],
   "source": [
    "print(f'Fatorial de: {fact}')\n",
    "print(f'{p[:len(p) - 2]} = {res}')"
   ],
   "metadata": {
    "collapsed": false
   }
  }
 ],
 "metadata": {
  "kernelspec": {
   "display_name": "Python 3",
   "language": "python",
   "name": "python3"
  },
  "language_info": {
   "codemirror_mode": {
    "name": "ipython",
    "version": 2
   },
   "file_extension": ".py",
   "mimetype": "text/x-python",
   "name": "python",
   "nbconvert_exporter": "python",
   "pygments_lexer": "ipython2",
   "version": "2.7.6"
  }
 },
 "nbformat": 4,
 "nbformat_minor": 0
}
