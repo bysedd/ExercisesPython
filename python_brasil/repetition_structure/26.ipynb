{
 "cells": [
  {
   "cell_type": "markdown",
   "source": [
    "# Numa eleição existem três candidatos. Faça um programa que peça o número total de eleitores. Peça para cada eleitor votar e ao final mostrar o número de votos de cada candidato."
   ],
   "metadata": {
    "collapsed": false
   }
  },
  {
   "cell_type": "code",
   "execution_count": 52,
   "outputs": [],
   "source": [
    "from random import choices"
   ],
   "metadata": {
    "collapsed": false
   }
  },
  {
   "cell_type": "code",
   "execution_count": 53,
   "outputs": [],
   "source": [
    "candidatos = [\n",
    "    {'nome': 'Bolsonaro', 'partido': 'PL', 'numero': 22, 'votos': 0},\n",
    "    {'nome': 'Lula', 'partido': 'PT', 'numero': 13, 'votos': 0},\n",
    "    {'nome': 'Ciro Gomes', 'partido': 'PDT', 'numero': 12, 'votos': 0},\n",
    "    {'nome': 'Simone Tebet', 'partido': 'MDB', 'numero': 15, 'votos': 0},\n",
    "    {'nome': \"Felipe D'Ávila\", 'partido': 'NOVO', 'numero': 30, 'votos': 0},\n",
    "    {'nome': 'Soraya Thronicke', 'partido': 'UNIÃO BRASIL', 'numero': 44, 'votos': 0},\n",
    "    {'nome': 'Constituinte Eymael', 'partido': 'DC', 'numero': 27, 'votos': 0},\n",
    "    {'nome': 'Vera Lúcia', 'partido': 'PSTU', 'numero': 16, 'votos': 0},\n",
    "    {'nome': 'Leonardo Péricles', 'partido': 'UP', 'numero': 80, 'votos': 0},\n",
    "    {'nome': 'Sofia Manzano', 'partido': 'PCB', 'numero': 21, 'votos': 0},\n",
    "    {'nome': 'Kelmon Souza', 'partido': 'PTB', 'numero': 14, 'votos': 0},\n",
    "]"
   ],
   "metadata": {
    "collapsed": false
   }
  },
  {
   "cell_type": "code",
   "execution_count": 54,
   "outputs": [],
   "source": [
    "eleitores = int(input('Quantos eleitores irão votar?'))  # 156 000 000"
   ],
   "metadata": {
    "collapsed": false
   }
  },
  {
   "cell_type": "code",
   "execution_count": 55,
   "outputs": [],
   "source": [
    "for n in range(eleitores):\n",
    "    voto = choices((22, 13, 12, 15, 30, 44, 27, 16, 80, 21, 14))[0]\n",
    "    for c in candidatos:\n",
    "        if voto == c['numero']:\n",
    "            c['votos'] += 1"
   ],
   "metadata": {
    "collapsed": false
   }
  },
  {
   "cell_type": "code",
   "execution_count": 56,
   "outputs": [
    {
     "name": "stdout",
     "output_type": "stream",
     "text": [
      "Ciro Gomes (PDT): 14183386 votos.\n",
      "Simone Tebet (MDB): 14183354 votos.\n",
      "Lula (PT): 14183319 votos.\n",
      "Kelmon Souza (PTB): 14183218 votos.\n",
      "Sofia Manzano (PCB): 14183155 votos.\n",
      "Felipe D'Ávila (NOVO): 14182771 votos.\n",
      "Leonardo Péricles (UP): 14182384 votos.\n",
      "Bolsonaro (PL): 14181575 votos.\n",
      "Vera Lúcia (PSTU): 14180516 votos.\n",
      "Soraya Thronicke (UNIÃO BRASIL): 14178667 votos.\n",
      "Constituinte Eymael (DC): 14177655 votos.\n"
     ]
    }
   ],
   "source": [
    "for c in sorted(candidatos, key=lambda cand: cand['votos'], reverse=True):\n",
    "    print(f'{c[\"nome\"]} ({c[\"partido\"]}): {c[\"votos\"]} votos.')"
   ],
   "metadata": {
    "collapsed": false
   }
  }
 ],
 "metadata": {
  "kernelspec": {
   "display_name": "Python 3",
   "language": "python",
   "name": "python3"
  },
  "language_info": {
   "codemirror_mode": {
    "name": "ipython",
    "version": 2
   },
   "file_extension": ".py",
   "mimetype": "text/x-python",
   "name": "python",
   "nbconvert_exporter": "python",
   "pygments_lexer": "ipython2",
   "version": "2.7.6"
  }
 },
 "nbformat": 4,
 "nbformat_minor": 0
}
