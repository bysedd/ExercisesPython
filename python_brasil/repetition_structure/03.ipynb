{
 "cells": [
  {
   "cell_type": "markdown",
   "source": [
    "# Faça um programa que leia e valide as seguintes informações:\n",
    "    Nome: maior que 3 caracteres;\n",
    "    Idade: entre 0 e 150;\n",
    "    Salário: maior que zero;\n",
    "    Sexo: 'f' ou 'm';\n",
    "    Estado Civil: 's', 'c', 'v', 'd';"
   ],
   "metadata": {
    "collapsed": false,
    "pycharm": {
     "name": "#%% md\n"
    }
   }
  },
  {
   "cell_type": "code",
   "execution_count": 63,
   "outputs": [],
   "source": [
    "nome = input('Nome:').capitalize()\n",
    "idade = int(input('Idade:'))\n",
    "salario = float(input('Salário: $'))\n",
    "sexo = input('Sexo (\"F\" ou \"M\"):')[0].upper()\n",
    "estado_civil = input('Estado civil (\"S\", \"C\", \"V\" ou \"D\"):')[0].upper()"
   ],
   "metadata": {
    "collapsed": false,
    "pycharm": {
     "name": "#%%\n"
    }
   }
  },
  {
   "cell_type": "code",
   "execution_count": 64,
   "outputs": [],
   "source": [
    "while len(nome) < 3:\n",
    "    print('Nome inválido!')\n",
    "    nome = input('Nome:').capitalize()"
   ],
   "metadata": {
    "collapsed": false,
    "pycharm": {
     "name": "#%%\n"
    }
   }
  },
  {
   "cell_type": "code",
   "execution_count": 65,
   "outputs": [],
   "source": [
    "while 0 > idade < 150:\n",
    "    print('Idade inválida!')\n",
    "    idade = int(input('Idade:'))"
   ],
   "metadata": {
    "collapsed": false,
    "pycharm": {
     "name": "#%%\n"
    }
   }
  },
  {
   "cell_type": "code",
   "execution_count": 66,
   "outputs": [],
   "source": [
    "while salario <= 0:\n",
    "    print(f'Salário inválido! => ${salario:.2f}')\n",
    "    salario = float(input('Salário: $'))"
   ],
   "metadata": {
    "collapsed": false,
    "pycharm": {
     "name": "#%%\n"
    }
   }
  },
  {
   "cell_type": "code",
   "execution_count": 67,
   "outputs": [],
   "source": [
    "while sexo not in ['F', 'M']:\n",
    "    print('Sexo inválido!')\n",
    "    sexo = input('Sexo (\"F\" ou \"M\"):')[0].lower()"
   ],
   "metadata": {
    "collapsed": false,
    "pycharm": {
     "name": "#%%\n"
    }
   }
  },
  {
   "cell_type": "code",
   "execution_count": 68,
   "outputs": [],
   "source": [
    "while estado_civil not in ['S', 'C', 'V', 'D']:\n",
    "    print('Estado civil inválido')\n",
    "    estado_civil = input('Estado civil (\"S\", \"C\", \"V\" ou \"D\"):')[0].lower()"
   ],
   "metadata": {
    "collapsed": false,
    "pycharm": {
     "name": "#%%\n"
    }
   }
  },
  {
   "cell_type": "code",
   "execution_count": 69,
   "outputs": [],
   "source": [
    "sexo = 'Feminino' if sexo == 'F' else 'Masculino'"
   ],
   "metadata": {
    "collapsed": false,
    "pycharm": {
     "name": "#%%\n"
    }
   }
  },
  {
   "cell_type": "code",
   "execution_count": 70,
   "outputs": [],
   "source": [
    "if estado_civil == 'S':\n",
    "    estado_civil = 'Solteiro'\n",
    "elif estado_civil == 'C':\n",
    "    estado_civil = 'Casado'\n",
    "elif estado_civil == 'V':\n",
    "    estado_civil = 'Viúvo'\n",
    "elif estado_civil == 'D':\n",
    "    estado_civil = 'Divorciado'\n",
    "else:\n",
    "    estado_civil = 'Não identificado'"
   ],
   "metadata": {
    "collapsed": false,
    "pycharm": {
     "name": "#%%\n"
    }
   }
  },
  {
   "cell_type": "code",
   "execution_count": 71,
   "outputs": [
    {
     "name": "stdout",
     "output_type": "stream",
     "text": [
      "Nome: Felippe\n",
      "Idade: 17 anos\n",
      "Salário: $1324.00\n",
      "Gênero: Masculino\n",
      "Estado civil: Solteiro\n"
     ]
    }
   ],
   "source": [
    "print(f'Nome: {nome}\\n'\n",
    "      f'Idade: {idade} anos\\n'\n",
    "      f'Salário: ${salario:.2f}\\n'\n",
    "      f'Gênero: {sexo}\\n'\n",
    "      f'Estado civil: {estado_civil}')"
   ],
   "metadata": {
    "collapsed": false,
    "pycharm": {
     "name": "#%%\n"
    }
   }
  }
 ],
 "metadata": {
  "kernelspec": {
   "display_name": "Python 3",
   "language": "python",
   "name": "python3"
  },
  "language_info": {
   "codemirror_mode": {
    "name": "ipython",
    "version": 2
   },
   "file_extension": ".py",
   "mimetype": "text/x-python",
   "name": "python",
   "nbconvert_exporter": "python",
   "pygments_lexer": "ipython2",
   "version": "2.7.6"
  }
 },
 "nbformat": 4,
 "nbformat_minor": 0
}