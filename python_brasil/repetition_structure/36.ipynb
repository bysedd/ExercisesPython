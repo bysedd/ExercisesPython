{
 "cells": [
  {
   "cell_type": "markdown",
   "source": [
    "# Desenvolva um programa que faça a tabuada de um número qualquer inteiro que será digitado pelo usuário, mas a tabuada não deve necessariamente iniciar em 1 e terminar em 10, o valor inicial e final devem ser informados também pelo usuário, conforme exemplo abaixo:\n",
    "    Montar a tabuada de: 5\n",
    "    Começar por: 4\n",
    "    Terminar em: 7\n",
    "\n",
    "    Vou montar a tabuada de 5 começando em 4 e terminando em 7:\n",
    "    5 X 4 = 20\n",
    "    5 X 5 = 25\n",
    "    5 X 6 = 30\n",
    "    5 X 7 = 35\n",
    "Obs: Você deve verificar se o usuário não digitou o final menor que o inicial."
   ],
   "metadata": {
    "collapsed": false
   }
  },
  {
   "cell_type": "code",
   "execution_count": 23,
   "outputs": [],
   "source": [
    "num: int = int(input('Montar a tabuada de:'))\n",
    "start: int = int(input('Começar por:'))\n",
    "end: int = int(input('Terminar em:'))"
   ],
   "metadata": {
    "collapsed": false
   }
  },
  {
   "cell_type": "code",
   "execution_count": 24,
   "outputs": [],
   "source": [
    "test = start"
   ],
   "metadata": {
    "collapsed": false
   }
  },
  {
   "cell_type": "code",
   "execution_count": 25,
   "outputs": [],
   "source": [
    "start = min(start, end)\n",
    "end = max(test, end)"
   ],
   "metadata": {
    "collapsed": false
   }
  },
  {
   "cell_type": "code",
   "execution_count": 26,
   "outputs": [
    {
     "name": "stdout",
     "output_type": "stream",
     "text": [
      "Vou montar a tabuada de 5 começando em 4 e terminando em 7:\n",
      "5 X 4 = 20\n",
      "5 X 5 = 25\n",
      "5 X 6 = 30\n",
      "5 X 7 = 35\n"
     ]
    }
   ],
   "source": [
    "print(f'Vou montar a tabuada de {num} começando em {start} e terminando em {end}:')\n",
    "for n in range(start, end + 1):\n",
    "    print(f'{num} X {n} = {num * n}')"
   ],
   "metadata": {
    "collapsed": false
   }
  }
 ],
 "metadata": {
  "kernelspec": {
   "display_name": "Python 3",
   "language": "python",
   "name": "python3"
  },
  "language_info": {
   "codemirror_mode": {
    "name": "ipython",
    "version": 2
   },
   "file_extension": ".py",
   "mimetype": "text/x-python",
   "name": "python",
   "nbconvert_exporter": "python",
   "pygments_lexer": "ipython2",
   "version": "2.7.6"
  }
 },
 "nbformat": 4,
 "nbformat_minor": 0
}
