{
 "cells": [
  {
   "cell_type": "markdown",
   "source": [
    "# Faça um programa que receba o valor de uma dívida e mostre uma tabela com os seguintes dados: valor da dívida, valor dos juros, quantidade de parcelas e valor da parcela.\n",
    "    Os juros e a quantidade de parcelas seguem a tabela abaixo:\n",
    "    Quantidade de Parcelas  % de Juros sobre o valor inicial da dívida\n",
    "    1       0\n",
    "    3       10\n",
    "    6       15\n",
    "    9       20\n",
    "    12      25\n",
    "# Exemplo de saída do programa:\n",
    "    Valor da Dívida Valor dos Juros Quantidade de Parcelas  Valor da Parcela\n",
    "    RS 1.000,00     0               1                       RS  1.000,00\n",
    "    RS 1.100,00     100             3                       RS    366,00\n",
    "    RS 1.150,00     150             6                       RS    191,67"
   ],
   "metadata": {
    "collapsed": false
   }
  },
  {
   "cell_type": "code",
   "execution_count": 199,
   "outputs": [],
   "source": [
    "divida = float(input('Valor da dívida: R$'))\n",
    "juros = 0\n",
    "parcelas = [1, 3, 6, 9, 12]"
   ],
   "metadata": {
    "collapsed": false
   }
  },
  {
   "cell_type": "code",
   "execution_count": 200,
   "outputs": [],
   "source": [
    "copy = divida"
   ],
   "metadata": {
    "collapsed": false
   }
  },
  {
   "cell_type": "code",
   "execution_count": 201,
   "outputs": [
    {
     "name": "stdout",
     "output_type": "stream",
     "text": [
      "Valor da Dívida Valor dos Juros Quantidade de Parcelas Valor da Parcela\n",
      "R$ 245.95       0               1                      R$    245.95\n",
      "R$ 270.54       25              3                      R$     90.18\n",
      "R$ 282.84       37              6                      R$     47.14\n",
      "R$ 295.14       49              9                      R$     32.79\n",
      "R$ 307.44       61              12                     R$     25.62\n"
     ]
    }
   ],
   "source": [
    "print(f'Valor da Dívida Valor dos Juros Quantidade de Parcelas Valor da Parcela')\n",
    "for i in range(5):\n",
    "    divida = copy\n",
    "    if parcelas[i] == 3:\n",
    "        divida += copy * 0.1\n",
    "    elif parcelas[i] == 6:\n",
    "        divida += copy * 0.15\n",
    "    elif parcelas[i] == 9:\n",
    "        divida += copy * 0.2\n",
    "    elif parcelas[i] == 12:\n",
    "        divida += copy * 0.25\n",
    "\n",
    "    print(f'R$ {divida:<13,.2f}{(divida - copy):<16.0f}{parcelas[i]:<23}R${(divida / parcelas[i]):>10,.2f}')"
   ],
   "metadata": {
    "collapsed": false
   }
  }
 ],
 "metadata": {
  "kernelspec": {
   "display_name": "Python 3",
   "language": "python",
   "name": "python3"
  },
  "language_info": {
   "codemirror_mode": {
    "name": "ipython",
    "version": 2
   },
   "file_extension": ".py",
   "mimetype": "text/x-python",
   "name": "python",
   "nbconvert_exporter": "python",
   "pygments_lexer": "ipython2",
   "version": "2.7.6"
  }
 },
 "nbformat": 4,
 "nbformat_minor": 0
}
