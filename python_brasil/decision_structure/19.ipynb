{
 "cells": [
  {
   "cell_type": "markdown",
   "source": [
    "# Faça um Programa que leia um número inteiro menor que 1000 e imprima a quantidade de centenas, dezenas e unidades do mesmo.\n",
    "    Observando os termos no plural a colocação do \"e\", da vírgula entre outros. Exemplo:\n",
    "    326 = 3 centenas, 2 dezenas e 6 unidades\n",
    "    12 = 1 dezena e 2 unidades\n",
    "    Testar com: 326, 300, 100, 320, 310,305, 301, 101, 311, 111, 25, 20, 10, 21, 11, 1, 7 e 16"
   ],
   "metadata": {
    "collapsed": false,
    "pycharm": {
     "name": "#%% md\n"
    }
   }
  },
  {
   "cell_type": "code",
   "execution_count": 328,
   "outputs": [],
   "source": [
    "num = input('Digite um número menor que 1000').split()[0]"
   ],
   "metadata": {
    "collapsed": false,
    "pycharm": {
     "name": "#%%\n"
    }
   }
  },
  {
   "cell_type": "code",
   "execution_count": 329,
   "outputs": [],
   "source": [
    "centenas = 0\n",
    "dezenas = 0\n",
    "unidades = 0"
   ],
   "metadata": {
    "collapsed": false,
    "pycharm": {
     "name": "#%%\n"
    }
   }
  },
  {
   "cell_type": "code",
   "execution_count": 330,
   "outputs": [],
   "source": [
    "try:\n",
    "    if len(num) == 3:\n",
    "        centenas = int(num[0])\n",
    "        dezenas = int(num[1])\n",
    "        unidades = int(num[2])\n",
    "\n",
    "    elif len(num) == 2:\n",
    "        dezenas = int(num[0])\n",
    "        unidades = int(num[1])\n",
    "\n",
    "    elif len(num) == 1:\n",
    "        unidades = int(num[0])\n",
    "except ValueError:\n",
    "    print('Valor incorreto!')"
   ],
   "metadata": {
    "collapsed": false,
    "pycharm": {
     "name": "#%%\n"
    }
   }
  },
  {
   "cell_type": "code",
   "execution_count": 331,
   "outputs": [
    {
     "name": "stdout",
     "output_type": "stream",
     "text": [
      "16 = 1 dezena e 6 unidades\n"
     ]
    }
   ],
   "source": [
    "if not centenas and not dezenas and not unidades:\n",
    "    print('Número inválido!')\n",
    "\n",
    "else:\n",
    "    print(num, end=' = ')\n",
    "\n",
    "    if centenas == 1:\n",
    "        print('1 centena', end='')\n",
    "    elif centenas > 1:\n",
    "        print(f'{centenas} centenas', end='')\n",
    "\n",
    "    if not centenas:\n",
    "        if dezenas == 1:\n",
    "            print('1 dezena', end='')\n",
    "        elif dezenas > 1:\n",
    "            print(f'{dezenas} dezenas', end='')\n",
    "    elif unidades:\n",
    "        if dezenas == 1:\n",
    "            print(', 1 dezena', end='')\n",
    "        elif dezenas > 1:\n",
    "            print(f', {dezenas} dezenas', end='')\n",
    "    else:\n",
    "        if dezenas == 1:\n",
    "            print(' e 1 dezena', end='')\n",
    "        elif dezenas > 1:\n",
    "            print(f' e {dezenas} dezenas', end='')\n",
    "\n",
    "    if not centenas and not dezenas:\n",
    "        if unidades == 1:\n",
    "            print('1 unidade')\n",
    "        elif unidades > 1:\n",
    "            print(f'{unidades} unidades')\n",
    "    else:\n",
    "        if unidades == 1:\n",
    "            print(' e 1 unidade')\n",
    "        elif unidades > 1:\n",
    "            print(f' e {unidades} unidades')"
   ],
   "metadata": {
    "collapsed": false,
    "pycharm": {
     "name": "#%%\n"
    }
   }
  }
 ],
 "metadata": {
  "kernelspec": {
   "display_name": "Python 3",
   "language": "python",
   "name": "python3"
  },
  "language_info": {
   "codemirror_mode": {
    "name": "ipython",
    "version": 2
   },
   "file_extension": ".py",
   "mimetype": "text/x-python",
   "name": "python",
   "nbconvert_exporter": "python",
   "pygments_lexer": "ipython2",
   "version": "2.7.6"
  }
 },
 "nbformat": 4,
 "nbformat_minor": 0
}