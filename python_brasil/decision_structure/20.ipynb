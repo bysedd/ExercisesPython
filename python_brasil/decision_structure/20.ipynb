{
 "cells": [
  {
   "cell_type": "markdown",
   "source": [
    "# Faça um Programa para leitura de três notas parciais de um aluno. O programa deve calcular a média alcançada por aluno e presentar:\n",
    "    A mensagem \"Aprovado\", se a média for maior ou igual a 7, com a respectiva média alcançada;\n",
    "    A mensagem \"Reprovado\", se a média for menor que 7, com a respectiva média alcançada;\n",
    "    A mensagem \"Aprovado com Distinção\", se a média for igual a 10."
   ],
   "metadata": {
    "collapsed": false,
    "pycharm": {
     "name": "#%% md\n"
    }
   }
  },
  {
   "cell_type": "code",
   "execution_count": 56,
   "outputs": [],
   "source": [
    "notas = list()\n",
    "qtd_notas = 3"
   ],
   "metadata": {
    "collapsed": false,
    "pycharm": {
     "name": "#%%\n"
    }
   }
  },
  {
   "cell_type": "code",
   "execution_count": 57,
   "outputs": [],
   "source": [
    "for nota in range(qtd_notas):\n",
    "    notas.append(float(input(f'{nota + 1}ª nota')))"
   ],
   "metadata": {
    "collapsed": false,
    "pycharm": {
     "name": "#%%\n"
    }
   }
  },
  {
   "cell_type": "code",
   "execution_count": 58,
   "outputs": [],
   "source": [
    "media = sum(notas) / qtd_notas"
   ],
   "metadata": {
    "collapsed": false,
    "pycharm": {
     "name": "#%%\n"
    }
   }
  },
  {
   "cell_type": "code",
   "execution_count": 59,
   "outputs": [
    {
     "name": "stdout",
     "output_type": "stream",
     "text": [
      "Média do aluno: 9.7\n",
      "Aprovado\n"
     ]
    }
   ],
   "source": [
    "if 0 <= media <= 10:\n",
    "    print(f'Média do aluno: {round(media, 1)}')\n",
    "\n",
    "    if media < 7:\n",
    "        print('Reprovado')\n",
    "    elif media < 10:\n",
    "        print('Aprovado')\n",
    "    elif media == 10:\n",
    "        print('Aprovado com Distinção')\n",
    "\n",
    "else:\n",
    "    print('Média inválida')"
   ],
   "metadata": {
    "collapsed": false,
    "pycharm": {
     "name": "#%%\n"
    }
   }
  }
 ],
 "metadata": {
  "kernelspec": {
   "display_name": "Python 3",
   "language": "python",
   "name": "python3"
  },
  "language_info": {
   "codemirror_mode": {
    "name": "ipython",
    "version": 2
   },
   "file_extension": ".py",
   "mimetype": "text/x-python",
   "name": "python",
   "nbconvert_exporter": "python",
   "pygments_lexer": "ipython2",
   "version": "2.7.6"
  }
 },
 "nbformat": 4,
 "nbformat_minor": 0
}