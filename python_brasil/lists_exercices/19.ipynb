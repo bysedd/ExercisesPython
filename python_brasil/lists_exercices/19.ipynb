{
 "cells": [
  {
   "cell_type": "markdown",
   "metadata": {},
   "source": [
    "##### Uma empresa de pesquisas precisa tabular os resultados da seguinte enquete feita a um grande quantidade de organizações:\n",
    "\n",
    "    \"Qual o melhor Sistema Operacional para uso em servidores?\"\n",
    "\n",
    "    As possíveis respostas são:\n",
    "\n",
    "    1- Windows Server\n",
    "    2- Unix\n",
    "    3- Linux\n",
    "    4- Netware\n",
    "    5- Mac OS\n",
    "    6- Outro\n",
    "\n",
    "##### Você foi contratado para desenvolver um programa que leia o resultado da enquete e informe ao final o resultado da mesma. O programa deverá ler os valores até ser informado o valor 0, que encerra a entrada dos dados. Não deverão ser aceitos valores além dos válidos para o programa (0 a 6). Os valores referentes a cada uma das opções devem ser armazenados num vetor. Após os dados terem sido completamente informados, o programa deverá calcular a percentual de cada um dos concorrentes e informar o vencedor da enquete. O formato da saída foi dado pela empresa, e é o seguinte:\n",
    "\n",
    "    Sistema Operacional     Votos   %\n",
    "    -------------------     -----   ---\n",
    "    Windows Server           1500   17%\n",
    "    Unix                     3500   40%\n",
    "    Linux                    3000   34%\n",
    "    Netware                   500    5%\n",
    "    Mac OS                    150    2%\n",
    "    Outro                     150    2%\n",
    "    -------------------     -----\n",
    "    Total                    8800\n",
    "\n",
    "    O Sistema Operacional mais votado foi o Unix, com 3500 votos, correspondendo a 40% dos votos.\n"
   ]
  },
  {
   "cell_type": "code",
   "execution_count": 1,
   "metadata": {},
   "outputs": [],
   "source": [
    "from random import randint\n"
   ]
  },
  {
   "cell_type": "code",
   "execution_count": 2,
   "metadata": {},
   "outputs": [],
   "source": [
    "sistemas = [\n",
    "    {'nome': 'Windows Server', 'votos': randint(100, 3000)},\n",
    "    {'nome': 'Unix', 'votos': randint(100, 3000)},\n",
    "    {'nome': 'Linux', 'votos': randint(100, 3000)},\n",
    "    {'nome': 'Netware', 'votos': randint(100, 3000)},\n",
    "    {'nome': 'Mac OS', 'votos': randint(100, 3000)},\n",
    "    {'nome': 'Outro', 'votos': randint(100, 3000)},\n",
    "]\n"
   ]
  },
  {
   "cell_type": "code",
   "execution_count": 3,
   "metadata": {},
   "outputs": [],
   "source": [
    "total = sum([sistema['votos'] for sistema in sistemas])\n"
   ]
  },
  {
   "cell_type": "code",
   "execution_count": 4,
   "metadata": {},
   "outputs": [],
   "source": [
    "for sistema in sistemas:\n",
    "    sistema['%'] = round(sistema['votos'] / total * 100, 2)\n"
   ]
  },
  {
   "cell_type": "code",
   "execution_count": 5,
   "metadata": {},
   "outputs": [
    {
     "name": "stdout",
     "output_type": "stream",
     "text": [
      "Sistema Operacional     Votos  %\n",
      "-------------------     -----  ---\n",
      "Windows Server          2956   27%\n",
      "Unix                    1278   12%\n",
      "Linux                   1648   15%\n",
      "Netware                 2495   23%\n",
      "Mac OS                  180    2%\n",
      "Outro                   2513   23%\n",
      "-------------------     -----\n",
      "Total                   11070\n"
     ]
    }
   ],
   "source": [
    "print('Sistema Operacional     Votos  %')\n",
    "print('-------------------     -----  ---')\n",
    "for sistema in sistemas:\n",
    "    print(f'{sistema[\"nome\"]:<24}{sistema[\"votos\"]:<7}{round(sistema[\"%\"])}%')\n",
    "print('-------------------     -----')\n",
    "print(f'{\"Total\":<24}{total}')\n"
   ]
  }
 ],
 "metadata": {
  "kernelspec": {
   "display_name": "Python 3.10.6 64-bit",
   "language": "python",
   "name": "python3"
  },
  "language_info": {
   "codemirror_mode": {
    "name": "ipython",
    "version": 3
   },
   "file_extension": ".py",
   "mimetype": "text/x-python",
   "name": "python",
   "nbconvert_exporter": "python",
   "pygments_lexer": "ipython3",
   "version": "3.10.6"
  },
  "orig_nbformat": 4,
  "vscode": {
   "interpreter": {
    "hash": "cd2599c6b68dedd60ea320e66b986a2dd5fb60e916295c3598e8006f9d0aa287"
   }
  }
 },
 "nbformat": 4,
 "nbformat_minor": 2
}
