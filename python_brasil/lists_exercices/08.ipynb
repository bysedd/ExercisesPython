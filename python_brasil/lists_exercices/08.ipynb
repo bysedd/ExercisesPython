{
 "cells": [
  {
   "cell_type": "markdown",
   "source": [
    "# Faça um Programa que peça a idade e a altura de 5 pessoas, armazene cada informação no seu respectivo vetor. Imprima a idade e a altura na ordem inversa a ordem lida."
   ],
   "metadata": {
    "collapsed": false
   }
  },
  {
   "cell_type": "code",
   "execution_count": 2,
   "outputs": [],
   "source": [
    "pessoas = []"
   ],
   "metadata": {
    "collapsed": false
   }
  },
  {
   "cell_type": "code",
   "execution_count": 3,
   "outputs": [],
   "source": [
    "for p in range(5):\n",
    "    idade = int(input(f'#{p + 1} Idade:'))\n",
    "    altura = float(input(f'#{p + 1} Altura:'))\n",
    "    pessoas.append((idade, altura))"
   ],
   "metadata": {
    "collapsed": false
   }
  },
  {
   "cell_type": "code",
   "execution_count": 46,
   "outputs": [
    {
     "data": {
      "text/plain": "[(14, 1.7), (25, 1.77), (5, 1.4), (9, 1.6), (11, 1.5)]"
     },
     "execution_count": 46,
     "metadata": {},
     "output_type": "execute_result"
    }
   ],
   "source": [
    "pessoas"
   ],
   "metadata": {
    "collapsed": false
   }
  },
  {
   "cell_type": "code",
   "execution_count": 45,
   "outputs": [
    {
     "name": "stdout",
     "output_type": "stream",
     "text": [
      "Altura: 1.70 | Idade:  14\n",
      "Altura: 1.77 | Idade:  25\n",
      "Altura: 1.40 | Idade:   5\n",
      "Altura: 1.60 | Idade:   9\n",
      "Altura: 1.50 | Idade:  11\n"
     ]
    }
   ],
   "source": [
    "for pessoa in pessoas:\n",
    "    print(f'Altura: {pessoa[1]:.2f} | Idade: {pessoa[0]:>3}')"
   ],
   "metadata": {
    "collapsed": false
   }
  }
 ],
 "metadata": {
  "kernelspec": {
   "display_name": "Python 3",
   "language": "python",
   "name": "python3"
  },
  "language_info": {
   "codemirror_mode": {
    "name": "ipython",
    "version": 2
   },
   "file_extension": ".py",
   "mimetype": "text/x-python",
   "name": "python",
   "nbconvert_exporter": "python",
   "pygments_lexer": "ipython2",
   "version": "2.7.6"
  }
 },
 "nbformat": 4,
 "nbformat_minor": 0
}
